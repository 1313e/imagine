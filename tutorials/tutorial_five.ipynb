{
 "cells": [
  {
   "cell_type": "markdown",
   "metadata": {},
   "source": [
    "# Example pipeline: WMAP model\n",
    "\n",
    "<span style=\"color:red\">WARNING: this tutorial is still under development!</span>\n",
    "\n",
    "In this tutorial, we will illustrate a more realistic use of IMAGINE: to show how to constrain a few parameters of the WMAP GMF model. \n",
    "\n",
    "We will first prepare a mock dataset, using Hammurabi itself for this. Then, assemble the pipeline and execute it."
   ]
  },
  {
   "cell_type": "markdown",
   "metadata": {},
   "source": [
    "First, let us import the necessary packages."
   ]
  },
  {
   "cell_type": "code",
   "execution_count": 1,
   "metadata": {},
   "outputs": [],
   "source": [
    "# External packages \n",
    "import numpy as np\n",
    "import healpy as hp\n",
    "import astropy.units as u\n",
    "import corner\n",
    "import matplotlib.pyplot as plt\n",
    "# IMAGINE\n",
    "import imagine as img\n",
    "import imagine.observables as img_obs\n",
    "## WMAP field factories\n",
    "from imagine.fields.hamx import BregLSA, BregLSAFactory\n",
    "from imagine.fields.hamx import TEregYMW16, TEregYMW16Factory\n",
    "from imagine.fields.hamx import CREAna, CREAnaFactory\n",
    "from imagine.fields.hamx import BrndES, BrndESFactory"
   ]
  },
  {
   "cell_type": "markdown",
   "metadata": {},
   "source": [
    "## Preparing the mock data\n",
    "\n",
    "Let's make a very low resolution map of synchrotron total I and Faraday depth from the WMAP model, including a random compnent:"
   ]
  },
  {
   "cell_type": "code",
   "execution_count": 2,
   "metadata": {},
   "outputs": [
    {
     "name": "stdout",
     "output_type": "stream",
     "text": [
      "observable {}\n",
      "|-->  sync {'cue': '1', 'freq': '23', 'nside': '2'}\n",
      "|-->  faraday {'cue': '1', 'nside': '2'}\n"
     ]
    }
   ],
   "source": [
    "## Sets the resolution\n",
    "nside=2\n",
    "size = 12*nside**2 \n",
    "\n",
    "# Generates the fake datasets \n",
    "sync_dset = img_obs.SynchrotronHEALPixDataset(data=np.empty(size)*u.K, \n",
    "                                              frequency=23, type='I')\n",
    "fd_dset = img_obs.FaradayDepthHEALPixDataset(data=np.empty(size)*u.rad/u.m**2)\n",
    "\n",
    "# Appends them to an Observables Dictionary\n",
    "trigger = img_obs.Measurements()\n",
    "trigger.append(dataset=sync_dset)\n",
    "trigger.append(dataset=fd_dset)\n",
    "\n",
    "# Prepares the Hammurabi simmulator for the mock generation\n",
    "mock_generator = img.simulators.Hammurabi(measurements=trigger)"
   ]
  },
  {
   "cell_type": "markdown",
   "metadata": {},
   "source": [
    "We will feed the `mock_generator` simulator with selected Dummy fields."
   ]
  },
  {
   "cell_type": "code",
   "execution_count": 3,
   "metadata": {},
   "outputs": [],
   "source": [
    "# BregLSA field\n",
    "breg_lsa = BregLSA(parameters={'b0':3, 'psi0': 27.0, 'psi1': 0.9, 'chi0': 25.0})\n",
    "\n",
    "# CREAna field\n",
    "cre_ana = CREAna(parameters={'alpha': 3.0, 'beta': 0.0, 'theta': 0.0,\n",
    "                             'r0': 5.0, 'z0': 1.0,\n",
    "                             'E0': 20.6, 'j0': 0.0217})\n",
    "\n",
    "# TEregYMW16 field\n",
    "tereg_ymw16 = TEregYMW16(parameters={})\n",
    "\n",
    "## Random field\n",
    "brnd_es = BrndES(parameters={'rms': 3., 'k0': 0.5, 'a0': 1.7,\n",
    "                             'k1': 0.5, 'a1': 0.0,\n",
    "                             'rho': 0.5, 'r0': 8., 'z0': 1.},\n",
    "                 grid_nx=25, grid_ny=25, grid_nz=15)"
   ]
  },
  {
   "cell_type": "code",
   "execution_count": 4,
   "metadata": {},
   "outputs": [],
   "source": [
    "## Generate mock data (run hammurabi)\n",
    "outputs = mock_generator([breg_lsa, brnd_es, cre_ana, tereg_ymw16])"
   ]
  },
  {
   "cell_type": "markdown",
   "metadata": {},
   "source": [
    "To make a realistic mock, we add to these outputs, which where constructed from a model with known parameter, some noise, which assumed to be proportional to the average synchrotron intensity."
   ]
  },
  {
   "cell_type": "code",
   "execution_count": 5,
   "metadata": {},
   "outputs": [
    {
     "data": {
      "image/png": "[encoded data removed]",
      "text/plain": [
       "<Figure size 720x288 with 4 Axes>"
      ]
     },
     "metadata": {
      "needs_background": "light"
     },
     "output_type": "display_data"
    }
   ],
   "source": [
    "## Collect the outputs\n",
    "mockedI = outputs[('sync', '23', str(nside), 'I')].global_data[0]\n",
    "mockedRM = outputs[('fd', 'nan', str(nside), 'nan')].global_data[0]\n",
    "dm=np.mean(mockedI)\n",
    "dv=np.std(mockedI)\n",
    "\n",
    "## Add some noise that's just proportional to the average sync I by the factor err\n",
    "err=0.01\n",
    "dataI = (mockedI + np.random.normal(loc=0, scale=err*dm, size=size)) << u.K\n",
    "errorI = ((err*dm)**2) << u.K\n",
    "sync_dset = img_obs.SynchrotronHEALPixDataset(data=dataI, error=errorI,\n",
    "                                              frequency=23, type='I')\n",
    "\n",
    "## Just 0.01*50 rad/m^2 of error for noise.  \n",
    "dataRM = (mockedRM + np.random.normal(loc=0.,scale=err*50.,size=12*nside**2))*u.rad/u.m/u.m\n",
    "errorRM = ((err*50.)**2) << u.rad/u.m**2\n",
    "fd_dset = img_obs.FaradayDepthHEALPixDataset(data=dataRM, error=errorRM)\n",
    "\n",
    "\n",
    "fig = plt.figure(figsize=(10.0, 4.0))\n",
    "hp.mollview(dataI, norm='hist', cmap='jet',sub=(1,2,1),title=\"total I\",unit=dataI.unit, fig=fig)\n",
    "hp.mollview(dataRM, norm='hist', cmap='jet',sub=(1,2,2),title=\"RM\",unit=dataRM.unit,fig=fig)"
   ]
  },
  {
   "cell_type": "markdown",
   "metadata": {},
   "source": [
    "We are ready to include the above data in `Measurements` and  objects"
   ]
  },
  {
   "cell_type": "code",
   "execution_count": 6,
   "metadata": {},
   "outputs": [],
   "source": [
    "mock_data = img_obs.Measurements()\n",
    "mock_data.append(dataset=sync_dset)\n",
    "mock_data.append(dataset=fd_dset)\n",
    "\n",
    "mock_cov = img_obs.Covariances()\n",
    "mock_cov.append(dataset=sync_dset)\n",
    "mock_cov.append(dataset=fd_dset)"
   ]
  },
  {
   "cell_type": "markdown",
   "metadata": {},
   "source": [
    "## Assembling the pipeline\n",
    "\n",
    "After preparing our mock data, we can proceed with the set up of the IMAGINE pipeline. First, we initialize the `Likelihood`, using the mock observational data"
   ]
  },
  {
   "cell_type": "code",
   "execution_count": 7,
   "metadata": {},
   "outputs": [],
   "source": [
    "## Use an ensemble to estimate the galactic variance\n",
    "likelihood = img.likelihoods.EnsembleLikelihood(mock_data, mock_cov)"
   ]
  },
  {
   "cell_type": "markdown",
   "metadata": {},
   "source": [
    "Then, we prepara the `FieldFactory` list:"
   ]
  },
  {
   "cell_type": "code",
   "execution_count": 8,
   "metadata": {},
   "outputs": [],
   "source": [
    "## WMAP B-field, vary only b0 and psi0\n",
    "breg_factory = BregLSAFactory()\n",
    "breg_factory.active_parameters = ('b0', 'psi0')\n",
    "breg_factory.priors = {'b0':  img.priors.FlatPrior(interval=[0., 10.]), \n",
    "                      'psi0': img.priors.FlatPrior(interval=[0., 50.])}\n",
    "## Random B-field, vary only RMS amplitude\n",
    "brnd_factory = BrndESFactory(grid_nx=25, grid_ny=25, grid_nz=15)\n",
    "brnd_factory.active_parameters = ('rms',)\n",
    "brnd_factory.priors = {'rms': img.priors.FlatPrior(interval=[0., 10.])}\n",
    "## Fixed CR model\n",
    "cre_factory = CREAnaFactory()\n",
    "## Fixed FE model\n",
    "fereg_factory = TEregYMW16Factory()\n",
    "\n",
    "# Final Field factory list\n",
    "factory_list = [breg_factory, brnd_factory, cre_factory,\n",
    "                fereg_factory]"
   ]
  },
  {
   "cell_type": "markdown",
   "metadata": {},
   "source": [
    "We initialize the `Simulator`, in this case: `Hammurabi` ."
   ]
  },
  {
   "cell_type": "code",
   "execution_count": 9,
   "metadata": {},
   "outputs": [
    {
     "name": "stdout",
     "output_type": "stream",
     "text": [
      "observable {}\n",
      "|-->  sync {'cue': '1', 'freq': '23', 'nside': '2'}\n",
      "|-->  faraday {'cue': '1', 'nside': '2'}\n"
     ]
    }
   ],
   "source": [
    "simulator = img.simulators.Hammurabi(measurements=mock_data)"
   ]
  },
  {
   "cell_type": "markdown",
   "metadata": {},
   "source": [
    "Finally, we initialize and setup the `Pipeline` itself, using the `Multinest` sampler."
   ]
  },
  {
   "cell_type": "code",
   "execution_count": 10,
   "metadata": {},
   "outputs": [],
   "source": [
    "pipeline = img.pipelines.MultinestPipeline(simulator=simulator, \n",
    "                                           factory_list=factory_list, \n",
    "                                           likelihood=likelihood, \n",
    "                                           ensemble_size=20)\n",
    "pipeline.sampling_controllers = {'n_live_points': 100}"
   ]
  },
  {
   "cell_type": "markdown",
   "metadata": {},
   "source": [
    "## Checking and running\n",
    "\n",
    "We can now finally run the pipeline using:\n",
    "```python\n",
    "results=pipeline()\n",
    "```\n",
    "\n",
    "However, before running a heavy job, it is a good idea to be able to roughly estimate how long it will take (so that one can e.g. decide whether one will read emails, prepare some coffee, or take a week of holidays while waiting for the results).\n",
    "\n",
    "One thing that can be done is checking how long the code takes to do an individual likelihood function evaluation (note that each of these include the whole ensemble).  The final likelihood function handled to the sampler can be accessed through the internal method `_likelihood_function`, which takes an array of parameter values scaled to the [0,1] interval. Below we time a randomly picked point (the timing was done on a regular personal computer)."
   ]
  },
  {
   "cell_type": "code",
   "execution_count": 11,
   "metadata": {},
   "outputs": [
    {
     "name": "stdout",
     "output_type": "stream",
     "text": [
      "CPU times: user 58.6 ms, sys: 84.9 ms, total: 143 ms\n",
      "Wall time: 1min 18s\n"
     ]
    },
    {
     "data": {
      "text/plain": [
       "32.57849554825401"
      ]
     },
     "execution_count": 11,
     "metadata": {},
     "output_type": "execute_result"
    }
   ],
   "source": [
    "%time pipeline._likelihood_function(np.array([0.5,0.5,0.5]))"
   ]
  },
  {
   "cell_type": "markdown",
   "metadata": {},
   "source": [
    "This is a large amount of time! Note that many hundreds of evaluations will be needed to be able to estimate the evidence and/or posterior distributions.\n",
    "\n",
    "Thus, we will not run the pipeline on this on this notebook. Intead, we ran the script [examples/example_pipeline.py](../examples/example_pipeline.py) on a more power machine (and the reader may want to inspect the script and do the same). "
   ]
  },
  {
   "cell_type": "markdown",
   "metadata": {},
   "source": [
    "## Analysing the results"
   ]
  },
  {
   "cell_type": "code",
   "execution_count": null,
   "metadata": {},
   "outputs": [],
   "source": []
  }
 ],
 "metadata": {
  "kernelspec": {
   "display_name": "Python (imagine)",
   "language": "python",
   "name": "imagine"
  },
  "language_info": {
   "codemirror_mode": {
    "name": "ipython",
    "version": 3
   },
   "file_extension": ".py",
   "mimetype": "text/x-python",
   "name": "python",
   "nbconvert_exporter": "python",
   "pygments_lexer": "ipython3",
   "version": "3.7.6"
  }
 },
 "nbformat": 4,
 "nbformat_minor": 4
}
