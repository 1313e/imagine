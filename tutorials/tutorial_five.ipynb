{
 "cells": [
  {
   "cell_type": "markdown",
   "metadata": {},
   "source": [
    "# IMAGINE tutorial 5 -- an almost real IMAGINE pipeline\n",
    "\n",
    "### Using the LSA magnetic field model and hammurabi X. (without MPI)\n",
    "\n",
    "Check \n",
    "- [Tutorial 1](tutorial_one.ipynb) for the description of the elements of the IMAGINE pipeline.\n",
    "- [Tutorial 3](tutorial_three.ipynb) describes how to use hammurabi X."
   ]
  },
  {
   "cell_type": "code",
   "execution_count": 1,
   "metadata": {},
   "outputs": [],
   "source": [
    "import numpy as np\n",
    "import logging as log\n",
    "import healpy as hp\n",
    "\n",
    "## Classes that store Observables (simulated or measured) and covariance matrices\n",
    "from imagine import Simulations, Measurements, Covariances\n",
    "## The likelihood class (obviously the Likelihood element)\n",
    "from imagine import EnsembleLikelihood\n",
    "\n",
    "## The LSA field and its factory (one possibilty for the Galaxy-Generator element)\n",
    "from imagine import BregLSA\n",
    "from imagine import BregLSAFactory\n",
    "## The random field component\n",
    "from imagine import BrndES\n",
    "from imagine import BrndESFactory\n",
    "## The simple analytic CRE model\n",
    "from imagine import CREAna\n",
    "from imagine import CREAnaFactory\n",
    "## The YMW16 thermal electron model:\n",
    "from imagine import TEregYMW16\n",
    "from imagine import TEregYMW16Factory\n",
    "\n",
    "\n",
    "## A flat prior\n",
    "from imagine import FlatPrior\n",
    "## The toy model simulator (one possibility for the Observable-Generator element)\n",
    "from imagine import Hammurabi \n",
    "## The pyMultiNest sampler (one possibility for the Sampler element)\n",
    "from imagine import MultinestPipeline\n",
    "from imagine import DynestyPipeline\n",
    "## A tool to estimate a covariance matrix from an ensemble of stochastic simulations:\n",
    "from imagine.tools.covariance_estimator import oas_cov\n",
    "\n",
    "## visualize posterior with 3rd party corner package (pip install corner)\n",
    "import corner\n",
    "import matplotlib\n",
    "## Mapping internal parameter units to physical units\n",
    "from imagine.tools.carrier_mapper import unity_mapper\n",
    "matplotlib.use('Agg')\n",
    "\n",
    "# call after importing matplotlib\n",
    "%matplotlib inline"
   ]
  },
  {
   "cell_type": "markdown",
   "metadata": {},
   "source": [
    "## step 1, prepare mock data\n",
    "\n",
    "Let's make a very low resolution map of synchrotron total I and Faraday depth from the WMAP model, including a random compnent:"
   ]
  },
  {
   "cell_type": "code",
   "execution_count": 2,
   "metadata": {},
   "outputs": [
    {
     "name": "stdout",
     "output_type": "stream",
     "text": [
      "observable {}\n",
      "|-->  sync {'cue': '1', 'freq': '23', 'nside': '2'}\n",
      "|-->  faraday {'cue': '1', 'nside': '2'}\n"
     ]
    }
   ],
   "source": [
    "## Set the resolution\n",
    "nside=2\n",
    "npix=12*nside**2\n",
    "## All of the other hammurabi parameters are in here, set up for\n",
    "##  both a regular and low-res random grid:\n",
    "xmlpath = './template.xml'\n",
    "    \n",
    "## An empty measurement set to define what we want:\n",
    "trigger = Measurements()\n",
    "trigger.append(('sync', '23', str(nside), 'I'), np.zeros((1,npix)))  # only I map\n",
    "trigger.append(('fd', 'nan', str(nside), 'nan'), np.zeros((1,npix)))  # only I map\n",
    "\n",
    "## This instance of hammurabi is to mock up some fake data:\n",
    "mocker = Hammurabi(measurements=trigger, xml_path=xmlpath)\n"
   ]
  },
  {
   "cell_type": "markdown",
   "metadata": {},
   "source": [
    "Select the models we want to use:"
   ]
  },
  {
   "cell_type": "code",
   "execution_count": 3,
   "metadata": {},
   "outputs": [],
   "source": [
    "# BregLSA field\n",
    "paramlist={'b0':3, 'psi0': 27.0, 'psi1': 0.9, 'chi0': 25.0}\n",
    "breg_lsa = BregLSA(paramlist, 1)\n",
    "\n",
    "# CREAna field\n",
    "paramlist = {'alpha': 3.0, 'beta': 0.0, 'theta': 0.0,\n",
    "             'r0': 5.0, 'z0': 1.0,\n",
    "             'E0': 20.6, 'j0': 0.0217}  # inactive parameters at default\n",
    "cre_ana = CREAna(paramlist, 1)\n",
    "\n",
    "# FEregYMW16 field\n",
    "paramlist = dict() \n",
    "tereg_ymw16 = TEregYMW16(paramlist, 1)\n",
    "\n",
    "## Random field\n",
    "paramlist = {'rms': 3., 'k0': 0.5, 'a0': 1.7,\n",
    "             'k1': 0.5, 'a1': 0.0,\n",
    "             'rho': 0.5, 'r0': 8., 'z0': 1.}\n",
    "brnd_es = BrndES(paramlist, 1)"
   ]
  },
  {
   "cell_type": "code",
   "execution_count": 4,
   "metadata": {},
   "outputs": [
    {
     "data": {
      "image/png": "[encoded data removed]",
      "text/plain": [
       "<Figure size 720x288 with 4 Axes>"
      ]
     },
     "metadata": {
      "needs_background": "light"
     },
     "output_type": "display_data"
    }
   ],
   "source": [
    "## Generate mock data (run hammurabi)\n",
    "outputs = mocker([breg_lsa, brnd_es, cre_ana, tereg_ymw16])\n",
    "## Collect the outputs\n",
    "mockedI = outputs[('sync', '23', str(nside), 'I')].data\n",
    "mockedRM = outputs[('fd', 'nan', str(nside), 'nan')].data\n",
    "dm=np.mean(mockedI)\n",
    "dv=np.std(mockedI)\n",
    "## Add some noise that's just proportional to the average sync I by the factor err\n",
    "err=0.01\n",
    "dataI = np.vstack([mockedI + np.random.normal(loc=0.,scale=err*dm,size=12*nside**2)])\n",
    "## Just 0.01*50 rad/m^2 of error for noise.  \n",
    "dataRM = np.vstack([mockedRM + np.random.normal(loc=0.,scale=err*50.,size=12*nside**2)])\n",
    "\n",
    "mock_data = Measurements()\n",
    "mock_data.append(('sync', '23', str(nside), 'I'), dataI)\n",
    "mock_data.append(('fd', 'nan', str(nside), 'nan'), dataRM)\n",
    "\n",
    "## Diagonal covariances that only include the noise\n",
    "mock_cov = Covariances()\n",
    "mock_cov.append(('sync', '23', str(nside), 'I'), ((err*dm)**2) * np.eye(12*nside**2) )\n",
    "mock_cov.append(('fd', 'nan', str(nside), 'nan'), ((err*50.)**2) * np.eye(12*nside**2) )\n",
    "\n",
    "## Get the data back out in a plottable format, ie. undo the vstack with an hstack\n",
    "matplotlib.rcParams['figure.figsize'] = (10.0, 4.0)\n",
    "hp.mollview(np.hstack(dataI), norm='hist', cmap='jet',sub=(1,2,1),title=\"total I\",unit='K')\n",
    "hp.mollview(np.hstack(dataRM), norm='hist', cmap='jet',sub=(1,2,2),title=\"RM\",unit='rad/m^2')"
   ]
  },
  {
   "cell_type": "markdown",
   "metadata": {},
   "source": [
    "Now let's set up the pipeline as we have done before, but this time with hammurabi as the simulator:"
   ]
  },
  {
   "cell_type": "code",
   "execution_count": 5,
   "metadata": {},
   "outputs": [
    {
     "name": "stdout",
     "output_type": "stream",
     "text": [
      "observable {}\n",
      "|-->  sync {'cue': '1', 'freq': '23', 'nside': '2'}\n",
      "|-->  faraday {'cue': '1', 'nside': '2'}\n"
     ]
    }
   ],
   "source": [
    "## Use an ensemble to estimate the galactic variance\n",
    "likelihood = EnsembleLikelihood(mock_data, mock_cov)\n",
    "\n",
    "## WMAP B-field, vary only b0 and psi0\n",
    "breg_factory = BregLSAFactory(active_parameters=('b0', 'psi0'))\n",
    "breg_factory.parameter_ranges = {'b0': (0., 10.), 'psi0': (0., 50.)}\n",
    "## Random B-field, vary only RMS amplitude\n",
    "brnd_factory = BrndESFactory(active_parameters=('rms',))\n",
    "brnd_factory.parameter_ranges = {'rms': (0., 10.)}\n",
    "## Fixed CR model\n",
    "cre_factory = CREAnaFactory()\n",
    "## Fixed FE model\n",
    "tereg_factory = TEregYMW16Factory()\n",
    "factory_list = [breg_factory, brnd_factory, cre_factory, tereg_factory]\n",
    "\n",
    "## Flat prior\n",
    "prior = FlatPrior()\n",
    "## Hammurabi simulator\n",
    "simer = Hammurabi(measurements=mock_data, xml_path=xmlpath)\n",
    "\n",
    "## Compute 10 realizations at each sample:\n",
    "ensemble_size=10\n",
    "\n",
    "## Initialize the pipeline with all of these inputs\n",
    "pipe = MultinestPipeline(simer, factory_list, likelihood, prior, ensemble_size)\n",
    "pipe.sampling_controllers = {'n_live_points': 1000,\"verbose\":False}#,\"resume\":True} \n",
    "\n",
    "## Alternate sampler\n",
    "#pipe = DynestyPipeline(simer, factory_list, likelihood, prior, ensemble_size)"
   ]
  },
  {
   "cell_type": "markdown",
   "metadata": {},
   "source": [
    "This run will take a long time to converge.  If we want to monitor its progress from another jupyter window, or more importantly, kill it before it's converged and see how it went, then we can also set up a progress reporter.  The `pymultinest` package does this two ways.  If you specify the `outputfiles_basename` to a local directory, then it will write the chains as it samples (the diretory must exist first), and you can read these.  You can also set it to produce regular diagnostics by using its ProgressPlotter().  \n",
    "\n",
    "If you don't want to run this overnight, skip this cell.  The chains from my interrupted run are included, so the next cells should work anyway."
   ]
  },
  {
   "cell_type": "code",
   "execution_count": null,
   "metadata": {},
   "outputs": [],
   "source": [
    "import os, pymultinest\n",
    "\n",
    "if not os.path.isdir(\"chains\"):\n",
    "    os.mkdir(\"chains\")\n",
    "\n",
    "## Start a progress job to report every 100 seconds (100*1000ms):\n",
    "progress=pymultinest.watch.ProgressPlotter(n_params=len(pipe.active_parameters),outputfiles_basename=\"chains/1-\",interval_ms=100000)\n",
    "progress.start()\n",
    "## And run it\n",
    "results=pipe()\n",
    "progress.stop()"
   ]
  },
  {
   "cell_type": "markdown",
   "metadata": {},
   "source": [
    "Interrupted after running overnight.  It did not converge, but we can look at the chain of samples it went through to see where it was going:"
   ]
  },
  {
   "cell_type": "code",
   "execution_count": null,
   "metadata": {},
   "outputs": [],
   "source": [
    "## Looking at in progress files shows where it was.  This is\n",
    "##  the file where the chains are stored:\n",
    "samples=np.genfromtxt('chains/1-.txt')\n",
    "##  The first two columns are probability, -2*log likelihood, \n",
    "##  and then the parameters in internal [0,1] units:\n",
    "samples=np.array([samples[:,2]*10.,samples[:,3]*50.,samples[:,4]*10.]).transpose()\n",
    "samples.shape\n"
   ]
  },
  {
   "cell_type": "code",
   "execution_count": null,
   "metadata": {},
   "outputs": [],
   "source": [
    "import matplotlib.pyplot as plt\n",
    "from matplotlib.pyplot import figure\n",
    "figure(num=None, figsize=(10, 2), dpi=80, facecolor='w', edgecolor='k')\n",
    "\n",
    "plt.subplot(131)\n",
    "plt.plot(samples[:,0])\n",
    "plt.subplot(132)\n",
    "plt.plot(samples[:,1],color='r')\n",
    "plt.subplot(133)\n",
    "plt.plot(samples[:,2],color='g')\n"
   ]
  },
  {
   "cell_type": "code",
   "execution_count": null,
   "metadata": {},
   "outputs": [],
   "source": [
    "##  See https://corner.readthedocs.io/en/latest/pages/sigmas.html about contour levels.  \n",
    "##  \"Contours are shown at 0.5, 1, 1.5, and 2 sigma\"\n",
    "##  according to https://pypi.org/project/corner/1.0.1/, \n",
    "##  but I want 1, 2, and 3\n",
    "sigmas=np.array([1.,2.,3.])\n",
    "levels=1-np.exp(-0.5*sigmas*sigmas)\n",
    "x=corner.corner(samples,\n",
    "              labels=['b0','psi0','rms'],\n",
    "              range=[(1,5),(10.,40.),(1,5)],\n",
    "              quantiles=[0.05, 0.5, 0.95],  ## These are the vertical lines in the 1D marginalized plots\n",
    "              show_titles=True,\n",
    "              title_kwargs={\"fontsize\": 15},\n",
    "              color='steelblue',\n",
    "              truths=[3,27,3],\n",
    "              truth_color='firebrick',\n",
    "              plot_contours=True,\n",
    "              hist_kwargs={'linewidth': 2},\n",
    "              label_kwargs={'fontsize': 20}\n",
    "              ,levels=levels  ## replacing defaults (0.5,1,1.5,2 sigma) with 1,2,3\n",
    "              )\n"
   ]
  },
  {
   "cell_type": "markdown",
   "metadata": {},
   "source": [
    "### This ends tutorial 5."
   ]
  }
 ],
 "metadata": {
  "kernelspec": {
   "display_name": "Python 3",
   "language": "python",
   "name": "python3"
  },
  "language_info": {
   "codemirror_mode": {
    "name": "ipython",
    "version": 3
   },
   "file_extension": ".py",
   "mimetype": "text/x-python",
   "name": "python",
   "nbconvert_exporter": "python",
   "pygments_lexer": "ipython3",
   "version": "3.6.9"
  }
 },
 "nbformat": 4,
 "nbformat_minor": 2
}
