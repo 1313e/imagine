{
 "cells": [
  {
   "cell_type": "markdown",
   "metadata": {},
   "source": [
    "# The Hammurabi simulator \n",
    "\n",
    "This tutorial shows how to use the [Hammurabi](https://imagine-code.readthedocs.io/en/latest/imagine.simulators.html#module-imagine.simulators.hammurabi) simulator class the interface to [hammurabiX](https://bitbucket.org/hammurabicode/hamx/src/master/) code.\n",
    "\n",
    "Throughout the tutorial, we will use the term 'Hammurabi' to refer to \n",
    "the Simulator class, and 'hammurabiX' to refer to the hammurabiX software."
   ]
  },
  {
   "cell_type": "code",
   "execution_count": 1,
   "metadata": {},
   "outputs": [],
   "source": [
    "import matplotlib\n",
    "%matplotlib inline\n",
    "\n",
    "import numpy as np\n",
    "import healpy as hp\n",
    "import matplotlib.pyplot as plt\n",
    "\n",
    "import imagine as img\n",
    "\n",
    "import imagine.observables as img_obs\n",
    "import astropy.units as u"
   ]
  },
  {
   "cell_type": "markdown",
   "metadata": {},
   "source": [
    "## Initializing \n",
    "\n",
    "In the normal IMAGINE workflow, the simulator produces a set of mock \n",
    "observables (Simulators in IMAGINE jargon) which one wants to compare \n",
    "with a set of observational data (i.e. Measurements). Thus, the \n",
    "Hammurabi simulator class (as any IMAGINE simulator) has to be \n",
    "initialized with a Measurements object in order to know properties\n",
    "of the output it will need to generate.\n",
    "\n",
    "Therefore, we begin by creating fake, empty, datasets which will help \n",
    "instructing Hammurabi which observational data we are interested in."
   ]
  },
  {
   "cell_type": "code",
   "execution_count": 2,
   "metadata": {},
   "outputs": [],
   "source": [
    "# Creates some empty fake datasets \n",
    "size = 12*32**2 \n",
    "sync_dset = img_obs.SynchrotronHEALPixDataset(data=np.empty(size)*u.mK, \n",
    "                                              frequency=23, type='I')\n",
    "size = 12*16**2\n",
    "fd_dset = img_obs.FaradayDepthHEALPixDataset(data=np.empty(size)*u.rad/u.m**2)\n",
    "size = 12*8**2\n",
    "dm_dset = img_obs.DispersionMeasureHEALPixDataset(data=np.empty(size)*u.pc/u.cm**3)\n",
    "\n",
    "# Appends them to an Observables Dictionary\n",
    "fakeMeasureDict = img.Measurements()\n",
    "fakeMeasureDict.append(dataset=sync_dset)\n",
    "fakeMeasureDict.append(dataset=fd_dset)\n",
    "fakeMeasureDict.append(dataset=dm_dset)"
   ]
  },
  {
   "cell_type": "markdown",
   "metadata": {},
   "source": [
    "Now it is possible initializing the simulator. The Hammurabi simulator prints its setup after initialization, showing that we have defined three observables."
   ]
  },
  {
   "cell_type": "code",
   "execution_count": 3,
   "metadata": {},
   "outputs": [
    {
     "ename": "AssertionError",
     "evalue": "",
     "output_type": "error",
     "traceback": [
      "\u001b[0;31m---------------------------------------------------------------------------\u001b[0m",
      "\u001b[0;31mAssertionError\u001b[0m                            Traceback (most recent call last)",
      "\u001b[0;32m<ipython-input-3-bdf5bf135f04>\u001b[0m in \u001b[0;36m<module>\u001b[0;34m\u001b[0m\n\u001b[0;32m----> 1\u001b[0;31m \u001b[0msimer\u001b[0m \u001b[0;34m=\u001b[0m \u001b[0mimg\u001b[0m\u001b[0;34m.\u001b[0m\u001b[0mHammurabi\u001b[0m\u001b[0;34m(\u001b[0m\u001b[0mmeasurements\u001b[0m\u001b[0;34m=\u001b[0m\u001b[0mfakeMeasureDict\u001b[0m\u001b[0;34m)\u001b[0m\u001b[0;34m\u001b[0m\u001b[0;34m\u001b[0m\u001b[0m\n\u001b[0m",
      "\u001b[0;32m~/stack/Custom Python Packages/imagine/imagine/simulators/hammurabi.py\u001b[0m in \u001b[0;36m__init__\u001b[0;34m(self, measurements, xml_path, exe_path)\u001b[0m\n\u001b[1;32m     68\u001b[0m         \u001b[0mself\u001b[0m\u001b[0;34m.\u001b[0m\u001b[0mcurrent_realization\u001b[0m \u001b[0;34m=\u001b[0m \u001b[0;34m-\u001b[0m\u001b[0;36m1\u001b[0m\u001b[0;34m\u001b[0m\u001b[0;34m\u001b[0m\u001b[0m\n\u001b[1;32m     69\u001b[0m         \u001b[0;31m# Initializes Hampyx\u001b[0m\u001b[0;34m\u001b[0m\u001b[0;34m\u001b[0m\u001b[0;34m\u001b[0m\u001b[0m\n\u001b[0;32m---> 70\u001b[0;31m         \u001b[0mself\u001b[0m\u001b[0;34m.\u001b[0m\u001b[0m_ham\u001b[0m \u001b[0;34m=\u001b[0m \u001b[0mHampyx\u001b[0m\u001b[0;34m(\u001b[0m\u001b[0mself\u001b[0m\u001b[0;34m.\u001b[0m\u001b[0mxml_path\u001b[0m\u001b[0;34m,\u001b[0m \u001b[0mself\u001b[0m\u001b[0;34m.\u001b[0m\u001b[0mexe_path\u001b[0m\u001b[0;34m)\u001b[0m\u001b[0;34m\u001b[0m\u001b[0;34m\u001b[0m\u001b[0m\n\u001b[0m\u001b[1;32m     71\u001b[0m         \u001b[0;31m# Sets Hampyx's working directory\u001b[0m\u001b[0;34m\u001b[0m\u001b[0;34m\u001b[0m\u001b[0;34m\u001b[0m\u001b[0m\n\u001b[1;32m     72\u001b[0m         \u001b[0mself\u001b[0m\u001b[0;34m.\u001b[0m\u001b[0m_ham\u001b[0m\u001b[0;34m.\u001b[0m\u001b[0mwk_dir\u001b[0m \u001b[0;34m=\u001b[0m \u001b[0mimg\u001b[0m\u001b[0;34m.\u001b[0m\u001b[0mrc\u001b[0m\u001b[0;34m[\u001b[0m\u001b[0;34m'temp_dir'\u001b[0m\u001b[0;34m]\u001b[0m\u001b[0;34m\u001b[0m\u001b[0;34m\u001b[0m\u001b[0m\n",
      "\u001b[0;32m~/hamx/hampyx/hampyx.py\u001b[0m in \u001b[0;36mwrapper\u001b[0;34m(self, *args, **kwargs)\u001b[0m\n\u001b[1;32m     82\u001b[0m         \u001b[0;34m@\u001b[0m\u001b[0mwraps\u001b[0m\u001b[0;34m(\u001b[0m\u001b[0mfunc\u001b[0m\u001b[0;34m)\u001b[0m\u001b[0;34m\u001b[0m\u001b[0;34m\u001b[0m\u001b[0m\n\u001b[1;32m     83\u001b[0m         \u001b[0;32mdef\u001b[0m \u001b[0mwrapper\u001b[0m\u001b[0;34m(\u001b[0m\u001b[0mself\u001b[0m\u001b[0;34m,\u001b[0m \u001b[0;34m*\u001b[0m\u001b[0margs\u001b[0m\u001b[0;34m,\u001b[0m \u001b[0;34m**\u001b[0m\u001b[0mkwargs\u001b[0m\u001b[0;34m)\u001b[0m\u001b[0;34m:\u001b[0m\u001b[0;34m\u001b[0m\u001b[0;34m\u001b[0m\u001b[0m\n\u001b[0;32m---> 84\u001b[0;31m             \u001b[0mfunc\u001b[0m\u001b[0;34m(\u001b[0m\u001b[0mself\u001b[0m\u001b[0;34m,\u001b[0m \u001b[0;34m*\u001b[0m\u001b[0margs\u001b[0m\u001b[0;34m,\u001b[0m \u001b[0;34m**\u001b[0m\u001b[0mkwargs\u001b[0m\u001b[0;34m)\u001b[0m\u001b[0;34m\u001b[0m\u001b[0;34m\u001b[0m\u001b[0m\n\u001b[0m\u001b[1;32m     85\u001b[0m             \u001b[0mself\u001b[0m\u001b[0;34m.\u001b[0m\u001b[0m__frozen\u001b[0m \u001b[0;34m=\u001b[0m \u001b[0;32mTrue\u001b[0m\u001b[0;34m\u001b[0m\u001b[0;34m\u001b[0m\u001b[0m\n\u001b[1;32m     86\u001b[0m         \u001b[0;32mreturn\u001b[0m \u001b[0mwrapper\u001b[0m\u001b[0;34m\u001b[0m\u001b[0;34m\u001b[0m\u001b[0m\n",
      "\u001b[0;32m~/hamx/hampyx/hampyx.py\u001b[0m in \u001b[0;36m__init__\u001b[0;34m(self, xml_path, exe_path)\u001b[0m\n\u001b[1;32m    114\u001b[0m         \u001b[0mself\u001b[0m\u001b[0;34m.\u001b[0m\u001b[0mwk_dir\u001b[0m \u001b[0;34m=\u001b[0m \u001b[0;32mNone\u001b[0m\u001b[0;34m\u001b[0m\u001b[0;34m\u001b[0m\u001b[0m\n\u001b[1;32m    115\u001b[0m         \u001b[0;31m# encapsulated below\u001b[0m\u001b[0;34m\u001b[0m\u001b[0;34m\u001b[0m\u001b[0;34m\u001b[0m\u001b[0m\n\u001b[0;32m--> 116\u001b[0;31m         \u001b[0mself\u001b[0m\u001b[0;34m.\u001b[0m\u001b[0mexe_path\u001b[0m \u001b[0;34m=\u001b[0m \u001b[0mexe_path\u001b[0m\u001b[0;34m\u001b[0m\u001b[0;34m\u001b[0m\u001b[0m\n\u001b[0m\u001b[1;32m    117\u001b[0m         \u001b[0mself\u001b[0m\u001b[0;34m.\u001b[0m\u001b[0mxml_path\u001b[0m \u001b[0;34m=\u001b[0m \u001b[0mxml_path\u001b[0m\u001b[0;34m\u001b[0m\u001b[0;34m\u001b[0m\u001b[0m\n\u001b[1;32m    118\u001b[0m         \u001b[0;31m# assign tmp file name by base file name\u001b[0m\u001b[0;34m\u001b[0m\u001b[0;34m\u001b[0m\u001b[0;34m\u001b[0m\u001b[0m\n",
      "\u001b[0;32m~/hamx/hampyx/hampyx.py\u001b[0m in \u001b[0;36mfrozensetattr\u001b[0;34m(self, key, value)\u001b[0m\n\u001b[1;32m     77\u001b[0m                   .format(cls.__name__, key, value))\n\u001b[1;32m     78\u001b[0m         \u001b[0;32melse\u001b[0m\u001b[0;34m:\u001b[0m\u001b[0;34m\u001b[0m\u001b[0;34m\u001b[0m\u001b[0m\n\u001b[0;32m---> 79\u001b[0;31m             \u001b[0mobject\u001b[0m\u001b[0;34m.\u001b[0m\u001b[0m__setattr__\u001b[0m\u001b[0;34m(\u001b[0m\u001b[0mself\u001b[0m\u001b[0;34m,\u001b[0m \u001b[0mkey\u001b[0m\u001b[0;34m,\u001b[0m \u001b[0mvalue\u001b[0m\u001b[0;34m)\u001b[0m\u001b[0;34m\u001b[0m\u001b[0;34m\u001b[0m\u001b[0m\n\u001b[0m\u001b[1;32m     80\u001b[0m \u001b[0;34m\u001b[0m\u001b[0m\n\u001b[1;32m     81\u001b[0m     \u001b[0;32mdef\u001b[0m \u001b[0minit_decorator\u001b[0m\u001b[0;34m(\u001b[0m\u001b[0mfunc\u001b[0m\u001b[0;34m)\u001b[0m\u001b[0;34m:\u001b[0m\u001b[0;34m\u001b[0m\u001b[0;34m\u001b[0m\u001b[0m\n",
      "\u001b[0;32m~/hamx/hampyx/hampyx.py\u001b[0m in \u001b[0;36mexe_path\u001b[0;34m(self, exe_path)\u001b[0m\n\u001b[1;32m    148\u001b[0m                     \u001b[0mself\u001b[0m\u001b[0;34m.\u001b[0m\u001b[0m_exe_path\u001b[0m \u001b[0;34m=\u001b[0m \u001b[0mos\u001b[0m\u001b[0;34m.\u001b[0m\u001b[0mpath\u001b[0m\u001b[0;34m.\u001b[0m\u001b[0mjoin\u001b[0m\u001b[0;34m(\u001b[0m\u001b[0mdir\u001b[0m\u001b[0;34m,\u001b[0m \u001b[0;34m'hamx'\u001b[0m\u001b[0;34m)\u001b[0m\u001b[0;34m\u001b[0m\u001b[0;34m\u001b[0m\u001b[0m\n\u001b[1;32m    149\u001b[0m                     \u001b[0;32mbreak\u001b[0m\u001b[0;34m\u001b[0m\u001b[0;34m\u001b[0m\u001b[0m\n\u001b[0;32m--> 150\u001b[0;31m             \u001b[0;32massert\u001b[0m \u001b[0;34m(\u001b[0m\u001b[0mself\u001b[0m\u001b[0;34m.\u001b[0m\u001b[0m_exe_path\u001b[0m \u001b[0;32mis\u001b[0m \u001b[0;32mnot\u001b[0m \u001b[0;32mNone\u001b[0m\u001b[0;34m)\u001b[0m\u001b[0;34m\u001b[0m\u001b[0;34m\u001b[0m\u001b[0m\n\u001b[0m\u001b[1;32m    151\u001b[0m         \u001b[0;32melse\u001b[0m\u001b[0;34m:\u001b[0m  \u001b[0;31m# if given\u001b[0m\u001b[0;34m\u001b[0m\u001b[0;34m\u001b[0m\u001b[0m\n\u001b[1;32m    152\u001b[0m             \u001b[0;32massert\u001b[0m \u001b[0misinstance\u001b[0m\u001b[0;34m(\u001b[0m\u001b[0mexe_path\u001b[0m\u001b[0;34m,\u001b[0m \u001b[0mstr\u001b[0m\u001b[0;34m)\u001b[0m\u001b[0;34m\u001b[0m\u001b[0;34m\u001b[0m\u001b[0m\n",
      "\u001b[0;31mAssertionError\u001b[0m: "
     ]
    }
   ],
   "source": [
    "simer = img.Hammurabi(measurements=fakeMeasureDict)"
   ]
  },
  {
   "cell_type": "markdown",
   "metadata": {},
   "source": [
    "## Running with dummy fields\n",
    "\n",
    "### Using only non-stochastic fields"
   ]
  },
  {
   "cell_type": "markdown",
   "metadata": {},
   "source": [
    "In order to run an IMAGINE simulator, we need to specify a list of \n",
    "Field objects it will map onto observables.\n",
    "\n",
    "The original hammurabiX code is *not only* a Simulator in IMAGINE's sense, but comes also with a large set of built-in fields. Using \n",
    "dummy IMAGINE fields, it is  possible to instruct Hammurabi to run using one of hammurabiX's built-in fields instead of evaluating an\n",
    "IMAGINE Field.\n",
    "\n",
    "A range of such dummy Fields and the associated Field Factories can be found in the subpackage [imagine.fields.hamx](https://imagine-code.readthedocs.io/en/latest/imagine.fields.hamx.html). \n",
    "\n",
    "Using some of these, let us initialize three dummy fields: one instructing Hammurabi to use one of hammurabiX's regular fields (`BregLSA`), one setting CR electron distribution (`CREAna`), \n",
    "and one setting the thermal electron distribution (`YMW16`)."
   ]
  },
  {
   "cell_type": "code",
   "execution_count": null,
   "metadata": {},
   "outputs": [],
   "source": [
    "from imagine.fields.hamx.breg_lsa import BregLSA\n",
    "from imagine.fields.hamx.cre_analytic import CREAna\n",
    "from imagine.fields.hamx.tereg_ymw16 import TEregYMW16\n",
    "\n",
    "## ensemble size\n",
    "ensemble_size = 2\n",
    "\n",
    "## Set up the BregLSA field with the parameters you want:\n",
    "paramlist = {'b0': 6.0, 'psi0': 27.9, 'psi1': 1.3, 'chi0': 24.6}\n",
    "breg_wmap = BregLSA(parameters=paramlist, ensemble_size=ensemble_size)\n",
    "\n",
    "## Set up the analytic CR model CREAna \n",
    "paramlist_cre = {'alpha': 3.0, 'beta': 0.0, 'theta': 0.0,\n",
    "                 'r0': 5.6, 'z0': 1.2,\n",
    "                 'E0': 20.5,\n",
    "                 'j0': 0.03}\n",
    "cre_ana = CREAna(parameters=paramlist_cre, ensemble_size=ensemble_size)\n",
    "\n",
    "##  The free electron model based on YMW16, ie. TEregYMW16 \n",
    "fereg_ymw16 = TEregYMW16(parameters={}, ensemble_size=ensemble_size)"
   ]
  },
  {
   "cell_type": "markdown",
   "metadata": {},
   "source": [
    "Now we can run the Hammurabi to generate one set of observables"
   ]
  },
  {
   "cell_type": "code",
   "execution_count": null,
   "metadata": {},
   "outputs": [],
   "source": [
    "maps = simer([breg_wmap, cre_ana, fereg_ymw16])"
   ]
  },
  {
   "cell_type": "markdown",
   "metadata": {},
   "source": [
    "The `Hammurabi` class wraps around hammurabiX's own python wrapper `hampyx`.  The latter can be accessed through the attribue\n",
    "`_ham`.\n",
    "\n",
    "It is generally convenient not using `hampyx` directly, considering future updates in hammurabiX. Nevertheless, there situations where \n",
    "this is still convenient, particularly while troubleshooting.\n",
    "\n",
    "The direct access to `hampyx` is exemplified below, where we check its initialization, after running the simulation object."
   ]
  },
  {
   "cell_type": "code",
   "execution_count": null,
   "metadata": {},
   "outputs": [],
   "source": [
    "simer._ham.print_par(['magneticfield', 'regular'])\n",
    "simer._ham.print_par(['magneticfield', 'regular', 'wmap'])\n",
    "simer._ham.print_par(['cre'])\n",
    "simer._ham.print_par(['cre', 'analytic'])\n",
    "simer._ham.print_par(['thermalelectron', 'regular'])"
   ]
  },
  {
   "cell_type": "markdown",
   "metadata": {},
   "source": [
    "Any `Simulator` by convention returns a `Simulations` object, which collect all required maps.  We want to get them back as arrays we can visualize with healpy.  The `data` attribute does this, and note that what it gets back is a **list** of two of each type of observable, since we specified `ensemble_size=2` above.  But since we have not yet added a random component, they are both the same:  "
   ]
  },
  {
   "cell_type": "code",
   "execution_count": null,
   "metadata": {},
   "outputs": [],
   "source": [
    "maps[('sync','23','32','I')].global_data"
   ]
  },
  {
   "cell_type": "markdown",
   "metadata": {},
   "source": [
    "Below we exemplify how to extract and plot the simulated maps produced by Hammurabi:"
   ]
  },
  {
   "cell_type": "code",
   "execution_count": null,
   "metadata": {},
   "outputs": [],
   "source": [
    "for key in maps.keys():\n",
    "    simulated_data = maps[key].global_data[0]\n",
    "    simulated_unit = maps[key].unit\n",
    "    name = key[0]\n",
    "    if key[3] != 'nan':\n",
    "        name += ' '+key[3]\n",
    "    hp.mollview(simulated_data, norm='hist', cmap='coolwarm',\n",
    "                unit=simulated_unit._repr_latex_(), title=name)"
   ]
  },
  {
   "cell_type": "markdown",
   "metadata": {},
   "source": [
    "### Using a stochastic magnetic field component\n",
    "\n",
    "Now we add a random GMF component with the BrndES model.  This model starts with a random number generator to simulate a Gaussian random field on a cartesian grid and ensures that it is divergence free.  The grid is defined in hammurabiX XML parameter file.  "
   ]
  },
  {
   "cell_type": "code",
   "execution_count": null,
   "metadata": {},
   "outputs": [],
   "source": [
    "from imagine.fields.hamx.brnd_es import BrndES\n",
    "\n",
    "paramlist_Brnd = {'rms': 6., 'k0': 0.5, 'a0': 1.7, \n",
    "                  'k1': 0.5, 'a1': 0.0,\n",
    "                  'rho': 0.5, 'r0': 8., 'z0': 1.}\n",
    "\n",
    "brnd_es = BrndES(parameters=paramlist_Brnd, ensemble_size=ensemble_size,\n",
    "                 grid_nx=100, grid_ny=100, grid_nz=40)\n",
    "# The keyword arguments grid_ni modify random field grid for limiting\n",
    "# the notebook's memory consumption."
   ]
  },
  {
   "cell_type": "markdown",
   "metadata": {},
   "source": [
    "Now use the simulator to generate the maps from these field components and visualize:"
   ]
  },
  {
   "cell_type": "code",
   "execution_count": null,
   "metadata": {},
   "outputs": [],
   "source": [
    "maps = simer([breg_wmap, brnd_es, cre_ana, fereg_ymw16])"
   ]
  },
  {
   "cell_type": "code",
   "execution_count": null,
   "metadata": {},
   "outputs": [],
   "source": [
    "print(maps.keys())"
   ]
  },
  {
   "cell_type": "code",
   "execution_count": null,
   "metadata": {},
   "outputs": [],
   "source": [
    "sync_I_data = maps[('sync','23','32','I')].global_data\n",
    "sync_I_units = maps[('sync','23','32','I')].unit\n",
    "\n",
    "matplotlib.rcParams['figure.figsize'] = (10.0, 4.0)\n",
    "for i in range(1,3):\n",
    "    hp.mollview(sync_I_data[i-1], norm='hist',sub=(1,2,i),\n",
    "                unit=sync_I_units._repr_latex_(), title='Realization {}'.format(i))"
   ]
  },
  {
   "cell_type": "markdown",
   "metadata": {},
   "source": [
    "## Running with IMAGINE fields\n",
    "### The basics\n",
    "\n",
    "While hammurabiX's fields are extremely useful, we want the flexibility of quickly plugging *any* IMAGINE Field to hammurabiX. Fortunately, this is actually very easy. \n",
    "For the sake of simplificty, let us initialize a \"fresh\" simulator object."
   ]
  },
  {
   "cell_type": "code",
   "execution_count": null,
   "metadata": {},
   "outputs": [],
   "source": [
    "simer = img.Hammurabi(measurements=fakeMeasureDict)"
   ]
  },
  {
   "cell_type": "markdown",
   "metadata": {},
   "source": [
    "Now, let us initialize a few simple Fields and Grid "
   ]
  },
  {
   "cell_type": "code",
   "execution_count": null,
   "metadata": {},
   "outputs": [],
   "source": [
    "import imagine.fields.basic_fields as basic_fields\n",
    "\n",
    "# We initalize a common grid for all the tests, with 100^3 meshpoints\n",
    "grid = img.UniformGrid([[-25,25]]*3*u.kpc,\n",
    "                       resolution=[100]*3)\n",
    "\n",
    "# Two magnetic fields: constant By and constant Bz across the box\n",
    "By_only = basic_fields.ConstantMagneticField(grid,\n",
    "                                             parameters={'Bx': 0*u.microgauss,\n",
    "                                                         'By': 1*u.microgauss,\n",
    "                                                         'Bz': 0*u.microgauss})\n",
    "Bz_only = basic_fields.ConstantMagneticField(grid,\n",
    "                                             parameters={'Bx': 0*u.microgauss,\n",
    "                                                         'By': 0*u.microgauss,\n",
    "                                                         'Bz': 1*u.microgauss})\n",
    "# Constant electron density in the box\n",
    "# ne = basic_fields.constantThermalElectrons(grid, ensemble_size=ensemble_size,\n",
    "#                                            parameters={'ne':1*u.cm**-3})\n",
    "ne = basic_fields.ExponentialThermalElectrons(grid,\n",
    "                                              parameters={'central_density' : 0.01*u.cm**-3,\n",
    "                                                          'scale_radius' : 3*u.kpc,\n",
    "                                                          'scale_height' : 100*u.pc})"
   ]
  },
  {
   "cell_type": "markdown",
   "metadata": {},
   "source": [
    "We can run hammurabi by simply provinding the fields in the fields list"
   ]
  },
  {
   "cell_type": "code",
   "execution_count": null,
   "metadata": {},
   "outputs": [],
   "source": [
    "fields_list1 = [ne, Bz_only]\n",
    "maps = simer(fields_list1)"
   ]
  },
  {
   "cell_type": "markdown",
   "metadata": {},
   "source": [
    "We can now examine the results. First, let us type a helper to visualise."
   ]
  },
  {
   "cell_type": "code",
   "execution_count": null,
   "metadata": {},
   "outputs": [],
   "source": [
    "def show_maps(maps, fig):\n",
    "    for i, key in enumerate(maps.keys()):\n",
    "        simulated_data = maps[key].data[0]\n",
    "        simulated_unit = maps[key].unit\n",
    "        name = key[0]\n",
    "        if key[3] != 'nan':  \n",
    "            name += ' '+key[3]\n",
    "        hp.mollview(simulated_data, norm='hist', sub=(1,len(maps.keys()),i+1), \n",
    "                    fig=fig, unit=simulated_unit._repr_latex_(), title=name)"
   ]
  },
  {
   "cell_type": "code",
   "execution_count": null,
   "metadata": {},
   "outputs": [],
   "source": [
    "# Creates a list of names\n",
    "field_names = [field.field_name for field in fields_list1]\n",
    "\n",
    "fig = plt.figure(figsize=(13.0, 4.0))\n",
    "show_maps(maps, fig)\n",
    "plt.suptitle('1) Fields used:  ' + ', '.join(field_names));"
   ]
  },
  {
   "cell_type": "markdown",
   "metadata": {},
   "source": [
    "Which is what one would expect for this very artificial setup.\n",
    "\n",
    "As usual, we can combine different fields (fields of the same type are simply summed up. The following cell illustrates this."
   ]
  },
  {
   "cell_type": "code",
   "execution_count": null,
   "metadata": {},
   "outputs": [],
   "source": [
    "fields_list2 = [ne, By_only]\n",
    "fields_list3 = [ne, By_only, Bz_only]\n",
    "\n",
    "for i, fields_list in enumerate([fields_list2, fields_list3]):\n",
    "    # Creates a list of names\n",
    "    field_names = [field.field_name for field in fields_list]\n",
    "\n",
    "    fig = plt.figure(figsize=(13.0, 4.0))\n",
    "    maps = simer(fields_list)\n",
    "    show_maps(maps, fig)\n",
    "    plt.suptitle(str(i+2)+') Fields used:  ' + ', '.join(field_names));"
   ]
  },
  {
   "cell_type": "markdown",
   "metadata": {},
   "source": [
    "### Mixing internal and IMAGINE fields\n",
    "\n",
    "The dummy fields that enable hammurabiX's internal fields can be combined with normal IMAGINE Fields as long as they belong to different categories in hammurabiX's implementation. These are:\n",
    "* regular magnetic field\n",
    "* random magnetic field\n",
    "* regular thermal electron density\n",
    "* random thermal electron density\n",
    "* cosmic ray electrons\n",
    "\n",
    "Thus, if you provide IMAGINE Fields of a given field type, the corresponding hammurabiX built-in field is deactivated.\n",
    "\n",
    "In the following example we illustrate using an IMAGINE field for the \"regular magnetic field\", and dummies for the \"random magnetic field\" and cosmic rays.\n",
    "\n"
   ]
  },
  {
   "cell_type": "code",
   "execution_count": null,
   "metadata": {},
   "outputs": [],
   "source": [
    "# Re-defines the fields, with the default ensemble size of 1\n",
    "brnd_es = BrndES(parameters=paramlist_Brnd)\n",
    "brnd_es.set_grid_size(nx=100, ny=100, nz=40)\n",
    "cre_ana = CREAna(parameters=paramlist_cre)\n",
    "\n",
    "fields_list = [brnd_es, ne, Bz_only, cre_ana]\n",
    "\n",
    "field_names = [field.field_name for field in fields_list]\n",
    "fig = plt.figure(figsize=(15.0, 4.0))\n",
    "maps = simer(fields_list)\n",
    "show_maps(maps, fig)\n",
    "plt.suptitle('Fields used:  ' + ', '.join(field_names));"
   ]
  },
  {
   "cell_type": "markdown",
   "metadata": {},
   "source": [
    "<!-- \n",
    "Note that hammurabi's random/regular do not coincide with IMAGINE's stochastic/deterministic -->"
   ]
  }
 ],
 "metadata": {
  "kernelspec": {
   "display_name": "Python 3",
   "language": "python",
   "name": "python3"
  },
  "language_info": {
   "codemirror_mode": {
    "name": "ipython",
    "version": 3
   },
   "file_extension": ".py",
   "mimetype": "text/x-python",
   "name": "python",
   "nbconvert_exporter": "python",
   "pygments_lexer": "ipython3",
   "version": "3.7.6"
  }
 },
 "nbformat": 4,
 "nbformat_minor": 4
}
