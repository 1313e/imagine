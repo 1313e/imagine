{
 "cells": [
  {
   "cell_type": "markdown",
   "metadata": {},
   "source": [
    "# Masking HEALPix datasets\n",
    "\n",
    "For users who do not want to simulate and fit a full sky map (e.g., to remove confusing regions) or who need patches of a HEALPix map at high resolution, IMAGINE has a Masks class derived from **ObservableDict**.  It also applies the masks correctly not only to the simulation but also the measured data sets and the corresponding observational covariances. \n"
   ]
  },
  {
   "cell_type": "code",
   "execution_count": 1,
   "metadata": {},
   "outputs": [],
   "source": [
    "import numpy as np\n",
    "import healpy as hp\n",
    "import imagine as img\n",
    "import astropy.units as u\n",
    "import imagine.observables as img_obs\n",
    "from imagine.fields.hamx.breg_lsa import BregLSA\n",
    "from imagine.fields.hamx.tereg_ymw16 import TEregYMW16\n",
    "from imagine.fields.hamx.cre_analytic import CREAna"
   ]
  },
  {
   "cell_type": "markdown",
   "metadata": {},
   "source": [
    "## Creating a Mask dictionary\n",
    "First of all, make an example, let's mask out low latitude $|l| < 20^\\circ$ pixels and those inside four local loops"
   ]
  },
  {
   "cell_type": "code",
   "execution_count": 2,
   "metadata": {},
   "outputs": [
    {
     "data": {
      "image/png": "[encoded data removed]",
      "text/plain": [
       "<Figure size 612x388.8 with 2 Axes>"
      ]
     },
     "metadata": {
      "needs_background": "light"
     },
     "output_type": "display_data"
    },
    {
     "data": {
      "image/png": "[encoded data removed]",
      "text/plain": [
       "<Figure size 612x388.8 with 2 Axes>"
      ]
     },
     "metadata": {
      "needs_background": "light"
     },
     "output_type": "display_data"
    }
   ],
   "source": [
    "mask_nside = 32\n",
    "\n",
    "def mask_map_val(_nside,_ipix):\n",
    "    \"\"\"Mask loops and latitude\"\"\"\n",
    "    l,b = hp.pix2ang(_nside,_ipix,lonlat=True)\n",
    "    R = np.pi/180.\n",
    "    cue = 1\n",
    "    L = [329,100,124,315]\n",
    "    B = [17.5,-32.5,15.5,48.5]\n",
    "    D = [116,91,65,39.5]\n",
    "    #LOOP I\n",
    "    if( np.arccos(np.sin(b*R)*np.sin(B[0]*R)+np.cos(b*R)*np.cos(B[0]*R)*np.cos(l*R-L[0]*R))<0.5*D[0]*R ):\n",
    "        cue = 0\n",
    "    #LOOP II\n",
    "    if( np.arccos(np.sin(b*R)*np.sin(B[1]*R)+np.cos(b*R)*np.cos(B[1]*R)*np.cos(l*R-L[1]*R))<0.5*D[1]*R ):\n",
    "        cue = 0\n",
    "    #LOOP III\n",
    "    if( np.arccos(np.sin(b*R)*np.sin(B[2]*R)+np.cos(b*R)*np.cos(B[2]*R)*np.cos(l*R-L[2]*R))<0.5*D[2]*R ):\n",
    "        cue = 0\n",
    "    #LOOP IV\n",
    "    if( np.arccos(np.sin(b*R)*np.sin(B[3]*R)+np.cos(b*R)*np.cos(B[3]*R)*np.cos(l*R-L[3]*R))<0.5*D[3]*R ):\n",
    "        cue = 0\n",
    "    #STRIPE\n",
    "    if(abs(b)<20.):\n",
    "        cue = 0\n",
    "    return cue\n",
    "\n",
    "mask_map = np.zeros(hp.nside2npix(mask_nside))\n",
    "\n",
    "for i in range(len(mask_map)):\n",
    "    mask_map[i] = mask_map_val(mask_nside, i)\n",
    "\n",
    "# Presents the generated mask map \n",
    "hp.orthview(mask_map, cmap='coolwarm', rot=(0,90))\n",
    "hp.mollview(mask_map, cmap='coolwarm')"
   ]
  },
  {
   "cell_type": "markdown",
   "metadata": {},
   "source": [
    "The procedure to include the above created mask in a *Masks* dictionary is the same as the *Measurements* (at the moment, the is no helper equivalent to the *Dataset*, but this should not be an issue)."
   ]
  },
  {
   "cell_type": "code",
   "execution_count": 3,
   "metadata": {},
   "outputs": [],
   "source": [
    "masks = img.Masks()\n",
    "masks.append(('sync', '23', '32', 'I'), np.vstack([mask_map]))"
   ]
  },
  {
   "cell_type": "markdown",
   "metadata": {},
   "source": [
    "## Using the Masks\n",
    "\n",
    "The while assembling the pipeline, the masks should be supplied while initializing the *Likelihood* object, as an extra argument, for example:\n",
    "```python\n",
    "likelihood = img.EnsembleLikelihood(my_measurements, my_covariances, \n",
    "                                    mask_dict=masks)\n",
    "```\n",
    "This allows the Pipeline apply the masks, during the IMAGINE run, on both: observed and simulated data."
   ]
  },
  {
   "cell_type": "markdown",
   "metadata": {},
   "source": [
    "## Applying Masks directly\n",
    "\n",
    "To understand or check what is going on internally when we provide a mask to a *Likelihood* object, we can apply it ourselves to a given Observable.\n",
    "\n",
    "To illustrate this, let us first generate a mock synchrotron map using Hammurabi (using the usual trick)."
   ]
  },
  {
   "cell_type": "code",
   "execution_count": 4,
   "metadata": {},
   "outputs": [
    {
     "ename": "AssertionError",
     "evalue": "",
     "output_type": "error",
     "traceback": [
      "\u001b[0;31m---------------------------------------------------------------------------\u001b[0m",
      "\u001b[0;31mAssertionError\u001b[0m                            Traceback (most recent call last)",
      "\u001b[0;32m<ipython-input-4-640f0ac15374>\u001b[0m in \u001b[0;36m<module>\u001b[0;34m\u001b[0m\n\u001b[1;32m      6\u001b[0m \u001b[0mfakeMeasureDict\u001b[0m\u001b[0;34m.\u001b[0m\u001b[0mappend\u001b[0m\u001b[0;34m(\u001b[0m\u001b[0mdataset\u001b[0m\u001b[0;34m=\u001b[0m\u001b[0msync_dset\u001b[0m\u001b[0;34m)\u001b[0m\u001b[0;34m\u001b[0m\u001b[0;34m\u001b[0m\u001b[0m\n\u001b[1;32m      7\u001b[0m \u001b[0;31m# Initializes the Simulator with the fake Measurements\u001b[0m\u001b[0;34m\u001b[0m\u001b[0;34m\u001b[0m\u001b[0;34m\u001b[0m\u001b[0m\n\u001b[0;32m----> 8\u001b[0;31m \u001b[0msimulator\u001b[0m \u001b[0;34m=\u001b[0m \u001b[0mimg\u001b[0m\u001b[0;34m.\u001b[0m\u001b[0mHammurabi\u001b[0m\u001b[0;34m(\u001b[0m\u001b[0mmeasurements\u001b[0m\u001b[0;34m=\u001b[0m\u001b[0mfakeMeasureDict\u001b[0m\u001b[0;34m)\u001b[0m\u001b[0;34m\u001b[0m\u001b[0;34m\u001b[0m\u001b[0m\n\u001b[0m\u001b[1;32m      9\u001b[0m \u001b[0;31m# Initializes Fields\u001b[0m\u001b[0;34m\u001b[0m\u001b[0;34m\u001b[0m\u001b[0;34m\u001b[0m\u001b[0m\n\u001b[1;32m     10\u001b[0m breg_wmap = BregLSA(parameters={'b0': 6.0, 'psi0': 27.9,\n",
      "\u001b[0;32m~/stack/Custom Python Packages/imagine/imagine/simulators/hammurabi.py\u001b[0m in \u001b[0;36m__init__\u001b[0;34m(self, measurements, xml_path, exe_path)\u001b[0m\n\u001b[1;32m     68\u001b[0m         \u001b[0mself\u001b[0m\u001b[0;34m.\u001b[0m\u001b[0mcurrent_realization\u001b[0m \u001b[0;34m=\u001b[0m \u001b[0;34m-\u001b[0m\u001b[0;36m1\u001b[0m\u001b[0;34m\u001b[0m\u001b[0;34m\u001b[0m\u001b[0m\n\u001b[1;32m     69\u001b[0m         \u001b[0;31m# Initializes Hampyx\u001b[0m\u001b[0;34m\u001b[0m\u001b[0;34m\u001b[0m\u001b[0;34m\u001b[0m\u001b[0m\n\u001b[0;32m---> 70\u001b[0;31m         \u001b[0mself\u001b[0m\u001b[0;34m.\u001b[0m\u001b[0m_ham\u001b[0m \u001b[0;34m=\u001b[0m \u001b[0mHampyx\u001b[0m\u001b[0;34m(\u001b[0m\u001b[0mself\u001b[0m\u001b[0;34m.\u001b[0m\u001b[0mxml_path\u001b[0m\u001b[0;34m,\u001b[0m \u001b[0mself\u001b[0m\u001b[0;34m.\u001b[0m\u001b[0mexe_path\u001b[0m\u001b[0;34m)\u001b[0m\u001b[0;34m\u001b[0m\u001b[0;34m\u001b[0m\u001b[0m\n\u001b[0m\u001b[1;32m     71\u001b[0m         \u001b[0;31m# Sets Hampyx's working directory\u001b[0m\u001b[0;34m\u001b[0m\u001b[0;34m\u001b[0m\u001b[0;34m\u001b[0m\u001b[0m\n\u001b[1;32m     72\u001b[0m         \u001b[0mself\u001b[0m\u001b[0;34m.\u001b[0m\u001b[0m_ham\u001b[0m\u001b[0;34m.\u001b[0m\u001b[0mwk_dir\u001b[0m \u001b[0;34m=\u001b[0m \u001b[0mimg\u001b[0m\u001b[0;34m.\u001b[0m\u001b[0mrc\u001b[0m\u001b[0;34m[\u001b[0m\u001b[0;34m'temp_dir'\u001b[0m\u001b[0;34m]\u001b[0m\u001b[0;34m\u001b[0m\u001b[0;34m\u001b[0m\u001b[0m\n",
      "\u001b[0;32m~/hamx/hampyx/hampyx.py\u001b[0m in \u001b[0;36mwrapper\u001b[0;34m(self, *args, **kwargs)\u001b[0m\n\u001b[1;32m     82\u001b[0m         \u001b[0;34m@\u001b[0m\u001b[0mwraps\u001b[0m\u001b[0;34m(\u001b[0m\u001b[0mfunc\u001b[0m\u001b[0;34m)\u001b[0m\u001b[0;34m\u001b[0m\u001b[0;34m\u001b[0m\u001b[0m\n\u001b[1;32m     83\u001b[0m         \u001b[0;32mdef\u001b[0m \u001b[0mwrapper\u001b[0m\u001b[0;34m(\u001b[0m\u001b[0mself\u001b[0m\u001b[0;34m,\u001b[0m \u001b[0;34m*\u001b[0m\u001b[0margs\u001b[0m\u001b[0;34m,\u001b[0m \u001b[0;34m**\u001b[0m\u001b[0mkwargs\u001b[0m\u001b[0;34m)\u001b[0m\u001b[0;34m:\u001b[0m\u001b[0;34m\u001b[0m\u001b[0;34m\u001b[0m\u001b[0m\n\u001b[0;32m---> 84\u001b[0;31m             \u001b[0mfunc\u001b[0m\u001b[0;34m(\u001b[0m\u001b[0mself\u001b[0m\u001b[0;34m,\u001b[0m \u001b[0;34m*\u001b[0m\u001b[0margs\u001b[0m\u001b[0;34m,\u001b[0m \u001b[0;34m**\u001b[0m\u001b[0mkwargs\u001b[0m\u001b[0;34m)\u001b[0m\u001b[0;34m\u001b[0m\u001b[0;34m\u001b[0m\u001b[0m\n\u001b[0m\u001b[1;32m     85\u001b[0m             \u001b[0mself\u001b[0m\u001b[0;34m.\u001b[0m\u001b[0m__frozen\u001b[0m \u001b[0;34m=\u001b[0m \u001b[0;32mTrue\u001b[0m\u001b[0;34m\u001b[0m\u001b[0;34m\u001b[0m\u001b[0m\n\u001b[1;32m     86\u001b[0m         \u001b[0;32mreturn\u001b[0m \u001b[0mwrapper\u001b[0m\u001b[0;34m\u001b[0m\u001b[0;34m\u001b[0m\u001b[0m\n",
      "\u001b[0;32m~/hamx/hampyx/hampyx.py\u001b[0m in \u001b[0;36m__init__\u001b[0;34m(self, xml_path, exe_path)\u001b[0m\n\u001b[1;32m    114\u001b[0m         \u001b[0mself\u001b[0m\u001b[0;34m.\u001b[0m\u001b[0mwk_dir\u001b[0m \u001b[0;34m=\u001b[0m \u001b[0;32mNone\u001b[0m\u001b[0;34m\u001b[0m\u001b[0;34m\u001b[0m\u001b[0m\n\u001b[1;32m    115\u001b[0m         \u001b[0;31m# encapsulated below\u001b[0m\u001b[0;34m\u001b[0m\u001b[0;34m\u001b[0m\u001b[0;34m\u001b[0m\u001b[0m\n\u001b[0;32m--> 116\u001b[0;31m         \u001b[0mself\u001b[0m\u001b[0;34m.\u001b[0m\u001b[0mexe_path\u001b[0m \u001b[0;34m=\u001b[0m \u001b[0mexe_path\u001b[0m\u001b[0;34m\u001b[0m\u001b[0;34m\u001b[0m\u001b[0m\n\u001b[0m\u001b[1;32m    117\u001b[0m         \u001b[0mself\u001b[0m\u001b[0;34m.\u001b[0m\u001b[0mxml_path\u001b[0m \u001b[0;34m=\u001b[0m \u001b[0mxml_path\u001b[0m\u001b[0;34m\u001b[0m\u001b[0;34m\u001b[0m\u001b[0m\n\u001b[1;32m    118\u001b[0m         \u001b[0;31m# assign tmp file name by base file name\u001b[0m\u001b[0;34m\u001b[0m\u001b[0;34m\u001b[0m\u001b[0;34m\u001b[0m\u001b[0m\n",
      "\u001b[0;32m~/hamx/hampyx/hampyx.py\u001b[0m in \u001b[0;36mfrozensetattr\u001b[0;34m(self, key, value)\u001b[0m\n\u001b[1;32m     77\u001b[0m                   .format(cls.__name__, key, value))\n\u001b[1;32m     78\u001b[0m         \u001b[0;32melse\u001b[0m\u001b[0;34m:\u001b[0m\u001b[0;34m\u001b[0m\u001b[0;34m\u001b[0m\u001b[0m\n\u001b[0;32m---> 79\u001b[0;31m             \u001b[0mobject\u001b[0m\u001b[0;34m.\u001b[0m\u001b[0m__setattr__\u001b[0m\u001b[0;34m(\u001b[0m\u001b[0mself\u001b[0m\u001b[0;34m,\u001b[0m \u001b[0mkey\u001b[0m\u001b[0;34m,\u001b[0m \u001b[0mvalue\u001b[0m\u001b[0;34m)\u001b[0m\u001b[0;34m\u001b[0m\u001b[0;34m\u001b[0m\u001b[0m\n\u001b[0m\u001b[1;32m     80\u001b[0m \u001b[0;34m\u001b[0m\u001b[0m\n\u001b[1;32m     81\u001b[0m     \u001b[0;32mdef\u001b[0m \u001b[0minit_decorator\u001b[0m\u001b[0;34m(\u001b[0m\u001b[0mfunc\u001b[0m\u001b[0;34m)\u001b[0m\u001b[0;34m:\u001b[0m\u001b[0;34m\u001b[0m\u001b[0;34m\u001b[0m\u001b[0m\n",
      "\u001b[0;32m~/hamx/hampyx/hampyx.py\u001b[0m in \u001b[0;36mexe_path\u001b[0;34m(self, exe_path)\u001b[0m\n\u001b[1;32m    148\u001b[0m                     \u001b[0mself\u001b[0m\u001b[0;34m.\u001b[0m\u001b[0m_exe_path\u001b[0m \u001b[0;34m=\u001b[0m \u001b[0mos\u001b[0m\u001b[0;34m.\u001b[0m\u001b[0mpath\u001b[0m\u001b[0;34m.\u001b[0m\u001b[0mjoin\u001b[0m\u001b[0;34m(\u001b[0m\u001b[0mdir\u001b[0m\u001b[0;34m,\u001b[0m \u001b[0;34m'hamx'\u001b[0m\u001b[0;34m)\u001b[0m\u001b[0;34m\u001b[0m\u001b[0;34m\u001b[0m\u001b[0m\n\u001b[1;32m    149\u001b[0m                     \u001b[0;32mbreak\u001b[0m\u001b[0;34m\u001b[0m\u001b[0;34m\u001b[0m\u001b[0m\n\u001b[0;32m--> 150\u001b[0;31m             \u001b[0;32massert\u001b[0m \u001b[0;34m(\u001b[0m\u001b[0mself\u001b[0m\u001b[0;34m.\u001b[0m\u001b[0m_exe_path\u001b[0m \u001b[0;32mis\u001b[0m \u001b[0;32mnot\u001b[0m \u001b[0;32mNone\u001b[0m\u001b[0;34m)\u001b[0m\u001b[0;34m\u001b[0m\u001b[0;34m\u001b[0m\u001b[0m\n\u001b[0m\u001b[1;32m    151\u001b[0m         \u001b[0;32melse\u001b[0m\u001b[0;34m:\u001b[0m  \u001b[0;31m# if given\u001b[0m\u001b[0;34m\u001b[0m\u001b[0;34m\u001b[0m\u001b[0m\n\u001b[1;32m    152\u001b[0m             \u001b[0;32massert\u001b[0m \u001b[0misinstance\u001b[0m\u001b[0;34m(\u001b[0m\u001b[0mexe_path\u001b[0m\u001b[0;34m,\u001b[0m \u001b[0mstr\u001b[0m\u001b[0;34m)\u001b[0m\u001b[0;34m\u001b[0m\u001b[0;34m\u001b[0m\u001b[0m\n",
      "\u001b[0;31mAssertionError\u001b[0m: "
     ]
    }
   ],
   "source": [
    "# Creates empty datasets \n",
    "sync_dset = img_obs.SynchrotronHEALPixDataset(data=np.empty(12*32**2)*u.K, \n",
    "                                              frequency=23, type='I')\n",
    "# Appends them to an Observables Dictionary\n",
    "fakeMeasureDict = img.Measurements()\n",
    "fakeMeasureDict.append(dataset=sync_dset)\n",
    "# Initializes the Simulator with the fake Measurements\n",
    "simulator = img.Hammurabi(measurements=fakeMeasureDict)\n",
    "# Initializes Fields\n",
    "breg_wmap = BregLSA(parameters={'b0': 6.0, 'psi0': 27.9,\n",
    "                                'psi1': 1.3, 'chi0': 24.6})\n",
    "cre_ana = CREAna(parameters={'alpha': 3.0, 'beta': 0.0, \n",
    "                             'theta': 0.0,'r0': 5.6, 'z0': 1.2,\n",
    "                             'E0': 20.5, 'j0': 0.03})\n",
    "fereg_ymw16 = TEregYMW16(parameters={})\n",
    "\n",
    "# Produces the mock dataset\n",
    "%time maps = simulator([breg_wmap, cre_ana, fereg_ymw16])"
   ]
  },
  {
   "cell_type": "markdown",
   "metadata": {},
   "source": [
    "We can now inspect how this data looks before the masking takes place "
   ]
  },
  {
   "cell_type": "code",
   "execution_count": null,
   "metadata": {},
   "outputs": [],
   "source": [
    "unmasked = maps[('sync','23','32','I')].data[0]\n",
    "hp.mollview(unmasked, norm='hist', min=0, max=1.0e-3)"
   ]
  },
  {
   "cell_type": "markdown",
   "metadata": {},
   "source": [
    "The mask can be applied to the `maps` observable dictionary through the method `apply_mask`"
   ]
  },
  {
   "cell_type": "code",
   "execution_count": null,
   "metadata": {},
   "outputs": [],
   "source": [
    "maps.apply_mask(masks)\n",
    "\n",
    "raw_map = maps[('sync','23','4941','I')].data[0]"
   ]
  },
  {
   "cell_type": "markdown",
   "metadata": {},
   "source": [
    "Applying a mask, however, changes the size of the data array"
   ]
  },
  {
   "cell_type": "code",
   "execution_count": null,
   "metadata": {},
   "outputs": [],
   "source": [
    "print('Masked map size:', raw_map.size)\n",
    "print('Orignal map size', unmasked.size)"
   ]
  },
  {
   "cell_type": "markdown",
   "metadata": {},
   "source": [
    "This is expected: the whole point of masking is not using parts of the data which are unreliable or irrelevant for a particular purpose.\n",
    "\n",
    "However, if, to check whether things are working correctly, we wish to *look* at masked image, we need to reconstruct it. This means creating a new image including the pixels which we previously have thrown away, as exemplified below:"
   ]
  },
  {
   "cell_type": "code",
   "execution_count": null,
   "metadata": {},
   "outputs": [],
   "source": [
    "# Creates an empty array for the results\n",
    "masked = np.empty(hp.nside2npix(mask_nside))\n",
    "# Saves each pixel `raw_map` in `masked`, adding \"unseen\" tags for\n",
    "# pixels in the mask\n",
    "idx = 0\n",
    "for i in range(len(mask_map)):\n",
    "    if mask_map[i] == 0:\n",
    "        masked[i] = hp.UNSEEN\n",
    "    else:\n",
    "        masked[i] = raw_map[idx]\n",
    "        idx += 1\n",
    "# Shows the image   \n",
    "hp.mollview(masked, norm='hist', min=0, max=1.0e-3)"
   ]
  },
  {
   "cell_type": "markdown",
   "metadata": {},
   "source": [
    "## Using mask in a Hammurabi X simulation\n",
    "\n",
    "The previous procedure prevents that the masked pixels from influencing the inference, as they are not considered in the likelihood calculations. However, these pixels are still (needlessly) being computed by the Simulator.\n",
    "\n",
    "It is possible request Hammurabi to use the prepared mask, saving thus significant computing time!\n",
    "\n",
    "But note that there is *only a single mask input entry* for hammurabi X, which means all outputs will be masked by the same mask. And the input mask will be treated at pivot resolution, output maps may be in various resolutions by adjusting the input mask into corresponding resolution. It is not trivial in changing mask resolution, for more details please check the hammurabi X wiki.\n",
    "\n",
    "In the following we exemplify how to instruct Hammurabi to use the mask. This involves directly manipulating hammurabiX parameters through the hampyx object (an alternative, standardized, IMAGINE interface for this is under development)."
   ]
  },
  {
   "cell_type": "code",
   "execution_count": null,
   "metadata": {},
   "outputs": [],
   "source": [
    "# Dumps the mask to disk using hammurabi X required format: i.e. float64, binary file\n",
    "mask_map.tofile('./mask_tutorial04.bin')\n",
    "simulator._ham.mod_par(['mask'],{'cue':'1','filename':'mask_tutorial04.bin',\n",
    "                             'nside':str(mask_nside)})"
   ]
  },
  {
   "cell_type": "code",
   "execution_count": null,
   "metadata": {},
   "outputs": [],
   "source": [
    "# Re-runs the simulator which is using the mask internally \n",
    "%time maps = simulator([breg_wmap, cre_ana, fereg_ymw16])\n",
    "# Shows the new map\n",
    "unmasked = maps[('sync','23','32','I')].data[0]\n",
    "hp.mollview(masked, norm='hist', min=0, max=1.0e-3)"
   ]
  }
 ],
 "metadata": {
  "kernelspec": {
   "display_name": "Python 3",
   "language": "python",
   "name": "python3"
  },
  "language_info": {
   "codemirror_mode": {
    "name": "ipython",
    "version": 3
   },
   "file_extension": ".py",
   "mimetype": "text/x-python",
   "name": "python",
   "nbconvert_exporter": "python",
   "pygments_lexer": "ipython3",
   "version": "3.7.6"
  }
 },
 "nbformat": 4,
 "nbformat_minor": 4
}
