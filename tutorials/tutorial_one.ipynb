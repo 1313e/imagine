{
 "cells": [
  {
   "cell_type": "markdown",
   "metadata": {},
   "source": [
    "# Basic elements of an IMAGINE pipeline\n",
    "\n",
    "In this tutorial, we focus on introducing the basic building blocks of the IMAGINE package and how to use them for assembling a Bayesian analysis pipeline.\n",
    "\n",
    "We will use mock data with only two independent free parameters. First, we will generate the mock data. Then we will assemble all elements needed for the IMAGINE pipeline, execute the pipeline and investigate its results."
   ]
  },
  {
   "cell_type": "markdown",
   "metadata": {},
   "source": [
    "The mock data are designed to \"naively\" mimic Faraday depth, which is affected linearly by the (Galactic) magnetic field and thermal electron density. As a function of position $x$, we define a constant coherent magnetic field component $a_0$ and a random magnetic field component which is drawn from a Gaussian distribution with standard deviation $b_0$. The electron density is assumed to be independently known and given by a $\\cos(x)$ with arbitrary scaling. \n",
    "The mock data values we get are related to the Faraday depth of a background source at some arbitrary distance: \n",
    "\n",
    "$$ signal(x) = \\left[1+\\cos(x)\\right] \\times \\mathcal{G}(\\mu=a_0,\\sigma=b_0;seed=s)\\,{\\mu\\rm G\\,cm}^{-3} , \\; x \\in [0,2\\pi]\\,\\rm kpc$$\n",
    "\n",
    "where $\\{a_0,b_0\\}$ is the 'physical' parameter set, and $s$ represents the seed for random variable generation.\n"
   ]
  },
  {
   "cell_type": "markdown",
   "metadata": {},
   "source": [
    "\n",
    "The purpose is not to fit the exact signal, since it includes a stochastic component, but to fit the amplitude of the signal and of the variations around it.  So this is fitting the strength of the coherent field $a_0$ and the amplitude of the random field $b_0$.  With these mock data and its (co)variance matrix, we shall assemble the IMAGINE pipeline, execute it and examine its results. "
   ]
  },
  {
   "cell_type": "markdown",
   "metadata": {},
   "source": [
    "First, import the necessary packages."
   ]
  },
  {
   "cell_type": "code",
   "execution_count": 1,
   "metadata": {},
   "outputs": [],
   "source": [
    "import numpy as np\n",
    "import logging as log\n",
    "from astropy.table import Table\n",
    "import astropy.units as u\n",
    "import corner\n",
    "import matplotlib.pyplot as plt\n",
    "\n",
    "import imagine as img\n",
    "\n",
    "%matplotlib inline"
   ]
  },
  {
   "cell_type": "markdown",
   "metadata": {},
   "source": [
    "## 1) Preparing the mock data\n",
    "\n",
    "In calculating the mock data values, we introduce noise as:\n",
    "\n",
    "$$ data(x) = signal(x) + noise(x) $$\n",
    "\n",
    "For simplicity, we propose a simple gaussian noise with mean zero and a standard deviation $e$:\n",
    "\n",
    "$$ noise(x) = \\mathcal{G}(\\mu=0,\\sigma=e) $$ .\n",
    "\n",
    "We will assume that we have 10 points in the x-direction, in the range $[0, 2\\pi]\\,\\rm kpc$."
   ]
  },
  {
   "cell_type": "code",
   "execution_count": 2,
   "metadata": {
    "tags": [
     "nbval-ignore-output"
    ]
   },
   "outputs": [
    {
     "data": {
      "text/html": [
       "<i>Table length=4</i>\n",
       "<table id=\"table140440004365904\" class=\"table-striped table-bordered table-condensed\">\n",
       "<thead><tr><th>meas</th><th>err</th><th>x</th><th>y</th><th>z</th><th>other</th></tr></thead>\n",
       "<thead><tr><th>float64</th><th>float64</th><th>float64</th><th>float64</th><th>float64</th><th>float64</th></tr></thead>\n",
       "<tr><td>16.4217790817552</td><td>0.1</td><td>0.01</td><td>0.0</td><td>0.0</td><td>42.0</td></tr>\n",
       "<tr><td>7.172468731201507</td><td>0.1</td><td>0.7059094785755097</td><td>0.0</td><td>0.0</td><td>42.0</td></tr>\n",
       "<tr><td>-3.2254947821460433</td><td>0.1</td><td>1.4018189571510193</td><td>0.0</td><td>0.0</td><td>42.0</td></tr>\n",
       "<tr><td>0.27949334758966465</td><td>0.1</td><td>2.0977284357265287</td><td>0.0</td><td>0.0</td><td>42.0</td></tr>\n",
       "</table>"
      ],
      "text/plain": [
       "<Table length=4>\n",
       "        meas          err           x             y       z     other \n",
       "      float64       float64      float64       float64 float64 float64\n",
       "------------------- ------- ------------------ ------- ------- -------\n",
       "   16.4217790817552     0.1               0.01     0.0     0.0    42.0\n",
       "  7.172468731201507     0.1 0.7059094785755097     0.0     0.0    42.0\n",
       "-3.2254947821460433     0.1 1.4018189571510193     0.0     0.0    42.0\n",
       "0.27949334758966465     0.1 2.0977284357265287     0.0     0.0    42.0"
      ]
     },
     "execution_count": 2,
     "metadata": {},
     "output_type": "execute_result"
    }
   ],
   "source": [
    "a0 = 3. # true value of a in microgauss\n",
    "b0 = 6. # true value of b in microgauss\n",
    "e = 0.1 # std of gaussian measurement error\n",
    "s = 233 # seed fixed for signal field\n",
    "\n",
    "size = 10 # data size in measurements\n",
    "x = np.linspace(0.01,2.*np.pi-0.01,size) # where the observer is looking at\n",
    "\n",
    "np.random.seed(s) # set seed for signal field\n",
    "\n",
    "signal = (1+np.cos(x)) * np.random.normal(loc=a0,scale=b0,size=size)\n",
    "\n",
    "fd = signal + np.random.normal(loc=0.,scale=e,size=size)\n",
    "\n",
    "# We load these to an astropy table for illustration/visualisation\n",
    "data = Table({'meas' : fd, \n",
    "              'err': np.ones_like(fd)*e,\n",
    "              'x': x,\n",
    "              'y': np.zeros_like(fd),\n",
    "              'z': np.zeros_like(fd),\n",
    "              'other': np.ones_like(fd)*42\n",
    "              })\n",
    "data[:4] # Shows the first 4 points in tabular form"
   ]
  },
  {
   "cell_type": "markdown",
   "metadata": {},
   "source": [
    "These data need to be converted to an IMAGINE compatible format. To do this, we first create `TabularDataset` object, \n",
    "which helps importing dictionary-like dataset onto IMAGINE.   "
   ]
  },
  {
   "cell_type": "code",
   "execution_count": 3,
   "metadata": {},
   "outputs": [],
   "source": [
    "fd_units = u.microgauss*u.cm**-3\n",
    "\n",
    "mockDataset = img.observables.TabularDataset(data, name='test', \n",
    "                                             data_column='meas', \n",
    "                                             coordinates_type='cartesian',\n",
    "                                             x_column='x', y_column='y', \n",
    "                                             z_column='z', error_column='err',\n",
    "                                             units=fd_units)"
   ]
  },
  {
   "cell_type": "markdown",
   "metadata": {},
   "source": [
    "These lines simply explain how to read the tabular dataset (note that the 'other' column is ignored): `name` contains the type of observable we are using (here, we use 'test', it could also be 'sync' for synchrotron observables (e.g, Stokes parameters), 'fd' for Faraday Depth, etc. The `data_column` argument specifies the key or name of the column containing the relevant measurement. Coordinates can be either `cartesian` as in this example, which requires specifying columns for $x$, $y$ and $z$ in $\\rm kpc$, or  `galactic`, which requires setting the arguments `lat_column` and `lon_column` both in degrees.\n",
    "The units of the dataset are represented using [astropy.units](https://docs.astropy.org/en/stable/units/) objects and must be supplied (the Simulator will later check whether these are adequate and automatically convert the data to other units if needed).\n"
   ]
  },
  {
   "cell_type": "markdown",
   "metadata": {},
   "source": [
    "The dataset can be loaded onto `Measurements` and `Covariances` object, which are subclasses of `ObservableDict`. These objects allow one to supply multiple datasets to the pipeline."
   ]
  },
  {
   "cell_type": "code",
   "execution_count": 4,
   "metadata": {},
   "outputs": [],
   "source": [
    "mock_data = img.observables.Measurements() # create empty Measrurements object\n",
    "mock_data.append(dataset=mockDataset)\n",
    "\n",
    "mock_cov = img.observables.Covariances() # create empty Covariance object\n",
    "mock_cov.append(dataset=mockDataset)"
   ]
  },
  {
   "cell_type": "markdown",
   "metadata": {},
   "source": [
    "The dataset object creates a standard key for each appended dataset. In our case, there is only one key."
   ]
  },
  {
   "cell_type": "code",
   "execution_count": 5,
   "metadata": {},
   "outputs": [
    {
     "data": {
      "text/plain": [
       "[('test', 'nan', 'tab', 'nan')]"
      ]
     },
     "execution_count": 5,
     "metadata": {},
     "output_type": "execute_result"
    }
   ],
   "source": [
    "keys = list(mock_data.keys())\n",
    "keys"
   ]
  },
  {
   "cell_type": "markdown",
   "metadata": {},
   "source": [
    "Let us plot the mock data as well as the $1+\\cos(x)$ function that is the underlying variation.  \n",
    "\n",
    "The property `Measurements.global_data` extracts arrays from the `Observable` object which is hosted inside the `ObservableDict` class. "
   ]
  },
  {
   "cell_type": "code",
   "execution_count": 6,
   "metadata": {},
   "outputs": [
    {
     "data": {
      "image/png": "[encoded data removed]",
      "text/plain": [
       "<Figure size 432x288 with 1 Axes>"
      ]
     },
     "metadata": {
      "needs_background": "light"
     },
     "output_type": "display_data"
    }
   ],
   "source": [
    "plt.scatter(x, mock_data[keys[0]].global_data[0], marker='.', label='signal')\n",
    "plt.plot(x,(1+np.cos(x))*a0,'r--',label='$1+\\cos(x)$')\n",
    "plt.xlabel('x'); plt.legend();"
   ]
  },
  {
   "cell_type": "markdown",
   "metadata": {},
   "source": [
    "Note that the variance in the signal is highest where the $\\cos(x)$ is also strongest. This is the way we expect the Faraday depth to work, since a fluctuation in the strength of $\\mathbf B$ has a larger effect on the RM when $n_e$ also happens to be higher. "
   ]
  },
  {
   "cell_type": "markdown",
   "metadata": {},
   "source": [
    "## 2) Pipeline assembly\n",
    "\n",
    "Now that we have generated mock data, there are a few steps to set up the pipeline to estimate the input parameters.  We need to specify: a grid, Field Factories, Simulators, and Likelihoods.\n",
    "\n",
    "### Setting the coordinate grid\n",
    "\n",
    "Fields in IMAGINE represent models of any kind of physical field -- in this particular tutorial, we will need a magnetic field and thermal electron density. \n",
    "\n",
    "The Fields are evaluated on a grid of coordinates, represented by a `img.Grid` object. Here we exemplify how to produce a *regular cartesian* grid. To do so, we need to specify the values of the coordinates on the 6 extremities of the box (i.e. the minimum and maximum value for each coordinate), and the resolution over each dimension.  \n",
    "\n",
    "For this particular artificial example, we actually only need one dimension, \n",
    "so we set the resolution to 1 for $y$ and $z$. "
   ]
  },
  {
   "cell_type": "code",
   "execution_count": 7,
   "metadata": {},
   "outputs": [],
   "source": [
    "one_d_grid = img.fields.UniformGrid(box=[[0,2*np.pi]*u.kpc,\n",
    "                                         [0,0]*u.kpc,\n",
    "                                         [0,0]*u.kpc],\n",
    "                                    resolution=[30,1,1])"
   ]
  },
  {
   "cell_type": "markdown",
   "metadata": {},
   "source": [
    "### Preparing the Field Factory list\n",
    "\n",
    "A particular realisation of a model for a physical field is represented within IMAGINE by a *Field* object, which, given set of parameters, evaluates the field for over the grid.  \n",
    "\n",
    "A *Field Factory* is an associated piece of infrastructure used by the Pipeline to produce new Fields. It is a Factory object that needs to be initialized and supplied to the Pipeline. This is what we will illustrate here. \n"
   ]
  },
  {
   "cell_type": "code",
   "execution_count": 8,
   "metadata": {},
   "outputs": [],
   "source": [
    "from imagine import fields\n",
    "ne_factory = fields.CosThermalElectronDensityFactory(grid=one_d_grid)"
   ]
  },
  {
   "cell_type": "markdown",
   "metadata": {},
   "source": [
    "The previous line instantiates `CosThermalElectronDensityFactory` with the previously defined Grid object. This Factory allows the Pipeline to produce\n",
    "`CosThermalElectronDensity` objects. These correspond to a toy model for electron density with the form: \n",
    "$$n_e(x,y,z) = n_0 [1+\\cos (a x + \\alpha)][1+\\cos (b y + \\beta)][1+\\cos(c y + \\gamma)]\\,. $$ \n",
    "\n",
    "We can set and check the default parameter values in the following way:"
   ]
  },
  {
   "cell_type": "code",
   "execution_count": 9,
   "metadata": {},
   "outputs": [
    {
     "data": {
      "text/plain": [
       "{'n0': <Quantity 1. 1 / cm3>,\n",
       " 'a': <Quantity 1. rad / kpc>,\n",
       " 'b': <Quantity 0. rad / kpc>,\n",
       " 'c': <Quantity 0. rad / kpc>,\n",
       " 'alpha': <Quantity 0. rad>,\n",
       " 'beta': <Quantity 1.57079633 rad>,\n",
       " 'gamma': <Quantity 1.57079633 rad>}"
      ]
     },
     "execution_count": 9,
     "metadata": {},
     "output_type": "execute_result"
    }
   ],
   "source": [
    "ne_factory.default_parameters= {'a': 1*u.rad/u.kpc,\n",
    "                                'beta':  np.pi/2*u.rad, \n",
    "                                'gamma': np.pi/2*u.rad}\n",
    "ne_factory.default_parameters"
   ]
  },
  {
   "cell_type": "code",
   "execution_count": 10,
   "metadata": {},
   "outputs": [
    {
     "data": {
      "text/plain": [
       "()"
      ]
     },
     "execution_count": 10,
     "metadata": {},
     "output_type": "execute_result"
    }
   ],
   "source": [
    "ne_factory.active_parameters"
   ]
  },
  {
   "cell_type": "markdown",
   "metadata": {},
   "source": [
    "For `ne_factory`, no active parameters were set. This means that the Field will be always evaluated using the specified default parameter values."
   ]
  },
  {
   "cell_type": "markdown",
   "metadata": {},
   "source": [
    "We will now similarly define the magnetic field, using the `NaiveGaussianMagneticField` which constructs a \"naive\" random field (i.e. the magnitude of $x$, $y$ and $z$ components of the field are drawn from a Gaussian distribution **without** imposing *zero divergence*, thus *do not use this for serious applications*)."
   ]
  },
  {
   "cell_type": "code",
   "execution_count": 11,
   "metadata": {},
   "outputs": [],
   "source": [
    "B_factory = fields.NaiveGaussianMagneticFieldFactory(grid=one_d_grid)"
   ]
  },
  {
   "cell_type": "markdown",
   "metadata": {},
   "source": [
    "Differently from the case of `ne_factory`, in this case we would like to make the parameters active. All individual components of the field are drawn from a Gaussian distribution with mean $a_0$ and standard deviation $b_0$. To set these parameters as active we do:"
   ]
  },
  {
   "cell_type": "code",
   "execution_count": 12,
   "metadata": {},
   "outputs": [],
   "source": [
    "B_factory.active_parameters = ('a0','b0')\n",
    "B_factory.priors ={'a0': img.priors.FlatPrior(interval=[-5,5]*u.microgauss),\n",
    "                   'b0': img.priors.FlatPrior(interval=[0,10]*u.microgauss)}"
   ]
  },
  {
   "cell_type": "markdown",
   "metadata": {},
   "source": [
    "In the lines above we chose uniform (flat) priors for both parameters within the above specified ranges. Any active parameter must have a Prior distribution specified.\n",
    "\n",
    "Once the two FieldFactory objects are prepared, they put together in a list which is later supplied to the Pipeline."
   ]
  },
  {
   "cell_type": "code",
   "execution_count": 13,
   "metadata": {},
   "outputs": [],
   "source": [
    "factory_list = [ne_factory, B_factory]"
   ]
  },
  {
   "cell_type": "markdown",
   "metadata": {},
   "source": [
    "### Initializing the Simulator\n",
    "\n",
    "For this tutorial, we use a customized TestSimulator which simply computes the quantity: $t(x,y,z) = B_y\\,n_e\\,$,i.e. the contribution at one specific point to the Faraday depth.\n",
    "\n",
    "The simulator is inialized with the mock Measurements defined before, which allows it to know what is the correct format for output."
   ]
  },
  {
   "cell_type": "code",
   "execution_count": 14,
   "metadata": {},
   "outputs": [],
   "source": [
    "from imagine.simulators import TestSimulator\n",
    "simer = TestSimulator(mock_data)"
   ]
  },
  {
   "cell_type": "markdown",
   "metadata": {},
   "source": [
    "### Initializing the Likelihood\n",
    "IMAGINE provides the `Likelihood` class with `EnsembleLikelihood` and `SimpleLikelihood` as two options.  The `SimpleLikelihood` is what you expect, computing a single $\\chi^2$ from the difference of the simulated and the measured datasets.  The `EnsembleLikelihood` is how IMAGINE handles a signal which itself includes a stochastic component, e.g., what we call the Galactic variance.  This likelihood module makes use of a finite ensemble of simulated realizations and uses their mean and covariance to compare them to the measured dataset.  "
   ]
  },
  {
   "cell_type": "code",
   "execution_count": 15,
   "metadata": {},
   "outputs": [],
   "source": [
    "likelihood = img.likelihoods.EnsembleLikelihood(mock_data, mock_cov)"
   ]
  },
  {
   "cell_type": "markdown",
   "metadata": {},
   "source": [
    "## 3) Running the pipeline\n",
    "\n",
    "Now we have all the necessary components available to run our pipeline. This can be done through a `Pipeline` object, which interfaces with some algorithm to sample the likelihood space accounting for the prescribed prior distributions for the parameters. \n",
    "\n",
    "IMAGINE comes with a range of samplers coded as different Pipeline classes, most of which are based on the nested sampling approach. \n",
    "In what follows we will use the [UltraNest](https://johannesbuchner.github.io/UltraNest/) sampler as an example."
   ]
  },
  {
   "cell_type": "markdown",
   "metadata": {},
   "source": [
    "IMAGINE takes care of stochastic fields by evaluating an ensemble of random realisations for each selected point in the parameter space, and computing the associated covariance (i.e. estimating the [Galactic variance](https://ui.adsabs.harvard.edu/abs/2010MNRAS.401.1013J/abstract)). We can set this up through the `ensemble_size` argument.\n",
    "\n",
    "Now we are ready to initialize our final pipeline."
   ]
  },
  {
   "cell_type": "code",
   "execution_count": 16,
   "metadata": {},
   "outputs": [],
   "source": [
    "pipeline = img.pipelines.UltranestPipeline(simulator=simer, \n",
    "                                           factory_list=factory_list, \n",
    "                                           likelihood=likelihood, \n",
    "                                           ensemble_size=150,\n",
    "                                           chains_directory=None)"
   ]
  },
  {
   "cell_type": "markdown",
   "metadata": {},
   "source": [
    "The `chains_directory` keyword may contain a path where the chains generated by the sampler are saved in the sampler's native format (if the sampler supports this). If this argument is absent or set to `None`, a temporary directory will be created in the *current working directory*, and will be automatically removed when  together the Pipeline object becomes out of scope (e.g. when one runs `del pipeline` or exits the script/notebook).  After initialization, we can check this choice inspecting the `chains_directory` property:"
   ]
  },
  {
   "cell_type": "code",
   "execution_count": 17,
   "metadata": {
    "tags": [
     "nbval-ignore-output"
    ]
   },
   "outputs": [
    {
     "data": {
      "text/plain": [
       "'/home/lfsr/IMAGINE/imagine-pipeline/tutorials/imagine_chains_2i8qk58j'"
      ]
     },
     "execution_count": 17,
     "metadata": {},
     "output_type": "execute_result"
    }
   ],
   "source": [
    "pipeline.chains_directory"
   ]
  },
  {
   "cell_type": "markdown",
   "metadata": {},
   "source": [
    "The property `sampling_controllers` allows one to send sampler-specific parameters to the chosen Pipeline. \n",
    "Each IMAGINE Pipeline object will have slightly different sampling controllers, which can be found in the specific Pipeline's docstring."
   ]
  },
  {
   "cell_type": "code",
   "execution_count": 18,
   "metadata": {},
   "outputs": [],
   "source": [
    "pipeline.sampling_controllers = {'max_ncalls': 500, 'min_num_live_points': 50}"
   ]
  },
  {
   "cell_type": "markdown",
   "metadata": {},
   "source": [
    "The `UltranestPipeline`, for example, allows one to set a limit on the number of likelihood evaluations using the sampling controller `'max_ncalls'`). This is convenient for quick tests and examples (as this tutorial). Similar functionality is available in the `DynestyPipeline` under the name `'max_call'` (and also `'max_call_init'`/`'max_call_batch'` for dynamic nested sampling).\n",
    "\n",
    "In a production run, however, one would rather set the target estimated uncertainty in the model evidence and/or target posterior uncertainty, and allow the model to converge to it. This can be done using the following sampling controllers (do check individual docs for details):\n",
    "\n",
    "In `UltranestPipeline` this is done using `'dlogZ'` for target log-evidence error and `'dKL'` for target posterior error. In `MultinestPipeline` one can only controll the target log-evidence error, using `'evidence_tolerance'`.  In `DynestyPipeline` the log-evidence error can be controlled using: `'dlogz'` (also `'dlogz_init'`), but the sampler can also try to optimize the estimate of the posterior while running in the *dynamic* mode.\n"
   ]
  },
  {
   "cell_type": "markdown",
   "metadata": {},
   "source": [
    "Now, we *finally* can run the pipeline!"
   ]
  },
  {
   "cell_type": "code",
   "execution_count": 19,
   "metadata": {
    "tags": [
     "nbval-ignore-output"
    ]
   },
   "outputs": [
    {
     "name": "stdout",
     "output_type": "stream",
     "text": [
      "[ultranest] PointStore: have 0 items\n"
     ]
    },
    {
     "name": "stderr",
     "output_type": "stream",
     "text": [
      "INFO:ultranest:PointStore: have 0 items\n"
     ]
    },
    {
     "name": "stdout",
     "output_type": "stream",
     "text": [
      "[ultranest] Sampling 50 live points from prior ...\n"
     ]
    },
    {
     "name": "stderr",
     "output_type": "stream",
     "text": [
      "INFO:ultranest:Sampling 50 live points from prior ...\n",
      "DEBUG:ultranest:minimal_widths_sequence: [(-inf, 50.0), (inf, 50.0)]\n"
     ]
    },
    {
     "name": "stdout",
     "output_type": "stream",
     "text": [
      "[ultranest] Explored until L=-3e+01   [-2211.1490..-30.6137] | it/evals=144/500 eff=32.0000% N=50 \n"
     ]
    },
    {
     "name": "stderr",
     "output_type": "stream",
     "text": [
      "INFO:ultranest:Explored until L=-3e+01  \n"
     ]
    },
    {
     "name": "stdout",
     "output_type": "stream",
     "text": [
      "[ultranest] Likelihood function evaluations: 500\n"
     ]
    },
    {
     "name": "stderr",
     "output_type": "stream",
     "text": [
      "INFO:ultranest:Likelihood function evaluations: 500\n"
     ]
    },
    {
     "name": "stdout",
     "output_type": "stream",
     "text": [
      "[ultranest] Writing samples and results to disk ...\n"
     ]
    },
    {
     "name": "stderr",
     "output_type": "stream",
     "text": [
      "INFO:ultranest:Writing samples and results to disk ...\n"
     ]
    },
    {
     "name": "stdout",
     "output_type": "stream",
     "text": [
      "[ultranest] Writing samples and results to disk ... done\n"
     ]
    },
    {
     "name": "stderr",
     "output_type": "stream",
     "text": [
      "INFO:ultranest:Writing samples and results to disk ... done\n",
      "DEBUG:ultranest:did a run_iter pass!\n"
     ]
    },
    {
     "name": "stdout",
     "output_type": "stream",
     "text": [
      "[ultranest] Reached maximum number of likelihood calls (500 > 500)...\n"
     ]
    },
    {
     "name": "stderr",
     "output_type": "stream",
     "text": [
      "INFO:ultranest:Reached maximum number of likelihood calls (500 > 500)...\n"
     ]
    },
    {
     "name": "stdout",
     "output_type": "stream",
     "text": [
      "[ultranest] done iterating.\n"
     ]
    },
    {
     "name": "stderr",
     "output_type": "stream",
     "text": [
      "INFO:ultranest:done iterating.\n"
     ]
    }
   ],
   "source": [
    "results = pipeline()"
   ]
  },
  {
   "cell_type": "markdown",
   "metadata": {},
   "source": [
    "When one runs the pipeline it returns a results dictionary object in the native format of the chosen sampler. \n",
    "Alternatively, after running the pipeline object, the results can also be accessed through its attributes, \n",
    "which are standard interfaces (i.e. all pipelines should work in the same way). \n"
   ]
  },
  {
   "cell_type": "markdown",
   "metadata": {},
   "source": [
    "For comparing different models, the quantity of interest is the *model evidence* or *marginal likelihood*. After a run, this can be easily accessed as follows."
   ]
  },
  {
   "cell_type": "code",
   "execution_count": 20,
   "metadata": {},
   "outputs": [
    {
     "name": "stdout",
     "output_type": "stream",
     "text": [
      "log evidence: -32.3431\n",
      "log evidence error: 0.382\n"
     ]
    }
   ],
   "source": [
    "print('log evidence:', round(pipeline.log_evidence,4))\n",
    "print('log evidence error:', round(pipeline.log_evidence_err,4))"
   ]
  },
  {
   "cell_type": "markdown",
   "metadata": {},
   "source": [
    "A quick-and-dirty summary of the constraints on the parameters can be (nicely) displayed using the `posterior_report()` method. \n",
    "\n",
    "(The \"real\" parameter values were $a_0=3\\mu \\rm G$ and $b_0=6\\mu \\rm G$.)"
   ]
  },
  {
   "cell_type": "code",
   "execution_count": 21,
   "metadata": {},
   "outputs": [
    {
     "name": "stdout",
     "output_type": "stream",
     "text": [
      "\n",
      "Parameter constraints:\n"
     ]
    },
    {
     "data": {
      "text/latex": [
       "$\\displaystyle \\\\ \\text{ naive_gaussian_magnetic_field_a0: }\\; 2.7^{+1.3}_{-2.4}\\,\\mathrm{\\mu G}\\\\\\\\ \\text{ naive_gaussian_magnetic_field_b0: }\\; 5.7^{+1.7}_{-1.0}\\,\\mathrm{\\mu G}\\\\$"
      ],
      "text/plain": [
       "<IPython.core.display.Math object>"
      ]
     },
     "metadata": {},
     "output_type": "display_data"
    }
   ],
   "source": [
    "print('\\nParameter constraints:')\n",
    "pipeline.posterior_report()"
   ]
  },
  {
   "cell_type": "markdown",
   "metadata": {},
   "source": [
    "Similar information can be accessed through property `posterior_summary`, which returns a dictionary."
   ]
  },
  {
   "cell_type": "code",
   "execution_count": 22,
   "metadata": {},
   "outputs": [
    {
     "data": {
      "text/plain": [
       "{'naive_gaussian_magnetic_field_a0': {'median': <Quantity 2.70238735 uG>,\n",
       "  'errlo': <Quantity 2.41938506 uG>,\n",
       "  'errup': <Quantity 1.31069702 uG>,\n",
       "  'mean': <Quantity 2.25622256 uG>,\n",
       "  'stdev': <Quantity 1.85700372 uG>},\n",
       " 'naive_gaussian_magnetic_field_b0': {'median': <Quantity 5.65438118 uG>,\n",
       "  'errlo': <Quantity 1.03419168 uG>,\n",
       "  'errup': <Quantity 1.66290483 uG>,\n",
       "  'mean': <Quantity 5.83415716 uG>,\n",
       "  'stdev': <Quantity 1.30901039 uG>}}"
      ]
     },
     "execution_count": 22,
     "metadata": {},
     "output_type": "execute_result"
    }
   ],
   "source": [
    "pipeline.posterior_summary"
   ]
  },
  {
   "cell_type": "markdown",
   "metadata": {},
   "source": [
    "In most cases, however, one would (should) prefer to work directly on the samples produced by the sampler. \n",
    "A table containing the parameter values of the samples generated can be accessed through:"
   ]
  },
  {
   "cell_type": "code",
   "execution_count": 23,
   "metadata": {
    "tags": [
     "nbval-ignore-output"
    ]
   },
   "outputs": [
    {
     "data": {
      "text/html": [
       "<i>QTable length=3</i>\n",
       "<table id=\"table140439869466448\" class=\"table-striped table-bordered table-condensed\">\n",
       "<thead><tr><th>naive_gaussian_magnetic_field_a0</th><th>naive_gaussian_magnetic_field_b0</th></tr></thead>\n",
       "<thead><tr><th>uG</th><th>uG</th></tr></thead>\n",
       "<thead><tr><th>float64</th><th>float64</th></tr></thead>\n",
       "<tr><td>4.081100349132784</td><td>6.717489837154965</td></tr>\n",
       "<tr><td>0.12377231861508164</td><td>6.231348024468215</td></tr>\n",
       "<tr><td>3.830092802478381</td><td>4.537991481720585</td></tr>\n",
       "</table>"
      ],
      "text/plain": [
       "<QTable length=3>\n",
       "naive_gaussian_magnetic_field_a0 naive_gaussian_magnetic_field_b0\n",
       "               uG                               uG               \n",
       "            float64                          float64             \n",
       "-------------------------------- --------------------------------\n",
       "               4.081100349132784                6.717489837154965\n",
       "             0.12377231861508164                6.231348024468215\n",
       "               3.830092802478381                4.537991481720585"
      ]
     },
     "execution_count": 23,
     "metadata": {},
     "output_type": "execute_result"
    }
   ],
   "source": [
    "samples = pipeline.samples\n",
    "samples[:3] # Displays only first 3 rows"
   ]
  },
  {
   "cell_type": "markdown",
   "metadata": {},
   "source": [
    "The distributions of samples approximate the posterior distribution, below this is plotted with the help of the [corner](https://corner.readthedocs.io/en/latest/) library, whcih also shows the best-fit values and $1\\sigma$ and $2\\sigma$ contours."
   ]
  },
  {
   "cell_type": "code",
   "execution_count": 24,
   "metadata": {},
   "outputs": [],
   "source": [
    "def plot_samples_corner(samp):  \n",
    "\n",
    "    ##  See https://corner.readthedocs.io/en/latest/pages/sigmas.html about contour levels.  \n",
    "    ##  \"Contours are shown at 0.5, 1, 1.5, and 2 sigma\" by default\n",
    "    ##  according to https://pypi.org/project/corner/1.0.1/, but I want 1, 2, and 3.\n",
    "    sigmas=np.array([1.,2.,3.])\n",
    "    levels=1-np.exp(-0.5*sigmas*sigmas)\n",
    "\n",
    "    # Visualize with a corner plot\n",
    "    figure = corner.corner(np.vstack([samp.columns[0].value, samp.columns[1].value]).T,\n",
    "                           range=[0.99]*len(samp.colnames),\n",
    "                           quantiles=[0.02, 0.5, 0.98],\n",
    "                           labels=samp.colnames,\n",
    "                           show_titles=True,\n",
    "                           title_kwargs={\"fontsize\": 12},\n",
    "                           color='steelblue',\n",
    "                           truths=[a0,b0],\n",
    "                           truth_color='firebrick',\n",
    "                           plot_contours=True,\n",
    "                           hist_kwargs={'linewidth': 2},\n",
    "                           label_kwargs={'fontsize': 10},\n",
    "                           levels=levels)"
   ]
  },
  {
   "cell_type": "code",
   "execution_count": 25,
   "metadata": {},
   "outputs": [
    {
     "name": "stderr",
     "output_type": "stream",
     "text": [
      "WARNING:root:Too few points to create valid contours\n"
     ]
    },
    {
     "data": {
      "image/png": "[encoded data removed]",
      "text/plain": [
       "<Figure size 396x396 with 4 Axes>"
      ]
     },
     "metadata": {
      "needs_background": "light"
     },
     "output_type": "display_data"
    }
   ],
   "source": [
    "plot_samples_corner(samples)"
   ]
  },
  {
   "cell_type": "markdown",
   "metadata": {},
   "source": [
    "One can, of course, choose other plotting/analysis routines. Below, the use of [seaborn](http://seaborn.pydata.org) is exemplified."
   ]
  },
  {
   "cell_type": "code",
   "execution_count": 26,
   "metadata": {},
   "outputs": [],
   "source": [
    "import seaborn as sns\n",
    "def plot_samples_seaborn(samp):\n",
    "    \n",
    "    def show_truth_in_jointplot(jointplot, true_x, true_y, color='r'):\n",
    "        for ax in (jointplot.ax_joint, jointplot.ax_marg_x):\n",
    "            ax.vlines([true_x], *ax.get_ylim(), colors=color)\n",
    "        for ax in (jointplot.ax_joint, jointplot.ax_marg_y):\n",
    "            ax.hlines([true_y], *ax.get_xlim(), colors=color)\n",
    "\n",
    "    snsfig = sns.jointplot(*samp.colnames, data=samp.to_pandas(), kind='kde')\n",
    "    snsfig.plot_joint(sns.scatterplot, linewidth=0, marker='.', color='0.3')\n",
    "    show_truth_in_jointplot(snsfig, a0, b0)"
   ]
  },
  {
   "cell_type": "code",
   "execution_count": 27,
   "metadata": {},
   "outputs": [
    {
     "data": {
      "image/png": "[encoded data removed]",
      "text/plain": [
       "<Figure size 432x432 with 3 Axes>"
      ]
     },
     "metadata": {
      "needs_background": "light"
     },
     "output_type": "display_data"
    }
   ],
   "source": [
    "plot_samples_seaborn(samples)"
   ]
  },
  {
   "cell_type": "markdown",
   "metadata": {},
   "source": [
    "## Random seeds and convergence checks\n",
    "\n",
    "The pipeline relies on random numbers in multiple ways. \n",
    "The Monte Carlo sampler will draw randomly chosen points in the parameter space duing its exploration (in the specific case of *nested sampling* pipelines, these are drawn from the prior distributions). Also, while evaluating the fields at each point, random realisations of the stochastic fields are generated.\n",
    "\n",
    "It is possible to control the behaviour of the random seeding of an IMAGINE pipeline through the attribute `master_seed`. This attribute has two uses: it is passed to the sampler, ensuring that its behaviour is reproducible; and it is also used to generate a fresh list of new random seeds to each stochastic field that is evaluated. "
   ]
  },
  {
   "cell_type": "code",
   "execution_count": 28,
   "metadata": {},
   "outputs": [
    {
     "data": {
      "text/plain": [
       "1"
      ]
     },
     "execution_count": 28,
     "metadata": {},
     "output_type": "execute_result"
    }
   ],
   "source": [
    "pipeline.master_seed"
   ]
  },
  {
   "cell_type": "markdown",
   "metadata": {},
   "source": [
    "By default, the master seed is fixed and set to 1, but you can alter its value before running the pipeline. \n",
    "\n",
    "One can also change the seeding behaviour through the `random_type` attribute. There are three allowed options for this:\n",
    "\n",
    "* 'controllable' - the `master_seed` is constant and a re-running the pipeline should lead to the exact same results (default);\n",
    "* 'free' - on each execution, a new `master_seed` is drawn (using numpy.randint);\n",
    "* 'fixed' - this mode is for debugging purposes. The `master_seed` is fixed, as in the 'controllable' case, however each individual stochastic field receives the exact same list of ensemble seeds every time (while in the `controllable` these are chosen \"randomly\" at run-time). Such choice can be inspected using `pipeline.ensemble_seeds`."
   ]
  },
  {
   "cell_type": "markdown",
   "metadata": {},
   "source": [
    "Let us now check whether different executions of the pipeline are generating consistent results.\n",
    "To do so, we run it five times and just overplot histograms of the outputs to see if they all look the same. There are more rigorous tests, of course, that we have done, but they take longer.  The following can be done in a few minutes."
   ]
  },
  {
   "cell_type": "code",
   "execution_count": 29,
   "metadata": {
    "tags": [
     "nbval-skip"
    ]
   },
   "outputs": [
    {
     "name": "stdout",
     "output_type": "stream",
     "text": [
      "------------------------------------------------------------\n",
      "Run 2/5\n",
      "[ultranest] PointStore: have 0 items\n"
     ]
    },
    {
     "name": "stderr",
     "output_type": "stream",
     "text": [
      "INFO:ultranest:PointStore: have 0 items\n"
     ]
    },
    {
     "name": "stdout",
     "output_type": "stream",
     "text": [
      "[ultranest] Sampling 50 live points from prior ...\n"
     ]
    },
    {
     "name": "stderr",
     "output_type": "stream",
     "text": [
      "INFO:ultranest:Sampling 50 live points from prior ...\n",
      "DEBUG:ultranest:minimal_widths_sequence: [(-inf, 50.0), (inf, 50.0)]\n"
     ]
    },
    {
     "name": "stdout",
     "output_type": "stream",
     "text": [
      "[ultranest] Explored until L=-3e+01   [-31.0469..-29.8293] | it/evals=169/501 eff=37.4723% N=50 0 \n"
     ]
    },
    {
     "name": "stderr",
     "output_type": "stream",
     "text": [
      "INFO:ultranest:Explored until L=-3e+01  \n"
     ]
    },
    {
     "name": "stdout",
     "output_type": "stream",
     "text": [
      "[ultranest] Likelihood function evaluations: 501\n"
     ]
    },
    {
     "name": "stderr",
     "output_type": "stream",
     "text": [
      "INFO:ultranest:Likelihood function evaluations: 501\n"
     ]
    },
    {
     "name": "stdout",
     "output_type": "stream",
     "text": [
      "[ultranest] Writing samples and results to disk ...\n"
     ]
    },
    {
     "name": "stderr",
     "output_type": "stream",
     "text": [
      "INFO:ultranest:Writing samples and results to disk ...\n"
     ]
    },
    {
     "name": "stdout",
     "output_type": "stream",
     "text": [
      "[ultranest] Writing samples and results to disk ... done\n"
     ]
    },
    {
     "name": "stderr",
     "output_type": "stream",
     "text": [
      "INFO:ultranest:Writing samples and results to disk ... done\n",
      "DEBUG:ultranest:did a run_iter pass!\n"
     ]
    },
    {
     "name": "stdout",
     "output_type": "stream",
     "text": [
      "[ultranest] Reached maximum number of likelihood calls (501 > 500)...\n"
     ]
    },
    {
     "name": "stderr",
     "output_type": "stream",
     "text": [
      "INFO:ultranest:Reached maximum number of likelihood calls (501 > 500)...\n"
     ]
    },
    {
     "name": "stdout",
     "output_type": "stream",
     "text": [
      "[ultranest] done iterating.\n"
     ]
    },
    {
     "name": "stderr",
     "output_type": "stream",
     "text": [
      "INFO:ultranest:done iterating.\n"
     ]
    },
    {
     "name": "stdout",
     "output_type": "stream",
     "text": [
      "------------------------------------------------------------\n",
      "Run 3/5\n",
      "[ultranest] PointStore: have 0 items\n"
     ]
    },
    {
     "name": "stderr",
     "output_type": "stream",
     "text": [
      "INFO:ultranest:PointStore: have 0 items\n"
     ]
    },
    {
     "name": "stdout",
     "output_type": "stream",
     "text": [
      "[ultranest] Sampling 50 live points from prior ...\n"
     ]
    },
    {
     "name": "stderr",
     "output_type": "stream",
     "text": [
      "INFO:ultranest:Sampling 50 live points from prior ...\n",
      "DEBUG:ultranest:minimal_widths_sequence: [(-inf, 50.0), (inf, 50.0)]\n"
     ]
    },
    {
     "name": "stdout",
     "output_type": "stream",
     "text": [
      "[ultranest] Explored until L=-3e+01   [-30.9045..-29.7086] | it/evals=168/502 eff=37.1681% N=50 0 \n"
     ]
    },
    {
     "name": "stderr",
     "output_type": "stream",
     "text": [
      "INFO:ultranest:Explored until L=-3e+01  \n"
     ]
    },
    {
     "name": "stdout",
     "output_type": "stream",
     "text": [
      "[ultranest] Likelihood function evaluations: 502\n"
     ]
    },
    {
     "name": "stderr",
     "output_type": "stream",
     "text": [
      "INFO:ultranest:Likelihood function evaluations: 502\n"
     ]
    },
    {
     "name": "stdout",
     "output_type": "stream",
     "text": [
      "[ultranest] Writing samples and results to disk ...\n"
     ]
    },
    {
     "name": "stderr",
     "output_type": "stream",
     "text": [
      "INFO:ultranest:Writing samples and results to disk ...\n"
     ]
    },
    {
     "name": "stdout",
     "output_type": "stream",
     "text": [
      "[ultranest] Writing samples and results to disk ... done\n"
     ]
    },
    {
     "name": "stderr",
     "output_type": "stream",
     "text": [
      "INFO:ultranest:Writing samples and results to disk ... done\n",
      "DEBUG:ultranest:did a run_iter pass!\n"
     ]
    },
    {
     "name": "stdout",
     "output_type": "stream",
     "text": [
      "[ultranest] Reached maximum number of likelihood calls (502 > 500)...\n"
     ]
    },
    {
     "name": "stderr",
     "output_type": "stream",
     "text": [
      "INFO:ultranest:Reached maximum number of likelihood calls (502 > 500)...\n"
     ]
    },
    {
     "name": "stdout",
     "output_type": "stream",
     "text": [
      "[ultranest] done iterating.\n"
     ]
    },
    {
     "name": "stderr",
     "output_type": "stream",
     "text": [
      "INFO:ultranest:done iterating.\n"
     ]
    },
    {
     "name": "stdout",
     "output_type": "stream",
     "text": [
      "------------------------------------------------------------\n",
      "Run 4/5\n",
      "[ultranest] PointStore: have 0 items\n"
     ]
    },
    {
     "name": "stderr",
     "output_type": "stream",
     "text": [
      "INFO:ultranest:PointStore: have 0 items\n"
     ]
    },
    {
     "name": "stdout",
     "output_type": "stream",
     "text": [
      "[ultranest] Sampling 50 live points from prior ...\n"
     ]
    },
    {
     "name": "stderr",
     "output_type": "stream",
     "text": [
      "INFO:ultranest:Sampling 50 live points from prior ...\n",
      "DEBUG:ultranest:minimal_widths_sequence: [(-inf, 50.0), (inf, 50.0)]\n"
     ]
    },
    {
     "name": "stdout",
     "output_type": "stream",
     "text": [
      "[ultranest] Explored until L=-3e+01   [-680.4351..-30.5342] | it/evals=154/523 eff=32.5581% N=50 \n"
     ]
    },
    {
     "name": "stderr",
     "output_type": "stream",
     "text": [
      "INFO:ultranest:Explored until L=-3e+01  \n"
     ]
    },
    {
     "name": "stdout",
     "output_type": "stream",
     "text": [
      "[ultranest] Likelihood function evaluations: 523\n"
     ]
    },
    {
     "name": "stderr",
     "output_type": "stream",
     "text": [
      "INFO:ultranest:Likelihood function evaluations: 523\n"
     ]
    },
    {
     "name": "stdout",
     "output_type": "stream",
     "text": [
      "[ultranest] Writing samples and results to disk ...\n"
     ]
    },
    {
     "name": "stderr",
     "output_type": "stream",
     "text": [
      "INFO:ultranest:Writing samples and results to disk ...\n"
     ]
    },
    {
     "name": "stdout",
     "output_type": "stream",
     "text": [
      "[ultranest] Writing samples and results to disk ... done\n"
     ]
    },
    {
     "name": "stderr",
     "output_type": "stream",
     "text": [
      "INFO:ultranest:Writing samples and results to disk ... done\n",
      "DEBUG:ultranest:did a run_iter pass!\n"
     ]
    },
    {
     "name": "stdout",
     "output_type": "stream",
     "text": [
      "[ultranest] Reached maximum number of likelihood calls (523 > 500)...\n"
     ]
    },
    {
     "name": "stderr",
     "output_type": "stream",
     "text": [
      "INFO:ultranest:Reached maximum number of likelihood calls (523 > 500)...\n"
     ]
    },
    {
     "name": "stdout",
     "output_type": "stream",
     "text": [
      "[ultranest] done iterating.\n"
     ]
    },
    {
     "name": "stderr",
     "output_type": "stream",
     "text": [
      "INFO:ultranest:done iterating.\n"
     ]
    },
    {
     "name": "stdout",
     "output_type": "stream",
     "text": [
      "------------------------------------------------------------\n",
      "Run 5/5\n",
      "[ultranest] PointStore: have 0 items\n"
     ]
    },
    {
     "name": "stderr",
     "output_type": "stream",
     "text": [
      "INFO:ultranest:PointStore: have 0 items\n"
     ]
    },
    {
     "name": "stdout",
     "output_type": "stream",
     "text": [
      "[ultranest] Sampling 50 live points from prior ...\n"
     ]
    },
    {
     "name": "stderr",
     "output_type": "stream",
     "text": [
      "INFO:ultranest:Sampling 50 live points from prior ...\n",
      "DEBUG:ultranest:minimal_widths_sequence: [(-inf, 50.0), (inf, 50.0)]\n"
     ]
    },
    {
     "name": "stdout",
     "output_type": "stream",
     "text": [
      "[ultranest] Explored until L=-3e+01   [-3169.7507..-30.2520] | it/evals=169/502 eff=37.3894% N=50 \n"
     ]
    },
    {
     "name": "stderr",
     "output_type": "stream",
     "text": [
      "INFO:ultranest:Explored until L=-3e+01  \n"
     ]
    },
    {
     "name": "stdout",
     "output_type": "stream",
     "text": [
      "[ultranest] Likelihood function evaluations: 502\n"
     ]
    },
    {
     "name": "stderr",
     "output_type": "stream",
     "text": [
      "INFO:ultranest:Likelihood function evaluations: 502\n"
     ]
    },
    {
     "name": "stdout",
     "output_type": "stream",
     "text": [
      "[ultranest] Writing samples and results to disk ...\n"
     ]
    },
    {
     "name": "stderr",
     "output_type": "stream",
     "text": [
      "INFO:ultranest:Writing samples and results to disk ...\n"
     ]
    },
    {
     "name": "stdout",
     "output_type": "stream",
     "text": [
      "[ultranest] Writing samples and results to disk ... done\n"
     ]
    },
    {
     "name": "stderr",
     "output_type": "stream",
     "text": [
      "INFO:ultranest:Writing samples and results to disk ... done\n",
      "DEBUG:ultranest:did a run_iter pass!\n"
     ]
    },
    {
     "name": "stdout",
     "output_type": "stream",
     "text": [
      "[ultranest] Reached maximum number of likelihood calls (502 > 500)...\n"
     ]
    },
    {
     "name": "stderr",
     "output_type": "stream",
     "text": [
      "INFO:ultranest:Reached maximum number of likelihood calls (502 > 500)...\n"
     ]
    },
    {
     "name": "stdout",
     "output_type": "stream",
     "text": [
      "[ultranest] done iterating.\n"
     ]
    },
    {
     "name": "stderr",
     "output_type": "stream",
     "text": [
      "INFO:ultranest:done iterating.\n"
     ]
    },
    {
     "data": {
      "image/png": "[encoded data removed]",
      "text/plain": [
       "<Figure size 1080x288 with 2 Axes>"
      ]
     },
     "metadata": {
      "needs_background": "light"
     },
     "output_type": "display_data"
    }
   ],
   "source": [
    "# Adjust the random behaviour\n",
    "pipeline.random_type = 'free'\n",
    "\n",
    "fig, axs = plt.subplots(1, 2, figsize=(15, 4))\n",
    "repeat = 5\n",
    "\n",
    "for i in range(repeat):   \n",
    "    if i>0: \n",
    "        print('-'*60+'\\nRun {}/{}'.format(i+1,repeat))\n",
    "        # Re-runs the pipeline!\n",
    "        _ = pipeline()\n",
    "    \n",
    "    for j, param in enumerate(pipeline.samples.columns):\n",
    "        samp = pipeline.samples[param]\n",
    "        axs[j].hist(samp.value, alpha=0.4, bins=30, label=pipeline.master_seed)\n",
    "        axs[j].set_title(param)\n",
    "\n",
    "for i in range(2):\n",
    "    axs[i].legend(title='seed')"
   ]
  },
  {
   "cell_type": "markdown",
   "metadata": {},
   "source": [
    "## Script example\n",
    "\n",
    "A script version of this tutorial can be found in the [examples directory](https://github.com/IMAGINE-Consortium/imagine/tree/master/examples/basic_pipeline.py).\n"
   ]
  }
 ],
 "metadata": {
  "kernelspec": {
   "display_name": "Python (imagine)",
   "language": "python",
   "name": "imagine"
  },
  "language_info": {
   "codemirror_mode": {
    "name": "ipython",
    "version": 3
   },
   "file_extension": ".py",
   "mimetype": "text/x-python",
   "name": "python",
   "nbconvert_exporter": "python",
   "pygments_lexer": "ipython3",
   "version": "3.7.6"
  }
 },
 "nbformat": 4,
 "nbformat_minor": 4
}
