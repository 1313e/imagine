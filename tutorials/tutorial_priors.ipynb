{
 "cells": [
  {
   "cell_type": "markdown",
   "metadata": {},
   "source": [
    "# Priors"
   ]
  },
  {
   "cell_type": "markdown",
   "metadata": {},
   "source": [
    "A powerful aspect of a fully bayesian analysis approach is the possibility of explicitly stating any prior expectations about the parameter values based on previous knowledge. \n",
    "\n",
    "The most typical use of the IMAGINE employs Pipeline objects based on the Nested Sampling approach (e.g. Ultranest). This requires the priors to be specified as a *prior transform function*, that is: a mapping between uniformly distributed values to the actual distribution. The IMAGINE prior classes can handle this automatically and output either the *probability density function* (PDF) or the *prior transform function*, depending on the needs of the chosen sampler."
   ]
  },
  {
   "cell_type": "markdown",
   "metadata": {},
   "source": [
    "## Marginal prior distributions\n",
    "\n",
    "We will first approach the case where we only have access independent prior information for each parameter (i.e. there is no prior information on correlation between parameters).  The `GeneralPrior` class helps constructing an IMAGINE prior from either: a know prior PDF, or a previous sampling of the parameter space. \n",
    "\n",
    "### Prior from a sample\n",
    "\n",
    "To illustrate this, we will first construct a sample associated with a hypothetical parameter. To keep things simple but still illustrative, we construct this combining a uniform distribution and a normal distribution."
   ]
  },
  {
   "cell_type": "code",
   "execution_count": 1,
   "metadata": {},
   "outputs": [
    {
     "name": "stdout",
     "output_type": "stream",
     "text": [
      "0.01 rad / kpc\n",
      "0.0 rad / kpc\n",
      "0.0 1 / cm3\n",
      "20.0 uG\n",
      "20.0 uG\n",
      "0.0 \n",
      "0.0 \n",
      "0.0 \n",
      "-25.0 \n",
      "0 \n",
      "0.1 \n",
      "1 \n",
      "0.01 \n",
      "0 \n",
      "0 \n",
      "2 \n",
      "0.1 \n",
      "2 \n",
      "-1 \n",
      "-1 \n",
      "0.1 \n",
      "0.1 \n",
      "10 \n",
      "0 \n"
     ]
    }
   ],
   "source": [
    "import numpy as np\n",
    "import matplotlib.pyplot as plt\n",
    "import astropy.units as u\n",
    "import imagine as img"
   ]
  },
  {
   "cell_type": "code",
   "execution_count": 2,
   "metadata": {},
   "outputs": [
    {
     "data": {
      "image/png": "[encoded data removed]",
      "text/plain": [
       "<Figure size 432x288 with 1 Axes>"
      ]
     },
     "metadata": {
      "needs_background": "light"
     },
     "output_type": "display_data"
    }
   ],
   "source": [
    "sample = np.concatenate([np.random.random_sample(2000),\n",
    "                         np.random.normal(loc=0.6, scale=0.07, size=1500) ])\n",
    "sample = sample*2.5-1\n",
    "sample *= u.microgauss\n",
    "plt.hist(sample.value, bins=20, density=True)\n",
    "plt.ylabel('P'); plt.xlabel('param'); plt.xlim(-1,1.5);"
   ]
  },
  {
   "cell_type": "markdown",
   "metadata": {},
   "source": [
    "This distribution could be the result of a previous inference exercise \n",
    "(i.e. a previously computed marginalised posterior distribution). \n",
    "\n",
    "From it, we can construct our prior using the `CustomPrior` class. \n",
    "Lets say that, for some reason, we are only interested in the interval \n",
    "$[-0.9,1.5]$ (say, for example, $p=-1$ is unphysical), this can be accounted for \n",
    "with the argument `interval`."
   ]
  },
  {
   "cell_type": "code",
   "execution_count": 3,
   "metadata": {},
   "outputs": [
    {
     "name": "stdout",
     "output_type": "stream",
     "text": [
      "-0.9 uG\n"
     ]
    },
    {
     "name": "stderr",
     "output_type": "stream",
     "text": [
      "WARNING: AstropyDeprecationWarning: The truth value of a Quantity is ambiguous. In the future this will raise a ValueError. [astropy.units.quantity]\n"
     ]
    }
   ],
   "source": [
    "\n",
    "interval = (-0.9,1.5)*u.microgauss\n",
    "\n",
    "prior_param = img.priors.CustomPrior(samples=sample,\n",
    "                                      xmin=-0.9*u.microgauss,\n",
    "                                      xmax=1.5*u.microgauss)"
   ]
  },
  {
   "cell_type": "markdown",
   "metadata": {},
   "source": [
    "At this point we can inspect the PDF to see what we have."
   ]
  },
  {
   "cell_type": "code",
   "execution_count": 4,
   "metadata": {},
   "outputs": [
    {
     "data": {
      "image/png": "[encoded data removed]",
      "text/plain": [
       "<Figure size 432x288 with 1 Axes>"
      ]
     },
     "metadata": {
      "needs_background": "light"
     },
     "output_type": "display_data"
    }
   ],
   "source": [
    "p = np.linspace(*interval, 100)\n",
    "plt.plot(p, prior_param.pdf(p))\n",
    "plt.xlim(*interval.value); plt.ylim(0,1.2); plt.xlabel(r'param$\\,[\\mu\\rm G]$');"
   ]
  },
  {
   "cell_type": "markdown",
   "metadata": {},
   "source": [
    "A cautionary note: the KDE used in intermediate calculation tends so smoothen the distribution and forces a slight decay close to the endpoints (reflecting the fact that a Gaussian kernel was employed). For most practical applications,\n",
    "this is not a big problem: one can control the degree of smoothness through the argument `bw_method` while initializing `CustomPrior`, and the range close to endpoints are typically uninteresting. But it is recommended to always check the PDF of a prior generated from a set of samples.\n",
    "\n",
    "### Prior from a known PDF\n",
    "\n",
    "Alternatively, when one knows the analytic shape of given PDF, one can instead supply a function to `CustomPrior`. In this case, the shape of the original function is generally respected. For example:"
   ]
  },
  {
   "cell_type": "code",
   "execution_count": 5,
   "metadata": {},
   "outputs": [
    {
     "name": "stdout",
     "output_type": "stream",
     "text": [
      "-0.9 uG\n"
     ]
    },
    {
     "data": {
      "image/png": "[encoded data removed]",
      "text/plain": [
       "<Figure size 432x288 with 1 Axes>"
      ]
     },
     "metadata": {
      "needs_background": "light"
     },
     "output_type": "display_data"
    }
   ],
   "source": [
    "def example_pdf(y):\n",
    "    x = y.to(u.microgauss).value # Handles units\n",
    "    uniform_part = 1    \n",
    "    sigma = 0.175; mu = 0.5\n",
    "    gaussian_part = 1.5*( 1/(sigma * np.sqrt(2 * np.pi)) \n",
    "                         * np.exp( - (x - mu)**2 / (2 * sigma**2) ))\n",
    "    return uniform_part + gaussian_part\n",
    "\n",
    "prior_param = img.priors.CustomPrior(pdf_fun=example_pdf,\n",
    "                                      xmin=interval[0],\n",
    "                                      xmax=interval[1])\n",
    "\n",
    "plt.plot(p, prior_param.pdf(p))\n",
    "plt.xlim(*interval.value); plt.ylim(0,1.2); plt.xlabel(r'param$\\,[\\mu\\rm G]$');"
   ]
  },
  {
   "cell_type": "markdown",
   "metadata": {},
   "source": [
    "Once the prior object was constructed, the IMAGINE Pipeline object uses it as the mapping above described to sample new paramters. Let us illustrate this concretely and check whether the prior is working."
   ]
  },
  {
   "cell_type": "code",
   "execution_count": 6,
   "metadata": {},
   "outputs": [
    {
     "data": {
      "image/png": "[encoded data removed]",
      "text/plain": [
       "<Figure size 432x288 with 1 Axes>"
      ]
     },
     "metadata": {
      "needs_background": "light"
     },
     "output_type": "display_data"
    }
   ],
   "source": [
    "uniform_sample = np.random.random_sample(2000)\n",
    "sampled_values = prior_param(uniform_sample)\n",
    "\n",
    "plt.hist(sampled_values.value, bins=20, density=True)\n",
    "plt.xlim(*interval.value); plt.ylim(0,1.2); plt.xlabel(r'param$\\,[\\mu\\rm G]$');"
   ]
  },
  {
   "cell_type": "markdown",
   "metadata": {},
   "source": [
    "### Prior from scipy.stats distribution\n",
    "We now demonstrate a helper class which allows to easily construct priors from one [scipy.stats distributions](https://docs.scipy.org/doc/scipy/reference/stats.html). Lets say we wanted impose a [chi](https://docs.scipy.org/doc/scipy/reference/generated/scipy.stats.chi.html) prior distribution for a \n",
    "given parameter, we can achive this using the `scipyPrior` class."
   ]
  },
  {
   "cell_type": "code",
   "execution_count": 7,
   "metadata": {},
   "outputs": [
    {
     "name": "stdout",
     "output_type": "stream",
     "text": [
      "-20.0 uG\n"
     ]
    }
   ],
   "source": [
    "import scipy.stats \n",
    "muG = u.microgauss\n",
    "chiPrior = img.priors.ScipyPrior(scipy.stats.chi, 3, loc=-10*muG, \n",
    "                                 scale=5*muG, xmin=-20*muG, xmax=10*muG)"
   ]
  },
  {
   "cell_type": "markdown",
   "metadata": {},
   "source": [
    "The first argument of `img.priors.scipyPrior` is an instance of `scipy.stats.rv_continuous`, this is followed by any args required by the scipy distribution (in this specific case, `3` is the number of degrees of freedom in the chi-distribution). The keyword arguments loc and scale have the same meaning as in the `scipy.stats` case, and interval tells maximum and minimum parameter values that will be considered.\n",
    "\n",
    "Let us check that this works, ploting the PDF and an histogram of parameter values sampled from the prior."
   ]
  },
  {
   "cell_type": "code",
   "execution_count": 8,
   "metadata": {},
   "outputs": [
    {
     "data": {
      "image/png": "[encoded data removed]",
      "text/plain": [
       "<Figure size 432x288 with 1 Axes>"
      ]
     },
     "metadata": {
      "needs_background": "light"
     },
     "output_type": "display_data"
    }
   ],
   "source": [
    "# Plots the PDF associated with this prior\n",
    "t = np.linspace(-20,10,100)*muG\n",
    "plt.plot(t, chiPrior.pdf(t))\n",
    "# Plots the distribution of values constructed using this prior\n",
    "x = np.random.random_sample(2000)\n",
    "plt.hist(chiPrior(x).value, density=True);\n",
    "plt.xlabel(r'param$\\,[\\mu\\rm G]$');"
   ]
  },
  {
   "cell_type": "code",
   "execution_count": 9,
   "metadata": {},
   "outputs": [
    {
     "name": "stdout",
     "output_type": "stream",
     "text": [
      "None uG\n"
     ]
    }
   ],
   "source": [
    "import scipy.stats \n",
    "muG = u.microgauss\n",
    "chiPrior = img.priors.ScipyPrior(scipy.stats.chi, 3, loc=-10*muG, unit=muG,\n",
    "                                 scale=5*muG)"
   ]
  },
  {
   "cell_type": "code",
   "execution_count": 11,
   "metadata": {},
   "outputs": [
    {
     "data": {
      "image/png": "[encoded data removed]",
      "text/plain": [
       "<Figure size 432x288 with 1 Axes>"
      ]
     },
     "metadata": {
      "needs_background": "light"
     },
     "output_type": "display_data"
    }
   ],
   "source": [
    "# Plots the PDF associated with this prior\n",
    "t = np.linspace(-25,15,100)*muG\n",
    "plt.plot(t, chiPrior.pdf(t))\n",
    "# Plots the distribution of values constructed using this prior\n",
    "x = np.random.random_sample(2000)\n",
    "plt.hist(chiPrior(x).value, density=True);\n",
    "plt.xlabel(r'param$\\,[\\mu\\rm G]$');"
   ]
  },
  {
   "cell_type": "markdown",
   "metadata": {},
   "source": [
    "## Joint prior distributions\n",
    "\n",
    "*under development*."
   ]
  },
  {
   "cell_type": "code",
   "execution_count": null,
   "metadata": {},
   "outputs": [],
   "source": []
  }
 ],
 "metadata": {
  "kernelspec": {
   "display_name": "Python 3",
   "language": "python",
   "name": "python3"
  },
  "language_info": {
   "codemirror_mode": {
    "name": "ipython",
    "version": 3
   },
   "file_extension": ".py",
   "mimetype": "text/x-python",
   "name": "python",
   "nbconvert_exporter": "python",
   "pygments_lexer": "ipython3",
   "version": "3.7.6"
  }
 },
 "nbformat": 4,
 "nbformat_minor": 4
}
