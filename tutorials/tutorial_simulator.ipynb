{
 "cells": [
  {
   "cell_type": "markdown",
   "metadata": {},
   "source": [
    "# Designing and using Simulators\n",
    "\n",
    "[Simulator objects](https://imagine-code.readthedocs.io/en/latest/components.html#simulators)\n",
    "are responsible for converting into \n",
    "[Observables](https://imagine-code.readthedocs.io/en/latest/components.html#measurements-simulations-and-covariances)\n",
    "the physical quantities computed/stored by the \n",
    "[Field](https://imagine-code.readthedocs.io/en/latest/components.html#fields) objects. \n",
    "\n",
    "Here we exemplify how to construct a Simulator for the case of computing the Faraday rotation measures on due an extended intervening galaxy with many background radio sources.  For simplicity, the simulator assumes that the observed galaxy is either fully 'face-on' or 'edge-on'."
   ]
  },
  {
   "cell_type": "code",
   "execution_count": 1,
   "metadata": {},
   "outputs": [],
   "source": [
    "import numpy as np\n",
    "import astropy.units as u\n",
    "from imagine.simulators import Simulator\n",
    "\n",
    "class ExtragalacticBacklitFaradaySimulator(Simulator):\n",
    "    \"\"\" \n",
    "    Example simulator to illustrate\n",
    "    \"\"\"\n",
    "    \n",
    "    # Class attributes\n",
    "    SIMULATED_QUANTITIES = ['testRM']\n",
    "    REQUIRED_FIELD_TYPES = ['magnetic_field', 'thermal_electron_density']\n",
    "    ALLOWED_GRID_TYPES = ['cartesian', 'NonUniformCartesian']\n",
    "\n",
    "    def __init__(self, measurements, galaxy_distance, galaxy_latitude, \n",
    "                 galaxy_longitude, orientation='edge-on', \n",
    "                 beam_size=2*u.kpc):\n",
    "        # Send the Measurements to the parent class\n",
    "        super().__init__(measurements)\n",
    "        # Stores class-specific attributes\n",
    "        self.galaxy_distance = galaxy_distance\n",
    "        self.galaxy_lat = u.Quantity(galaxy_latitude, u.deg)\n",
    "        self.galaxy_lon = u.Quantity(galaxy_longitude, u.deg)\n",
    "        self.orientation = orientation\n",
    "        self.beam = beam_size\n",
    "    \n",
    "    def simulate(self, key, coords_dict, realization_id, output_units):\n",
    "        # Accesses fields and grid \n",
    "        B = self.fields['magnetic_field']\n",
    "        ne = self.fields['thermal_electron_density']\n",
    "        grid = self.grid\n",
    "        # Note: the contents of self.fields correspond the present (single) \n",
    "        # realization, the realization_id variable is available if extra\n",
    "        # control is needed\n",
    "        \n",
    "        if self.orientation == 'edge-on':\n",
    "            integration_axis = 0\n",
    "            Bpara = B[:,:,:,0] # i.e. Bpara = Bx\n",
    "            depths = grid.x[:,0,0]\n",
    "        elif self.orientation == 'face-on':\n",
    "            integration_axis = 2\n",
    "            Bpara = B[:,:,:,2] # i.e. Bpara = Bz\n",
    "            depths = grid.z[0,0,:]\n",
    "        else:\n",
    "            raise ValueError('Orientation must be either face-on or edge-on')\n",
    "        \n",
    "        # Computes dl in parsecs\n",
    "        ddepth = (np.abs(depths[1]-depths[0])).to(u.pc)\n",
    "        \n",
    "        # Convert the coordinates from angles to \n",
    "        # positions on one face of the grid\n",
    "        lat, lon = coords_dict['lat'], coords_dict['lon']\n",
    "        \n",
    "        # Creates the outputarray\n",
    "        results = np.empty(lat.size)*u.rad/u.m**2\n",
    "        \n",
    "        # Computes RMs for the entire box\n",
    "        RM_array = 0.812*u.rad/u.m**2 *((ne/(u.cm**-3)) *\n",
    "                                        (Bpara/(u.microgauss)) * \n",
    "                                        ddepth/u.pc).sum(axis=integration_axis)\n",
    "        # NB in an *production* version this would be computed only\n",
    "        #    for the relevant coordinates/sightlines instead of aroungthe \n",
    "        #    the whole grid, to save memory and CPU time\n",
    "        \n",
    "        # Prepares the results\n",
    "        if self.orientation=='edge-on':\n",
    "            # Gets y and z for a slice of the grid\n",
    "            face_y = grid.y[0,:,:]\n",
    "            face_z = grid.z[0,:,:]\n",
    "            # Converts the tabulated galactic coords into y and z\n",
    "            y_targets = (lat-self.galaxy_lat)*self.galaxy_distance\n",
    "            z_targets = (lon-self.galaxy_lon)*self.galaxy_distance\n",
    "            # Adjusts and removes units\n",
    "            y_targets = y_targets.to(u.kpc, u.dimensionless_angles())\n",
    "            z_targets = z_targets.to(u.kpc, u.dimensionless_angles())\n",
    "            # Selects the relevant values from the RM array\n",
    "            # (averaging neighbouring pixes within the same \"beam\")\n",
    "            for i, (y, z) in enumerate(zip(y_targets, z_targets)):\n",
    "                mask = (face_y-y)**2+(face_z-z)**2 < (self.beam)**2\n",
    "                beam = RM_array[mask]\n",
    "                results[i]=np.mean(beam)\n",
    "        elif self.orientation=='face-on':\n",
    "            # Gets x and y for a slice of the grid\n",
    "            face_x = grid.x[:,:,0]\n",
    "            face_y = grid.y[:,:,0]\n",
    "            # Converts the tabulated galactic coords into x and y\n",
    "            x_targets = (lat-self.galaxy_lat)*self.galaxy_distance\n",
    "            y_targets = (lon-self.galaxy_lon)*self.galaxy_distance\n",
    "            # Adjusts and removes units\n",
    "            x_targets = x_targets.to(u.kpc, u.dimensionless_angles())\n",
    "            y_targets = y_targets.to(u.kpc, u.dimensionless_angles())\n",
    "            # Selects the relevant values from the RM array\n",
    "            # (averaging neighbouring pixes within the same \"beam\"\n",
    "            for i, (x, y) in enumerate(zip(x_targets, y_targets)):\n",
    "                mask = (face_x-x)**2+(face_y-y)**2 < (self.beam)**2\n",
    "                beam = RM_array[mask]\n",
    "                results[i]=np.mean(beam)\n",
    "        return results"
   ]
  },
  {
   "cell_type": "markdown",
   "metadata": {},
   "source": [
    "Thus, when designing a Simulator, one basically overrides the `simulate()` method, substituting it by some calculation which\n",
    "maps the various fields to some observable quantity. The available fields can be accessed through the attribute self.fields, \n",
    "which is a dictionary containing the field types as keys. The details of the observable can be found through the keyword \n",
    "arguments: key (which is the key of Measurements dictionary), coords_dict (available for tabular datasets only) \n",
    "and output_units (note that the value returned does not need to be exactly in the output_units, but must be convertible to them)."
   ]
  },
  {
   "cell_type": "markdown",
   "metadata": {},
   "source": [
    "To see this working, let us create some fake sky coordinates over a rectangle around a galaxy\n",
    "that is located at galactic coordinates $(b,\\,l)=(30^{\\rm o},\\,30^{\\rm o})$"
   ]
  },
  {
   "cell_type": "code",
   "execution_count": 2,
   "metadata": {},
   "outputs": [],
   "source": [
    "fake_sky_position_x, fake_sky_position_y = np.meshgrid(np.linspace(-4,4,70)*u.kpc,\n",
    "                                                       np.linspace(-4,4,70)*u.kpc)\n",
    "gal_lat = 30*u.deg; gal_lon = 30*u.deg\n",
    "fake_lat = gal_lat+np.arctan2(fake_sky_position_x,1*u.Mpc)\n",
    "fake_lon =  gal_lon+np.arctan2(fake_sky_position_y,1*u.Mpc)\n",
    "\n",
    "fake_data = {'RM': np.random.random_sample(fake_lat.size),\n",
    "             'err': np.random.random_sample(fake_lat.size),\n",
    "             'lat': fake_lat.ravel(),\n",
    "             'lon': fake_lon.ravel()}"
   ]
  },
  {
   "cell_type": "markdown",
   "metadata": {},
   "source": [
    "From this one can construct the dataset and append it to the `Measurements` object"
   ]
  },
  {
   "cell_type": "code",
   "execution_count": 3,
   "metadata": {},
   "outputs": [
    {
     "data": {
      "text/plain": [
       "dict_keys([('testRM', 'nan', 'tab', 'nan')])"
      ]
     },
     "execution_count": 3,
     "metadata": {},
     "output_type": "execute_result"
    }
   ],
   "source": [
    "from imagine.observables import Covariances, Measurements, TabularDataset\n",
    "fake_dset = TabularDataset(fake_data, name='testRM', units= u.rad/u.m/u.m,\n",
    "                           data_column='RM', error_column='err', \n",
    "                           lat_column='lat', lon_column='lon')\n",
    "# Initializes Measurements and Covariances objects\n",
    "mea = Measurements()\n",
    "cov = Covariances()\n",
    "# Appends the fake tabular data\n",
    "mea.append(dataset=fake_dset)\n",
    "cov.append(dataset=fake_dset)\n",
    "mea.keys()"
   ]
  },
  {
   "cell_type": "markdown",
   "metadata": {},
   "source": [
    "The measurements object will provide enough information to setup/instantiate the simulator"
   ]
  },
  {
   "cell_type": "code",
   "execution_count": 4,
   "metadata": {},
   "outputs": [],
   "source": [
    "edgeon_RMsimulator = ExtragalacticBacklitFaradaySimulator(mea, galaxy_distance=1*u.Mpc,\n",
    "                                           galaxy_latitude=gal_lat,\n",
    "                                           galaxy_longitude=gal_lon,\n",
    "                                           beam_size=0.700*u.kpc,\n",
    "                                           orientation='edge-on')\n",
    "faceon_RMsimulator = ExtragalacticBacklitFaradaySimulator(mea, galaxy_distance=1*u.Mpc,\n",
    "                                           galaxy_latitude=gal_lat,\n",
    "                                           galaxy_longitude=gal_lon,\n",
    "                                           beam_size=0.7*u.kpc,\n",
    "                                           orientation='face-on')"
   ]
  },
  {
   "cell_type": "markdown",
   "metadata": {},
   "source": [
    "To test it, we will generate a dense grid and evaluate a magnetic field and electron density on top of it"
   ]
  },
  {
   "cell_type": "code",
   "execution_count": 5,
   "metadata": {},
   "outputs": [],
   "source": [
    "from imagine.fields import ConstantMagneticField, ExponentialThermalElectrons, UniformGrid\n",
    "\n",
    "dense_grid = UniformGrid(box=[[-15, 15]*u.kpc,\n",
    "                              [-15, 15]*u.kpc,\n",
    "                              [-15, 15]*u.kpc],\n",
    "                         resolution = [30,30,30])\n",
    "B = ConstantMagneticField(grid=dense_grid, ensemble_size=1,\n",
    "                          parameters={'Bx': 0.5*u.microgauss,\n",
    "                                      'By': 0.5*u.microgauss,\n",
    "                                      'Bz': 0.5*u.microgauss})\n",
    "ne_disk = ExponentialThermalElectrons(grid=dense_grid, ensemble_size=1,\n",
    "                                 parameters={'central_density': 0.5*u.cm**-3, \n",
    "                                             'scale_radius': 3.3*u.kpc, \n",
    "                                             'scale_height': 0.5*u.kpc})"
   ]
  },
  {
   "cell_type": "markdown",
   "metadata": {},
   "source": [
    "Now we can call the simulator, which returns a `Simulation` object"
   ]
  },
  {
   "cell_type": "code",
   "execution_count": 6,
   "metadata": {},
   "outputs": [
    {
     "name": "stdout",
     "output_type": "stream",
     "text": [
      "faceon_sim: <imagine.observables.observable_dict.Simulations object at 0x7efdb0e39b50>\n",
      "faceon_sim keys: [('testRM', 'nan', 'tab', 'nan')]\n"
     ]
    }
   ],
   "source": [
    "edgeon_sim = edgeon_RMsimulator([B,ne_disk])\n",
    "faceon_sim = faceon_RMsimulator([B,ne_disk])\n",
    "print('faceon_sim:',faceon_sim)\n",
    "print('faceon_sim keys:',list(faceon_sim.keys()))"
   ]
  },
  {
   "cell_type": "code",
   "execution_count": 7,
   "metadata": {},
   "outputs": [
    {
     "data": {
      "text/plain": [
       "(1, 4900)"
      ]
     },
     "execution_count": 7,
     "metadata": {},
     "output_type": "execute_result"
    }
   ],
   "source": [
    "faceon_sim[('testRM', 'nan', 'tab', 'nan')].data.shape"
   ]
  },
  {
   "cell_type": "markdown",
   "metadata": {},
   "source": [
    "Using the fact that the original coordinates correspondended to a rectangle in the sky, we can visualize the results"
   ]
  },
  {
   "cell_type": "code",
   "execution_count": 8,
   "metadata": {},
   "outputs": [
    {
     "data": {
      "image/png": "[encoded data removed]",
      "text/plain": [
       "<Figure size 432x288 with 2 Axes>"
      ]
     },
     "metadata": {
      "needs_background": "light"
     },
     "output_type": "display_data"
    },
    {
     "data": {
      "image/png": "[encoded data removed]",
      "text/plain": [
       "<Figure size 432x288 with 2 Axes>"
      ]
     },
     "metadata": {
      "needs_background": "light"
     },
     "output_type": "display_data"
    }
   ],
   "source": [
    "import matplotlib.pyplot as plt\n",
    "\n",
    "i = 0\n",
    "key = tuple(faceon_sim.keys())[0]\n",
    "d = faceon_sim[key].data[i]\n",
    "# Using the fact that the coordinates correspond to a rectangle\n",
    "im = d.reshape(int(np.sqrt(d.size)),int(np.sqrt(d.size)))\n",
    "plt.imshow(im, vmin=0, vmax=550); plt.axis('off')\n",
    "plt.colorbar(label=r'$\\rm RM\\,[ rad\\,m^{-2}]$')\n",
    "\n",
    "plt.figure()\n",
    "key = tuple(edgeon_sim.keys())[0]\n",
    "d = edgeon_sim[key].data[i]\n",
    "# Using the fact that the coordinates correspond to a rectangle\n",
    "im = d.reshape(int(np.sqrt(d.size)),int(np.sqrt(d.size)))\n",
    "plt.imshow(im, vmin=0, vmax=550); plt.axis('off')\n",
    "plt.colorbar(label=r'$\\rm RM\\,[ rad\\,m^{-2}]$');"
   ]
  },
  {
   "cell_type": "markdown",
   "metadata": {},
   "source": [
    "Simulators are able to handle *multiple fields of the same type* by summing up their data. This is particularly convenient if a physical quantity is described by a both a deterministic part and random fluctuations.\n",
    "\n",
    "We will illustrate this with another artificial example, reusing the `RandomThermalElectrons` field discussed before. We will also illustrate the usage of ensembles (note: for non-stochastic fields the ensemble size has to be kept the same to ensure consistency, but internally they will be evaluated only once)."
   ]
  },
  {
   "cell_type": "code",
   "execution_count": 9,
   "metadata": {},
   "outputs": [],
   "source": [
    "from imagine.fields import RandomThermalElectrons\n",
    "\n",
    "dense_grid = UniformGrid(box=[[-15, 15]*u.kpc,\n",
    "                              [-15, 15]*u.kpc,\n",
    "                              [-15, 15]*u.kpc],\n",
    "                         resolution = [30,30,30])\n",
    "B = ConstantMagneticField(grid=dense_grid, ensemble_size=3,\n",
    "                          parameters={'Bx': 0.5*u.microgauss,\n",
    "                                      'By': 0.5*u.microgauss,\n",
    "                                      'Bz': 0.5*u.microgauss})\n",
    "ne_disk = ExponentialThermalElectrons(grid=dense_grid, ensemble_size=3,\n",
    "                                 parameters={'central_density': 0.5*u.cm**-3, \n",
    "                                             'scale_radius': 3.3*u.kpc, \n",
    "                                             'scale_height': 0.5*u.kpc})\n",
    "ne_rnd = RandomThermalElectrons(grid=dense_grid, ensemble_size=3,\n",
    "                                parameters={'mean': 0.005*u.cm**-3, \n",
    "                                            'std': 0.01*u.cm**-3,\n",
    "                                            'min_ne' : 0*u.cm**-3})"
   ]
  },
  {
   "cell_type": "markdown",
   "metadata": {},
   "source": [
    "The extra field can be included in the simulator using"
   ]
  },
  {
   "cell_type": "code",
   "execution_count": 10,
   "metadata": {},
   "outputs": [],
   "source": [
    "edgeon_sim = edgeon_RMsimulator([B,ne_disk,ne_rnd])\n",
    "faceon_sim = faceon_RMsimulator([B,ne_disk,ne_rnd])"
   ]
  },
  {
   "cell_type": "markdown",
   "metadata": {},
   "source": [
    "Let us now plot, as before, the simulated observables for each realisation"
   ]
  },
  {
   "cell_type": "code",
   "execution_count": 11,
   "metadata": {},
   "outputs": [
    {
     "data": {
      "image/png": "[encoded data removed]",
      "text/plain": [
       "<Figure size 1200x800 with 6 Axes>"
      ]
     },
     "metadata": {
      "needs_background": "light"
     },
     "output_type": "display_data"
    }
   ],
   "source": [
    "fig, axs = plt.subplots(3, 2, sharex=True, sharey=True, dpi=200)\n",
    "\n",
    "for i, ax in enumerate(axs):\n",
    "    key = tuple(faceon_sim.keys())[0]\n",
    "    d = faceon_sim[key].data[i]\n",
    "    ax[0].imshow(d.reshape(int(np.sqrt(d.size)),int(np.sqrt(d.size))),\n",
    "           vmin=0, vmax=550)\n",
    "    \n",
    "    key = tuple(edgeon_sim.keys())[0]\n",
    "    d = edgeon_sim[key].data[i]\n",
    "    ax[1].imshow(d.reshape(int(np.sqrt(d.size)),int(np.sqrt(d.size))),\n",
    "                 vmin=0, vmax=550)\n",
    "    ax[1].axis('off'); ax[0].axis('off')\n",
    "plt.tight_layout()"
   ]
  }
 ],
 "metadata": {
  "kernelspec": {
   "display_name": "Python 3",
   "language": "python",
   "name": "python3"
  },
  "language_info": {
   "codemirror_mode": {
    "name": "ipython",
    "version": 3
   },
   "file_extension": ".py",
   "mimetype": "text/x-python",
   "name": "python",
   "nbconvert_exporter": "python",
   "pygments_lexer": "ipython3",
   "version": "3.7.6"
  }
 },
 "nbformat": 4,
 "nbformat_minor": 4
}
