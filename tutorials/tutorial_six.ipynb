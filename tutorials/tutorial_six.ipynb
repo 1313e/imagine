{
 "cells": [
  {
   "cell_type": "markdown",
   "metadata": {},
   "source": [
    "# IMAGINE tutorial 6\n",
    "## Personalization and extension\n",
    "\n",
    "Here we review the design of the IMAGINE pipeline and\n",
    "demonstrate how to personalise or extend it, quickly designing\n",
    "each of its components"
   ]
  },
  {
   "cell_type": "markdown",
   "metadata": {},
   "source": [
    "<img src=\"https://bitbucket.org/hammurabicode/imagine/wiki/imagine_design.png\" alt=\"IMAGINE\" style=\"width: 800px;\"/>"
   ]
  },
  {
   "cell_type": "markdown",
   "metadata": {},
   "source": [
    "#### Outline (aka advice for quick reading)\n",
    "\n",
    "* **Theorists/modellers** interested in including/constraining a new model of a quantity previously known to IMAGINE find all they need reading about [Fields and Factories](#Fields-and-Factories).  They may also want to think about their [Fields and Factories](#Priors) while exploring the parameter space.\n",
    "* **Observers** interested in replacing an existing dataset, may want to jump to [Observables and Observable dictionaries](#Observables-and-Observable-dictionaries)\n",
    "* If one wants to include an new **observable quantity** or **depenence on a field** they should go throug the previous sections and look at [Simulators](#Observables-and-Observable-dictionaries).\n",
    "* For any other case, just read through.\n"
   ]
  },
  {
   "cell_type": "markdown",
   "metadata": {},
   "source": [
    "## Fields and Factories\n",
    "\n",
    "Within the IMAGINE pipeline, spatially varying physical quantities are represented by\n",
    "[Field objects](https://imagine-code.readthedocs.io/en/latest/imagine.fields.html#module-imagine.fields).\n",
    "This can be a *scalar*, as the number density of thermal electrons, or a *vector*, as the Galactic magnetic field. \n",
    "\n",
    "\n",
    "\n",
    "In order to extend or personalise adding in one's own model for an specific field, \n",
    "one needs to follow a small number of simple steps:  \n",
    "1. choose a **coordinate grid** where your model will be evaluated,\n",
    "2. write a **field class**, and\n",
    "3. write a **field factory** class.\n",
    "\n",
    "The **field objects** will do actually computation of the physical field, given a set of physical parameters and a coordinate grid. \n",
    "The **field factory objects** take care of book-keeping tasks: e.g. they hold the parameter ranges and default values, and translate the dimensionless parameters used by the sampler (always in the interval $[0,1]$) to physical parameters."
   ]
  },
  {
   "cell_type": "markdown",
   "metadata": {},
   "source": [
    "### Coordinate grid\n",
    "\n",
    "You can create your own coordinate grid by subclassing [`imagine.fields.grid.BaseGrid`](https://imagine-code.readthedocs.io/en/latest/imagine.fields.html#imagine.fields.grid.BaseGrid).  The only thing which has to actually be programmed in the new sub-class is a\n",
    "method overriding [`generate_coordinates()`](https://imagine-code.readthedocs.io/en/latest/imagine.fields.html#imagine.fields.grid.BaseGrid.generate_coordinates), which produces a dictionary of numpy arrays containing coordinates in *either* cartesian,\n",
    "cylindrical or spherical coordinates (generally assumed, in Galactic contexts, to be centred in the centre of the Milky Way).\n",
    "\n",
    "Typically, however, it is sufficient to use a simple grid with coordinates uniformly-spaced in cartesian, spherical or cylindrical \n",
    "coordinates. This can be done using the [`UniformGrid`](https://imagine-code.readthedocs.io/en/latest/imagine.fields.html#imagine.fields.grid.UniformGrid) class. `UniformGrid` objects are initialized with the arguments: `box`, which contains the ranges of each coordinate in $\\rm kpc$ or $\\rm rad$; `resolution`, a list of integers containing the number of grid points on each dimension; and `grid_type`, which can be either 'cartesian' (default), 'cylindrical' or 'spherical'."
   ]
  },
  {
   "cell_type": "code",
   "execution_count": null,
   "metadata": {},
   "outputs": [],
   "source": [
    "import imagine as img\n",
    "import numpy as np\n",
    "\n",
    "# A cartesian grid can be constructed as follows\n",
    "cartesian_grid = img.UniformGrid(box=[[-15, 15],[-15, 15],[-15, 15]],\n",
    "                          resolution = [12,12,12])\n",
    "\n",
    "# For cylindrical grid, the limits are specified assuming \n",
    "# the order: r (cylindrical), phi, z\n",
    "cylindrical_grid = img.UniformGrid(box=[[0.25, 15],[-np.pi,np.pi],[-15,15]],\n",
    "                      resolution = [9,12,9],\n",
    "                      grid_type = 'cylindrical')\n",
    "\n",
    "# For spherical grid, the limits are specified assuming \n",
    "# the order: r (spherical), theta, phi (azimuth)\n",
    "spherical_grid = img.UniformGrid(box=[[0, 15],[0, np.pi], [-np.pi,np.pi],],\n",
    "                      resolution = [12,10,10],\n",
    "                      grid_type = 'spherical')"
   ]
  },
  {
   "cell_type": "markdown",
   "metadata": {},
   "source": [
    "The grid object will produce the grid only when the a coordinate value is first accessed, \n",
    "through the properties 'x', 'y','z','r_cylindrical','r_spherical', 'theta' and 'phi'. \n",
    "\n",
    "The grid object also takes care of any coordinate conversions that are needed, for example:"
   ]
  },
  {
   "cell_type": "code",
   "execution_count": null,
   "metadata": {},
   "outputs": [],
   "source": [
    "print(spherical_grid.x[5,5,5], cartesian_grid.r_spherical[5,5,5])"
   ]
  },
  {
   "cell_type": "markdown",
   "metadata": {},
   "source": [
    "In the following figure we illustrate the effects of different choices of 'grid_type' while using UniformGrid. \n",
    "\n",
    "(Note that, for plotting purposes, everything is converted to cartesian coordinates)"
   ]
  },
  {
   "cell_type": "code",
   "execution_count": null,
   "metadata": {},
   "outputs": [],
   "source": [
    "import matplotlib.pyplot as plt\n",
    "\n",
    "plt.figure(figsize=(12,5))\n",
    "plt.subplot(1,2,1)\n",
    "plt.scatter(cartesian_grid.x, cartesian_grid.y, color='y', label='Cartesian', alpha=0.5)\n",
    "plt.scatter(cylindrical_grid.x, cylindrical_grid.y, label='cylindrical', alpha=0.5)\n",
    "plt.scatter(spherical_grid.x, spherical_grid.y, color='g', label='spherical', alpha=0.5)\n",
    "plt.xlabel('x'); plt.ylabel('y')\n",
    "plt.legend()\n",
    "\n",
    "plt.subplot(1,2,2)\n",
    "plt.scatter(cartesian_grid.x, cartesian_grid.z, color='y', label='Cartesian', alpha=0.5)\n",
    "plt.scatter(cylindrical_grid.x, cylindrical_grid.z, label='cylindrical', alpha=0.5)\n",
    "plt.scatter(spherical_grid.x, spherical_grid.z, label='spherical', color='g', alpha=0.5)\n",
    "plt.xlabel('x'); plt.ylabel('z')\n",
    "plt.legend();\n",
    "\n"
   ]
  },
  {
   "cell_type": "markdown",
   "metadata": {},
   "source": [
    "\n",
    "### Field objects\n",
    "\n",
    "As we mentioned before, [`Field`](https://imagine-code.readthedocs.io/en/latest/imagine.fields.html#module-imagine.fields.field) objects handle the calculation of any physical field.\n",
    "\n",
    "To ensure that your new personalised field is compatible with any simulator,\n",
    "it needs to be a subclass of one of the [pre-defined field classes](https://imagine-code.readthedocs.io/en/latest/physical_fields.html). Some examples of which are:\n",
    " * `MagneticField`\n",
    " * `ThermalElectronDensity`\n",
    " * `CosmicRayDistribution`\n",
    "\n",
    "Let us illustrate this by defining a *constant* thermal electron number density field. \n",
    "This will of course have a single parameter: the constant number density of thermal electrons."
   ]
  },
  {
   "cell_type": "code",
   "execution_count": null,
   "metadata": {},
   "outputs": [],
   "source": [
    "from imagine import ThermalElectronDensityField\n",
    "\n",
    "class ConstantThermalElectrons(ThermalElectronDensityField):\n",
    "    \"\"\"Example: constant cosmic ray electron density\"\"\"\n",
    "    field_name = 'constant_e'\n",
    "    @property\n",
    "    def field_checklist(self):\n",
    "        return {'density_cm-3' : None}\n",
    "    def get_field(self, parameters):\n",
    "        return parameters['density_cm-3'] * np.ones(self.grid.shape)"
   ]
  },
  {
   "cell_type": "markdown",
   "metadata": {},
   "source": [
    "With these few lines we have created our IMAGINE-compatible™ thermal electron density field class!\n",
    "\n",
    "The class-attribute `field_name` allows one to keep track of which model we have used to generate our field. \n",
    "\n",
    "The `field_checklist` property is a dictionary whose keys are required parameters for this particular kind of field. The values in the dictionary can be used for specialized checking by some simulators (but can be left as `None` in the general case).\n",
    "\n",
    "The function `get_field` is what actually computes the density field. Note that it takes the shape from a grid object which is stored in the `grid` attribute.\n",
    "\n",
    "Let us now see this at work. First, let us creat an instance of `ConstantThermalElectrons`"
   ]
  },
  {
   "cell_type": "code",
   "execution_count": null,
   "metadata": {},
   "outputs": [],
   "source": [
    "electron_distribution = ConstantThermalElectrons(parameters={'density_cm-3':0.1},\n",
    "                              grid=cartesian_grid)"
   ]
  },
  {
   "cell_type": "markdown",
   "metadata": {},
   "source": [
    "IMAGINE will access the field procudes by `cr_distribution` through the `data` attribute. For example"
   ]
  },
  {
   "cell_type": "code",
   "execution_count": null,
   "metadata": {},
   "outputs": [],
   "source": [
    "electron_distribution.data[3:6,3:6,3:6]"
   ]
  },
  {
   "cell_type": "markdown",
   "metadata": {},
   "source": [
    "If we now wanted to plot the cosmic ray electron density computed by this as a function of, say, spherical radius, this can be done in the following way"
   ]
  },
  {
   "cell_type": "code",
   "execution_count": null,
   "metadata": {},
   "outputs": [],
   "source": [
    "plt.plot(electron_distribution.grid.r_spherical.ravel(), \n",
    "         electron_distribution.data.ravel())\n",
    "plt.xlabel(r'$r_{\\rm sph}\\;[\\rm kpc]$'); plt.ylabel(r'$n_{\\rm cr}\\;[\\rm cm^{-3}]$');"
   ]
  },
  {
   "cell_type": "markdown",
   "metadata": {},
   "source": [
    "Let us do another simple field example: a constant magnetic field.\n",
    "\n",
    "It follows the same basic template."
   ]
  },
  {
   "cell_type": "code",
   "execution_count": null,
   "metadata": {},
   "outputs": [],
   "source": [
    "from imagine import MagneticField\n",
    "    \n",
    "class ConstantB(MagneticField):\n",
    "    \"\"\"Example: constant magnetic field\"\"\"\n",
    "    field_name = 'constantB'\n",
    "    \n",
    "    @property\n",
    "    def field_checklist(self):\n",
    "        return {'Bx_muG': None, 'By_muG': None, 'Bz_muG': None}\n",
    "    \n",
    "    def get_field(self, parameters):\n",
    "        # Creates an empty array to store the result\n",
    "        B = np.empty(self.data_shape)        \n",
    "        # For a magnetic field, the output must be of shape: \n",
    "        # (Nx,Ny,Nz,Nc) where Nc is the index of the component. \n",
    "        # Computes Bx\n",
    "        B[:,:,:,0] = parameters['Bx_muG']*np.ones(self.grid.shape)\n",
    "        # Computes By\n",
    "        B[:,:,:,1] = parameters['By_muG']*np.ones(self.grid.shape)\n",
    "        # Computes Bz\n",
    "        B[:,:,:,2] = parameters['Bz_muG']*np.ones(self.grid.shape)        \n",
    "        return B"
   ]
  },
  {
   "cell_type": "markdown",
   "metadata": {},
   "source": [
    "The only difference from the thermal electrons case is that the shape of the final array has to accomodate all the three components of the magnetic field."
   ]
  },
  {
   "cell_type": "markdown",
   "metadata": {},
   "source": [
    "As before, we can generate a realisation of this"
   ]
  },
  {
   "cell_type": "code",
   "execution_count": null,
   "metadata": {},
   "outputs": [],
   "source": [
    "p = {'Bx_muG': 0, 'By_muG': 1., 'Bz_muG': 0.5}\n",
    "B = ConstantB(parameters=p, grid=cartesian_grid)"
   ]
  },
  {
   "cell_type": "markdown",
   "metadata": {},
   "source": [
    "And inspect how it went"
   ]
  },
  {
   "cell_type": "code",
   "execution_count": null,
   "metadata": {},
   "outputs": [],
   "source": [
    "r_spherical = B.grid.r_spherical.ravel()\n",
    "\n",
    "for i, name in enumerate(['x','y','z']):\n",
    "    plt.plot(r_spherical, B.data[...,i].ravel(), \n",
    "             label='$B_{}$'.format(name))\n",
    "plt.xlabel(r'$r_{\\rm sph}\\;[\\rm kpc]$'); plt.ylabel(r'$n\\;[\\rm cm^{-3}]$')\n",
    "plt.legend();\n",
    "\n"
   ]
  },
  {
   "cell_type": "code",
   "execution_count": null,
   "metadata": {},
   "outputs": [],
   "source": []
  },
  {
   "cell_type": "markdown",
   "metadata": {},
   "source": [
    "### Field factory\n",
    "\n",
    "Associated with each Field class we need to prepare a FieldFactory class, which will take care (separately) of the scaling of parameter ranges. This is can done through the \n",
    "following simple templates"
   ]
  },
  {
   "cell_type": "code",
   "execution_count": null,
   "metadata": {},
   "outputs": [],
   "source": [
    "from imagine import GeneralFieldFactory\n",
    "\n",
    "class ConstantCRe_Factory(GeneralFieldFactory):\n",
    "    def __init__(self, **kwargs):\n",
    "        super().__init__(**kwargs)\n",
    "        self.field_class = ConstantCRe\n",
    "        self.default_parameters = {'density_cm': 0.5}\n",
    "        self.parameter_ranges = {'density_cm': [0, 10]}\n",
    "        \n",
    "class ExponentialElectrons_Factory(GeneralFieldFactory):\n",
    "    def __init__(self, **kwargs):\n",
    "        super().__init__(**kwargs)\n",
    "        self.field_class = ExponentialElectrons\n",
    "        self.default_parameters = {'central_density_cm-3': 1,\n",
    "                                   'scale_radius_kpc': 3.0}\n",
    "        self.parameter_ranges = {'central_density_cm-3': [0,10],\n",
    "                                 'scale_radius_kpc': [0,10]}\n",
    "        \n",
    "class ConstantB_Factory(GeneralFieldFactory):\n",
    "    def __init__(self, **kwargs):\n",
    "        super().__init__(**kwargs)\n",
    "        self.field_class = ConstantB\n",
    "        self.default_parameters = {'Bx_muG': 0.0,\n",
    "                                   'By_muG': 0.0,\n",
    "                                   'Bz_muG': 0.0}\n",
    "        self.parameter_ranges = {'Bx_muG': [-30, 30],\n",
    "                                 'By_muG': [-30, 30],\n",
    "                                 'Bz_muG': [-10, 10]}"
   ]
  },
  {
   "cell_type": "markdown",
   "metadata": {},
   "source": [
    "We can now create instances of any of these. Which can return Field objects through the \n",
    "`generate` method."
   ]
  },
  {
   "cell_type": "code",
   "execution_count": null,
   "metadata": {},
   "outputs": [],
   "source": [
    "Bfactory = ConstantB_Factory(grid=cartesian_grid)\n",
    "newB = Bfactory.generate()\n",
    "newB.field_name, newB.parameters"
   ]
  },
  {
   "cell_type": "markdown",
   "metadata": {},
   "source": [
    "The parameters were all set to their default values.\n",
    "In practice, before the factory object is used, the pipeline \n",
    "first sets a list of *active* parameters \n",
    "(any inactive parameters keeps its default value)"
   ]
  },
  {
   "cell_type": "code",
   "execution_count": null,
   "metadata": {},
   "outputs": [],
   "source": [
    "Bfactory.active_parameters = ['Bx_muG']"
   ]
  },
  {
   "cell_type": "markdown",
   "metadata": {},
   "source": [
    "The `generate` method can then be called with a dictionary containing *scaled* *dimensionless* variables as values"
   ]
  },
  {
   "cell_type": "code",
   "execution_count": null,
   "metadata": {},
   "outputs": [],
   "source": [
    "dimensionless_scaled_variables = {'Bx_muG': 0.7}  # This is NOT 0.5 microGauss!\n",
    "newB = Bfactory.generate(variables=dimensionless_scaled_variables)\n",
    "newB.parameters"
   ]
  },
  {
   "cell_type": "markdown",
   "metadata": {},
   "source": [
    "We see that the value corresponds to the 70% of the range between -30 and 30 \\muG"
   ]
  },
  {
   "cell_type": "markdown",
   "metadata": {},
   "source": [
    "## Observables and Observable dictionaries\n",
    "\n"
   ]
  },
  {
   "cell_type": "markdown",
   "metadata": {},
   "source": [
    "## Simulator\n",
    "\n",
    "[Simulator objects](https://imagine-code.readthedocs.io/en/latest/imagine.simulators.html)\n",
    "are responsible for converting into observables the physical quantities computed/stored by the Field objects. \n"
   ]
  },
  {
   "cell_type": "code",
   "execution_count": null,
   "metadata": {},
   "outputs": [],
   "source": [
    "import astropy.units as u\n",
    "import astropy.constants as c\n",
    "import numpy as np"
   ]
  },
  {
   "cell_type": "code",
   "execution_count": null,
   "metadata": {},
   "outputs": [],
   "source": [
    "unit = 1/(u.GeV*u.m**2*u.s*u.steradian) \n",
    "unit"
   ]
  },
  {
   "cell_type": "code",
   "execution_count": null,
   "metadata": {},
   "outputs": [],
   "source": [
    "unit * (4*np.pi*u.steradian) / c.c \n"
   ]
  }
 ],
 "metadata": {
  "kernelspec": {
   "display_name": "Python (imagine)",
   "language": "python",
   "name": "imagine"
  },
  "language_info": {
   "codemirror_mode": {
    "name": "ipython",
    "version": 3
   },
   "file_extension": ".py",
   "mimetype": "text/x-python",
   "name": "python",
   "nbconvert_exporter": "python",
   "pygments_lexer": "ipython3",
   "version": "3.7.5"
  }
 },
 "nbformat": 4,
 "nbformat_minor": 4
}
