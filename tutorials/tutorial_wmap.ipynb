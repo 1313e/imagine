{
 "cells": [
  {
   "cell_type": "markdown",
   "metadata": {},
   "source": [
    "# Example pipeline\n",
    "\n",
    "In this tutorial, we make a slightly more realistic use of IMAGINE: to constrain a few parameters of (part of) the WMAP GMF model. Make sure you have already read  (at least) the [Basic elements of an IMAGINE pipeline](https://imagine-code.readthedocs.io/en/latest/tutorial_one.html) (aka [tutorial_one](https://github.com/IMAGINE-Consortium/imagine/blob/master/tutorials/tutorial_one.ipynb)) before proceeding.\n",
    "\n",
    "We will use Hammurabi as our Simulator and on Hammurabi's built-in models as Fields. We will construct mock data using Hammurabi itself. We will also show how to: \n",
    "\n",
    "* configure IMAGINE logging,\n",
    "* test the setup,\n",
    "* monitor to progress, and\n",
    "* save or load IMAGINE runs."
   ]
  },
  {
   "cell_type": "markdown",
   "metadata": {},
   "source": [
    "First, let us import the required packages/modules."
   ]
  },
  {
   "cell_type": "code",
   "execution_count": 1,
   "metadata": {},
   "outputs": [],
   "source": [
    "# Builtin \n",
    "import os\n",
    "# External packages \n",
    "import numpy as np\n",
    "import healpy as hp\n",
    "import astropy.units as u\n",
    "import corner\n",
    "import matplotlib.pyplot as plt\n",
    "import cmasher as cmr\n",
    "# IMAGINE\n",
    "import imagine as img\n",
    "import imagine.observables as img_obs\n",
    "## \"WMAP\" field factories\n",
    "from imagine.fields.hamx import BregLSA, BregLSAFactory\n",
    "from imagine.fields.hamx import TEregYMW16, TEregYMW16Factory\n",
    "from imagine.fields.hamx import CREAna, CREAnaFactory"
   ]
  },
  {
   "cell_type": "markdown",
   "metadata": {},
   "source": [
    "## Logging\n",
    "\n",
    "IMAGINE comes with logging features using Python's native [logging package](https://docs.python.org/3/library/logging.html). To enable them, one can simply set where one wants the log file to be saved and what is the level of the logging."
   ]
  },
  {
   "cell_type": "code",
   "execution_count": 2,
   "metadata": {},
   "outputs": [],
   "source": [
    "import logging\n",
    "\n",
    "logging.basicConfig(filename='tutorial_wmap.log', level=logging.INFO)"
   ]
  },
  {
   "cell_type": "markdown",
   "metadata": {},
   "source": [
    "Under `logging.INFO` level, IMAGINE will report major steps and log the likelihood evaluations. If one wants to trace a specific problem, one can use the `logging.DEBUG` level, which reports when most of the functions or methods are accessed."
   ]
  },
  {
   "cell_type": "markdown",
   "metadata": {},
   "source": [
    "## Preparing the mock data\n",
    "\n",
    "Let's make a very low resolution map of synchrotron total I and Faraday depth from the WMAP model, but without including a random compnent (this way, we can limit the ensemble size to $1$, speeding up the inference):"
   ]
  },
  {
   "cell_type": "code",
   "execution_count": 3,
   "metadata": {},
   "outputs": [
    {
     "name": "stdout",
     "output_type": "stream",
     "text": [
      "observable {}\n",
      "|-->  sync {'cue': '1', 'freq': '23', 'nside': '2'}\n",
      "|-->  faraday {'cue': '1', 'nside': '2'}\n"
     ]
    }
   ],
   "source": [
    "## Sets the resolution\n",
    "nside=2\n",
    "size = 12*nside**2 \n",
    "\n",
    "# Generates the fake datasets \n",
    "sync_dset = img_obs.SynchrotronHEALPixDataset(data=np.empty(size)*u.K, \n",
    "                                              frequency=23, typ='I')\n",
    "fd_dset = img_obs.FaradayDepthHEALPixDataset(data=np.empty(size)*u.rad/u.m**2)\n",
    "\n",
    "# Appends them to an Observables Dictionary\n",
    "trigger = img_obs.Measurements()\n",
    "trigger.append(dataset=sync_dset)\n",
    "trigger.append(dataset=fd_dset)\n",
    "\n",
    "# Prepares the Hammurabi simmulator for the mock generation\n",
    "mock_generator = img.simulators.Hammurabi(measurements=trigger)"
   ]
  },
  {
   "cell_type": "markdown",
   "metadata": {},
   "source": [
    "We will feed the `mock_generator` simulator with selected Dummy fields."
   ]
  },
  {
   "cell_type": "code",
   "execution_count": 4,
   "metadata": {},
   "outputs": [],
   "source": [
    "# BregLSA field\n",
    "breg_lsa = BregLSA(parameters={'b0':3, 'psi0': 27.0, 'psi1': 0.9, 'chi0': 25.0})\n",
    "\n",
    "# CREAna field\n",
    "cre_ana = CREAna(parameters={'alpha': 3.0, 'beta': 0.0, 'theta': 0.0,\n",
    "                             'r0': 5.0, 'z0': 1.0,\n",
    "                             'E0': 20.6, 'j0': 0.0217})\n",
    "\n",
    "# TEregYMW16 field\n",
    "tereg_ymw16 = TEregYMW16(parameters={})"
   ]
  },
  {
   "cell_type": "code",
   "execution_count": 5,
   "metadata": {},
   "outputs": [],
   "source": [
    "## Generate mock data (run hammurabi)\n",
    "outputs = mock_generator([breg_lsa, cre_ana, tereg_ymw16])"
   ]
  },
  {
   "cell_type": "markdown",
   "metadata": {},
   "source": [
    "To make a realistic mock, we add to these outputs, which where constructed from a model with known parameter, some noise, which assumed to be proportional to the average synchrotron intensity."
   ]
  },
  {
   "cell_type": "code",
   "execution_count": 6,
   "metadata": {
    "tags": [
     "nbval-ignore-output"
    ]
   },
   "outputs": [],
   "source": [
    "## Collect the outputs\n",
    "mockedI = outputs[('sync', 23.0, nside, 'I')].global_data[0]\n",
    "mockedRM = outputs[('fd', None, nside, None)].global_data[0]\n",
    "dm=np.mean(mockedI)\n",
    "dv=np.std(mockedI)\n",
    "\n",
    "## Add some noise that's just proportional to the average sync I by the factor err\n",
    "err=0.01\n",
    "dataI = (mockedI + np.random.normal(loc=0, scale=err*dm, size=size)) << u.K\n",
    "errorI = (err*dm) << u.K\n",
    "sync_dset = img_obs.SynchrotronHEALPixDataset(data=dataI, error=errorI,\n",
    "                                              frequency=23, typ='I')\n",
    "\n",
    "## Just 0.01*50 rad/m^2 of error for noise.  \n",
    "dataRM = (mockedRM + np.random.normal(loc=0.,scale=err*50.,size=12*nside**2))*u.rad/u.m/u.m\n",
    "errorRM = (err*50.) << u.rad/u.m**2\n",
    "fd_dset = img_obs.FaradayDepthHEALPixDataset(data=dataRM, error=errorRM)"
   ]
  },
  {
   "cell_type": "markdown",
   "metadata": {},
   "source": [
    "We are ready to include the above data in `Measurements` and  objects"
   ]
  },
  {
   "cell_type": "code",
   "execution_count": 7,
   "metadata": {
    "tags": [
     "nbval-ignore-output"
    ]
   },
   "outputs": [
    {
     "name": "stderr",
     "output_type": "stream",
     "text": [
      "/home/lfsr/.local/lib/python3.7/site-packages/healpy-1.12.8-py3.7-linux-x86_64.egg/healpy/projaxes.py:989: MatplotlibDeprecationWarning: \n",
      "The iterable function was deprecated in Matplotlib 3.1 and will be removed in 3.3. Use np.iterable instead.\n",
      "  if matplotlib.cbook.iterable(value):\n",
      "/home/lfsr/.local/lib/python3.7/site-packages/healpy-1.12.8-py3.7-linux-x86_64.egg/healpy/projaxes.py:959: MatplotlibDeprecationWarning: \n",
      "The iterable function was deprecated in Matplotlib 3.1 and will be removed in 3.3. Use np.iterable instead.\n",
      "  if matplotlib.cbook.iterable(value):\n"
     ]
    },
    {
     "data": {
      "image/png": "[encoded data removed]",
      "text/plain": [
       "<Figure size 432x288 with 4 Axes>"
      ]
     },
     "metadata": {
      "needs_background": "light"
     },
     "output_type": "display_data"
    }
   ],
   "source": [
    "mock_data = img_obs.Measurements(sync_dset, fd_dset)\n",
    "mock_cov = img_obs.Covariances(sync_dset, fd_dset)\n",
    "\n",
    "mock_data.show()"
   ]
  },
  {
   "cell_type": "markdown",
   "metadata": {},
   "source": [
    "## Assembling the pipeline\n",
    "\n",
    "After preparing our mock data, we can proceed with the set up of the IMAGINE pipeline. First, we initialize the `Likelihood`, using the mock observational data"
   ]
  },
  {
   "cell_type": "code",
   "execution_count": 8,
   "metadata": {},
   "outputs": [],
   "source": [
    "## Use an ensemble to estimate the galactic variance\n",
    "likelihood = img.likelihoods.EnsembleLikelihood(mock_data, mock_cov)"
   ]
  },
  {
   "cell_type": "markdown",
   "metadata": {},
   "source": [
    "Then, we prepare the `FieldFactory` list:"
   ]
  },
  {
   "cell_type": "code",
   "execution_count": 9,
   "metadata": {},
   "outputs": [],
   "source": [
    "## WMAP B-field, vary only b0 and psi0\n",
    "breg_factory = BregLSAFactory()\n",
    "breg_factory.active_parameters = ('b0', 'psi0')\n",
    "breg_factory.priors = {'b0':  img.priors.FlatPrior(xmin=0., xmax=10.), \n",
    "                      'psi0': img.priors.FlatPrior(xmin=0., xmax=50.)}\n",
    "## Fixed CR model\n",
    "cre_factory = CREAnaFactory()\n",
    "## Fixed FE model\n",
    "fereg_factory = TEregYMW16Factory()\n",
    "\n",
    "# Final Field factory list\n",
    "factory_list = [breg_factory, cre_factory, fereg_factory]"
   ]
  },
  {
   "cell_type": "markdown",
   "metadata": {},
   "source": [
    "We initialize the `Simulator`, in this case: `Hammurabi` ."
   ]
  },
  {
   "cell_type": "code",
   "execution_count": 10,
   "metadata": {},
   "outputs": [
    {
     "name": "stdout",
     "output_type": "stream",
     "text": [
      "observable {}\n",
      "|-->  sync {'cue': '1', 'freq': '23', 'nside': '2'}\n",
      "|-->  faraday {'cue': '1', 'nside': '2'}\n"
     ]
    }
   ],
   "source": [
    "simulator = img.simulators.Hammurabi(measurements=mock_data)"
   ]
  },
  {
   "cell_type": "markdown",
   "metadata": {},
   "source": [
    "Finally, we initialize and setup the `Pipeline` itself, using the `Multinest` sampler."
   ]
  },
  {
   "cell_type": "code",
   "execution_count": 11,
   "metadata": {},
   "outputs": [],
   "source": [
    "# Assembles the pipeline using MultiNest as sampler\n",
    "pipeline = img.pipelines.MultinestPipeline(run_directory='../runs/tutorial_example/',\n",
    "                                           simulator=simulator, \n",
    "                                           show_progress_reports=True,\n",
    "                                           factory_list=factory_list, \n",
    "                                           likelihood=likelihood, \n",
    "                                           ensemble_size=1, n_evals_report=15)\n",
    "pipeline.sampling_controllers = {'n_live_points': 500}"
   ]
  },
  {
   "cell_type": "markdown",
   "metadata": {},
   "source": [
    "We set a run directory, `'runs/tutorial_example'` for storing this state of the run and MultiNest's chains. This is *strongly recommended*, as it makes it easier to resume a crashed or interrupted IMAGINE run.\n",
    "\n",
    "Since there are no stochastic fields in this model, we chose an ensemble size of 1."
   ]
  },
  {
   "cell_type": "markdown",
   "metadata": {},
   "source": [
    "## Checking the setup\n",
    "\n",
    "Before running a heavy job, it is a good idea to be able to roughly estimate how long it will take (so that one can e.g. decide whether one will read emails, prepare some coffee, or take a week of holidays while waiting for the results).\n",
    "\n",
    "One thing that can be done is checking how long the code takes to do an individual likelihood function evaluation (note that each of these include the whole ensemble).  The final likelihood function handled to the sampler can be accessed through the internal method `_likelihood_function`, which takes an array of parameter values. Below we time a randomly picked point (the timing was done on a regular, 8 core, personal computer)."
   ]
  },
  {
   "cell_type": "code",
   "execution_count": 12,
   "metadata": {
    "tags": [
     "nbval-skip"
    ]
   },
   "outputs": [
    {
     "name": "stdout",
     "output_type": "stream",
     "text": [
      "CPU times: user 45.1 ms, sys: 23.4 ms, total: 68.5 ms\n",
      "Wall time: 12.8 s\n"
     ]
    },
    {
     "data": {
      "text/plain": [
       "-63231183.19347995"
      ]
     },
     "execution_count": 12,
     "metadata": {},
     "output_type": "execute_result"
    }
   ],
   "source": [
    "%time pipeline._likelihood_function([5,25])"
   ]
  },
  {
   "cell_type": "markdown",
   "metadata": {},
   "source": [
    "This is not a small amount of time.  Note that thousands of evaluations will be needed to be able to estimate the evidence (and/or posterior distributions). \n",
    "Fortunately, this tutorial comes with the results from an interrupted run, reducing the amount of waiting in case someone is interested in seeing the pipeline in action.\n",
    "\n",
    "## Running on a jupyter notebook\n",
    "\n",
    "While running the pipeline in a jupyter notebook, a simple progress report is generated every `pipeline.n_evals_report` evaluations of the likelihood. In the nested sampling case, this shows the parameter choices for rejected (\"dead\") points  as a function of log \"prior volume\", $\\ln X$, and the distributions of both rejected points and \"live\" points (the latter in red).\n",
    "\n",
    "One may allow the pipeline to run (for many hours) to completion or simply skip the next cell.  The last section of this tutorial *loads* a completed version this very same pipeline from disk, if one is curious about how the results look like."
   ]
  },
  {
   "cell_type": "code",
   "execution_count": null,
   "metadata": {
    "tags": [
     "nbval-skip"
    ]
   },
   "outputs": [],
   "source": [
    "results=pipeline()"
   ]
  },
  {
   "cell_type": "markdown",
   "metadata": {},
   "source": [
    "## Monitoring progress when running as a script\n",
    "\n",
    "When IMAGINE is launched using a script (e.g. when running on a cluster) it is still possible to monitor the progress by inspecting the file `progress_report.pdf` in the selected run directory. "
   ]
  },
  {
   "cell_type": "markdown",
   "metadata": {},
   "source": [
    "## Saving and loading\n",
    "\n",
    "The `pipeline` is automatically saved to the specified `run_directory` immediately before and immediately after running the sampler. It can also be saved, at any time, using the `pipeline.save()`.\n",
    "\n",
    "Being able to save and load IMAGINE Pipelines is particularly convenient if one has to \n",
    "alternate between a workstation and an HPC cluster: one can start preparing the setup on the workstation, using a jupyter notebook; then submit a script to the cluster which runs the previously saved pipeline; then reopen the pipeline on a jupyter notebook to inspect the results.\n",
    "\n",
    "To illustrate these tools, let us load a completed version of the above example:"
   ]
  },
  {
   "cell_type": "code",
   "execution_count": 14,
   "metadata": {},
   "outputs": [],
   "source": [
    "previous_pipeline = img.load_pipeline('../runs/tutorial_example_completed/')"
   ]
  },
  {
   "cell_type": "markdown",
   "metadata": {},
   "source": [
    "This object should contain (in its attributes) all the information one can need to run, manipulate or analise an IMAGINE pipeline. For example, one can inspect which field factories were used in this run"
   ]
  },
  {
   "cell_type": "code",
   "execution_count": 15,
   "metadata": {},
   "outputs": [
    {
     "name": "stdout",
     "output_type": "stream",
     "text": [
      "Field factories used: breg_lsa, cre_ana, tereg_ymw16, "
     ]
    }
   ],
   "source": [
    "print('Field factories used: ', end='')\n",
    "for field_factory in previous_pipeline.factory_list:\n",
    "    print(field_factory.name, end=', ')"
   ]
  },
  {
   "cell_type": "markdown",
   "metadata": {},
   "source": [
    "Or, perhaps one may be interested in finding which simulator was used"
   ]
  },
  {
   "cell_type": "code",
   "execution_count": 16,
   "metadata": {
    "tags": [
     "nbval-ignore-output"
    ]
   },
   "outputs": [
    {
     "data": {
      "text/plain": [
       "<imagine.simulators.hammurabi.Hammurabi at 0x7f2b518c6390>"
      ]
     },
     "execution_count": 16,
     "metadata": {},
     "output_type": "execute_result"
    }
   ],
   "source": [
    "previous_pipeline.simulator"
   ]
  },
  {
   "cell_type": "markdown",
   "metadata": {},
   "source": [
    "The previously selected observational data can be accessed inspecting the Likelihood object which was supplied to the Pipeline:"
   ]
  },
  {
   "cell_type": "code",
   "execution_count": 17,
   "metadata": {},
   "outputs": [
    {
     "name": "stdout",
     "output_type": "stream",
     "text": [
      "The Measurements object keys are:\n",
      "[('sync', 23, 2, 'I'), ('fd', None, 2, None)]\n"
     ]
    }
   ],
   "source": [
    "print('The Measurements object keys are:')\n",
    "print(list(previous_pipeline.likelihood.measurement_dict.keys()))"
   ]
  },
  {
   "cell_type": "markdown",
   "metadata": {},
   "source": [
    "And one can, of course, also *run the pipeline*"
   ]
  },
  {
   "cell_type": "code",
   "execution_count": 18,
   "metadata": {
    "tags": [
     "nbval-skip"
    ]
   },
   "outputs": [
    {
     "name": "stdout",
     "output_type": "stream",
     "text": [
      "  analysing data from ../runs/tutorial_example_completed/chains/multinest_.txt\n"
     ]
    },
    {
     "data": {
      "text/markdown": [
       "\n",
       "**Posterior report:**"
      ],
      "text/plain": [
       "<IPython.core.display.Markdown object>"
      ]
     },
     "metadata": {},
     "output_type": "display_data"
    },
    {
     "data": {
      "image/png": "[encoded data removed]",
      "text/plain": [
       "<Figure size 396x396 with 4 Axes>"
      ]
     },
     "metadata": {
      "needs_background": "light"
     },
     "output_type": "display_data"
    },
    {
     "data": {
      "text/latex": [
       "$\\displaystyle \\\\ \\text{ breg_lsa_b0: }\\; 3.0^{+0.0}_{-0.0}\\,\\mathrm{}\\\\\\\\ \\text{ breg_lsa_psi0: }\\; 27.^{+0.}_{-0.}\\,\\mathrm{}\\\\$"
      ],
      "text/plain": [
       "<IPython.core.display.Math object>"
      ]
     },
     "metadata": {},
     "output_type": "display_data"
    },
    {
     "data": {
      "text/markdown": [
       "**Evidence report:**"
      ],
      "text/plain": [
       "<IPython.core.display.Markdown object>"
      ]
     },
     "metadata": {},
     "output_type": "display_data"
    },
    {
     "data": {
      "text/latex": [
       "$\\displaystyle \\log\\mathcal{{ Z }} = 591.4\\pm 0.2$"
      ],
      "text/plain": [
       "<IPython.core.display.Math object>"
      ]
     },
     "metadata": {},
     "output_type": "display_data"
    }
   ],
   "source": [
    "previous_pipeline();"
   ]
  },
  {
   "cell_type": "markdown",
   "metadata": {},
   "source": [
    "## Best-fit model\n",
    "\n",
    "Frequently, it is useful (or needed) to inspect (or re-use) the best-fit choice of parameters found. For covenience, this can be done using the property `pipeline.median_model`, which generates a list of Fields corresponding to the median values of all the paramters varied in the inference."
   ]
  },
  {
   "cell_type": "code",
   "execution_count": 19,
   "metadata": {},
   "outputs": [
    {
     "name": "stdout",
     "output_type": "stream",
     "text": [
      "\n",
      " breg_lsa\n",
      "\t b0 \t 2.999437841442873\n",
      "\t psi0 \t 26.984560266287204\n",
      "\t psi1 \t 0.9\n",
      "\t chi0 \t 25.0\n",
      "\n",
      " cre_ana\n",
      "\t alpha \t 3.0\n",
      "\t beta \t 0.0\n",
      "\t theta \t 0.0\n",
      "\t r0 \t 5.0\n",
      "\t z0 \t 1.0\n",
      "\t E0 \t 20.6\n",
      "\t j0 \t 0.0217\n",
      "\n",
      " tereg_ymw16\n"
     ]
    }
   ],
   "source": [
    "# Reads the list of Fields corresponding the best-fit model\n",
    "best_fit_fields_list = previous_pipeline.median_model\n",
    "\n",
    "# Prints Field name and parameter choices \n",
    "# (NB this combines default and active parameters)\n",
    "for field in best_fit_fields_list:\n",
    "    print('\\n',field.name)\n",
    "    for p, v in field.parameters.items():\n",
    "        print('\\t',p,'\\t',v)"
   ]
  },
  {
   "cell_type": "markdown",
   "metadata": {},
   "source": [
    "This list of Fields can, then, be directly used as argument by any compatible Simulator object. \n",
    "\n",
    "Often, however, one is interested in inspecting the Simulation associated with the best-fit model under\n",
    "the exact same conditions (including random seeds for stochastic components) used in the original pipeline run.\n",
    "For this, we can use the `median_simulation` Pipeline property."
   ]
  },
  {
   "cell_type": "code",
   "execution_count": 20,
   "metadata": {},
   "outputs": [],
   "source": [
    "simulated_maps = previous_pipeline.median_simulation"
   ]
  },
  {
   "cell_type": "markdown",
   "metadata": {},
   "source": [
    "This allows us to *visually inspect* the outcomes of the run, comparing them to the original observational data\n",
    "(or mock data, in the case of this tutorial), and spot any larger issues."
   ]
  },
  {
   "cell_type": "code",
   "execution_count": 21,
   "metadata": {
    "tags": [
     "nbval-ignore-output"
    ]
   },
   "outputs": [
    {
     "name": "stderr",
     "output_type": "stream",
     "text": [
      "/home/lrodrigues/miniconda3/envs/imagine/lib/python3.7/site-packages/healpy/projaxes.py:209: MatplotlibDeprecationWarning: Passing parameters norm and vmin/vmax simultaneously is deprecated since 3.3 and will become an error two minor releases later. Please pass vmin/vmax directly to the norm when creating it.\n",
      "  **kwds\n"
     ]
    },
    {
     "data": {
      "image/png": "[encoded data removed]",
      "text/plain": [
       "<Figure size 720x288 with 4 Axes>"
      ]
     },
     "metadata": {
      "needs_background": "light"
     },
     "output_type": "display_data"
    },
    {
     "data": {
      "image/png": "[encoded data removed]",
      "text/plain": [
       "<Figure size 720x288 with 4 Axes>"
      ]
     },
     "metadata": {
      "needs_background": "light"
     },
     "output_type": "display_data"
    }
   ],
   "source": [
    "plt.figure(figsize=(10,4))\n",
    "simulated_maps.show()\n",
    "plt.suptitle('Simulated maps')\n",
    "plt.figure(figsize=(10,4))\n",
    "plt.suptitle('Mock maps')\n",
    "mock_data.show()"
   ]
  }
 ],
 "metadata": {
  "kernelspec": {
   "display_name": "Python (imagine)",
   "language": "python",
   "name": "imagine"
  },
  "language_info": {
   "codemirror_mode": {
    "name": "ipython",
    "version": 3
   },
   "file_extension": ".py",
   "mimetype": "text/x-python",
   "name": "python",
   "nbconvert_exporter": "python",
   "pygments_lexer": "ipython3",
   "version": "3.7.8"
  }
 },
 "nbformat": 4,
 "nbformat_minor": 4
}
